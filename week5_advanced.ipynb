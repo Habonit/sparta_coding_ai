{
 "cells": [
  {
   "cell_type": "markdown",
   "metadata": {},
   "source": [
    "Week5 Advanced 심화과제\n",
    "\n",
    "- 논문요약\n",
    "\n",
    "    1) 필수 지시사항은 논문을 요약하는 것입니다.\n",
    "\n",
    "    2) 이를 조금 확장시켜, rag에 관한 여러가지 논문을 읽어와 rag에 관한 질문은 검색된 문서 기반으로 대답하고 일상 대화는 context에 상관없이 대답하는 챗봇을 만들 예정입니다."
   ]
  },
  {
   "cell_type": "code",
   "execution_count": 1,
   "metadata": {},
   "outputs": [],
   "source": [
    "import os\n",
    "import openai\n",
    "from dotenv import load_dotenv\n",
    "\n",
    "load_dotenv(dotenv_path=\"config.env\")\n",
    "openai.api_key = os.getenv(\"OPENAI_API_KEY\")"
   ]
  },
  {
   "cell_type": "markdown",
   "metadata": {},
   "source": [
    "## 1 [My Code] Preparation"
   ]
  },
  {
   "cell_type": "markdown",
   "metadata": {},
   "source": [
    "### 1.1 [My Code] Data Load\n",
    "\n",
    "- pdf를 불러올 땐 unstructuredfileloader를 사용합니다"
   ]
  },
  {
   "cell_type": "code",
   "execution_count": 2,
   "metadata": {},
   "outputs": [
    {
     "name": "stderr",
     "output_type": "stream",
     "text": [
      "/tmp/ipykernel_1079/3843052403.py:8: LangChainDeprecationWarning: The class `UnstructuredFileLoader` was deprecated in LangChain 0.2.8 and will be removed in 1.0. An updated version of the class exists in the :class:`~langchain-unstructured package and should be used instead. To use it run `pip install -U :class:`~langchain-unstructured` and import as `from :class:`~langchain_unstructured import UnstructuredLoader``.\n",
      "  documents = [UnstructuredFileLoader(file_path).load() for file_path in path.glob('*.pdf')]\n"
     ]
    }
   ],
   "source": [
    "from pathlib import Path\n",
    "\n",
    "from langchain.document_loaders import UnstructuredFileLoader\n",
    "from langchain.text_splitter import RecursiveCharacterTextSplitter\n",
    "\n",
    "# pdf를 불러올 땐 unstructuredFileLoader를 사용합니다\n",
    "path = Path('./data/essay')\n",
    "documents = [UnstructuredFileLoader(file_path).load() for file_path in path.glob('*.pdf')]\n"
   ]
  },
  {
   "cell_type": "markdown",
   "metadata": {},
   "source": [
    "### 1.2 [My Code] TextSplitter"
   ]
  },
  {
   "cell_type": "code",
   "execution_count": 3,
   "metadata": {},
   "outputs": [],
   "source": [
    "splitter = RecursiveCharacterTextSplitter(chunk_size=1000, chunk_overlap=200)\n",
    "splitted_docs = []\n",
    "for document in documents:\n",
    "    splitted_docs.extend(splitter.split_documents(document))"
   ]
  },
  {
   "cell_type": "markdown",
   "metadata": {},
   "source": [
    "### 1.3 [My Code] 문장 생성 모델 선언"
   ]
  },
  {
   "cell_type": "code",
   "execution_count": 4,
   "metadata": {},
   "outputs": [],
   "source": [
    "from langchain.callbacks import StreamingStdOutCallbackHandler\n",
    "from langchain_openai import ChatOpenAI\n",
    "\n",
    "# 문장 생성기\n",
    "llm = ChatOpenAI(\n",
    "    model='gpt-4o-mini',\n",
    "    temperature=0.7,\n",
    "    max_tokens=1024,\n",
    "    )"
   ]
  },
  {
   "cell_type": "markdown",
   "metadata": {},
   "source": [
    "### 1.4 [My Code] 임베딩 모델 선언\n",
    "\n",
    "- 여기선 CacheBackedEmbeddings을 사용하여, 인풋이 같을 때엔 다시 임베딩을 하지 않고 캐시된 정보를 사용하도록 수정합니다.,"
   ]
  },
  {
   "cell_type": "code",
   "execution_count": 5,
   "metadata": {},
   "outputs": [],
   "source": [
    "from langchain_chroma import Chroma\n",
    "from langchain_openai import OpenAIEmbeddings\n",
    "from langchain.embeddings import CacheBackedEmbeddings\n",
    "from langchain.storage import LocalFileStore\n",
    "\n",
    "\n",
    "# OpenAI Embeddings 초기화\n",
    "# https://platform.openai.com/docs/guides/embeddings\n",
    "# 임베딩 전용\n",
    "embeddings = OpenAIEmbeddings(\n",
    "    api_key=openai.api_key,\n",
    "    model=\"text-embedding-3-small\"\n",
    ")\n",
    "\n",
    "# 이렇게 하면 동일한 파일에 대해서, 매번 임베딩하지 않습니다.\n",
    "cache_dir = LocalFileStore(\".cache/files\")\n",
    "cached_embeddings = CacheBackedEmbeddings.from_bytes_store(\n",
    "    embeddings, cache_dir\n",
    ")\n",
    "\n",
    "# Chroma 벡터 저장소 생성 및 로컬 저장 경로 지정\n",
    "vectorstore = Chroma.from_documents(\n",
    "    documents=splitted_docs,\n",
    "    embedding=cached_embeddings,\n",
    "    collection_name=\"my_db\"\n",
    ")\n",
    "\n",
    "\n",
    "# 유사 문서는 20개를 찾도록 합니다.\n",
    "chroma_retriever = vectorstore.as_retriever(search_type='similarity', search_kwargs={'k': 20})"
   ]
  },
  {
   "cell_type": "markdown",
   "metadata": {},
   "source": [
    "### 1.5 [My Code] 프롬프트\n",
    "\n",
    "- LLM 교수와 학생의 질의응답 상황을 가정합니다.\n",
    "\n",
    "- rag와 관련 없는 질문은 context와 상관없이 대답하며 rag와 관련된 질문은 context 내에서 답변하도록 prompt를 구성합니다."
   ]
  },
  {
   "cell_type": "code",
   "execution_count": 6,
   "metadata": {},
   "outputs": [],
   "source": [
    "from langchain.prompts import ChatPromptTemplate\n",
    "\n",
    "prompt_template = \"\"\"\n",
    "당신은 대학 LLM 교수입니다. 아래 지침에 따라 학생의 질문에 답해주세요.\n",
    "\n",
    "1. 문맥에서 답을 명확히 찾아내야 하며, **rag(Relevant Answer Generation)**에 관한 질문은 반드시 제공된 문맥에만 근거해서 답변해야 합니다.  \n",
    "   - rag에 관한 질문에서 문맥만으로 답을 찾을 수 없으면, \"아직 저도 부족해서 공부가 더 필요할 거 같아요. 같이 공부해봐요.\"라고 대답하세요.  \n",
    "2. rag와 관련 없는 일상적인 대화에는 자유롭게 답변하되, 친절하고 대화체로 작성하세요.  \n",
    "3. 모든 답변은 5문장을 넘지 않아야 하며, rag 관련 답변에는 반드시 \"잘 이해되었나요?\"라는 질문을 포함하세요.  \n",
    "4. 학생이 이해하기 쉽게 설명하며, 항상 친절한 교수님의 톤을 유지하세요.\n",
    "\n",
    "문맥:  \n",
    "{context}\n",
    "\n",
    "학생의 질문:  \n",
    "{question}\n",
    "\n",
    "답변:\n",
    "\"\"\"\n",
    "chat_prompt_template = ChatPromptTemplate.from_template(prompt_template)"
   ]
  },
  {
   "cell_type": "markdown",
   "metadata": {},
   "source": [
    "## 2 [My Code] 챗봇\n",
    "\n",
    "- 문맥은 5개만 기억하도록 설정합니다.\n",
    "\n",
    "- streamlit 등에선 따로 session이 존재하지만 파이썬 자체로 구현하기 위해 deque 데이터타입을 사용합니다."
   ]
  },
  {
   "cell_type": "code",
   "execution_count": 12,
   "metadata": {},
   "outputs": [
    {
     "name": "stdout",
     "output_type": "stream",
     "text": [
      "LLM 수업 시작\n",
      "\n",
      "Student: 안녕하세요! 오늘 수업 과목은 무엇인가요?\n",
      "\n",
      "LLM Professor: 안녕하세요! 오늘 수업은 Retrieval-Augmented Generation(RAG)에 대한 내용을 다룰 예정이에요. RAG의 기본 개념과 성능 평가, 그리고 다양한 응용 분야에 대해 이야기할 거예요. 이 기술이 어떻게 LLM의 성능을 향상시킬 수 있는지, 그리고 최신 연구 동향도 살펴볼 거예요. 궁금한 점이 있으면 언제든지 물어보세요!\n",
      "\n",
      "Student: rag의 정의는 뭔가요?\n",
      "\n",
      "LLM Professor: RAG, 즉 Retrieval-Augmented Generation은 사용자의 입력 쿼리를 기반으로 외부 데이터베이스에서 정보를 검색하고, 이를 활용하여 응답을 생성하는 기술입니다. 이 과정은 크게 세 가지 요소로 구성됩니다: 인덱싱, 검색, 생성입니다. RAG는 LLM(대형 언어 모델)의 성능을 향상시키는 데 도움을 주며, 특히 최신 정보에 대한 접근성을 높입니다. 이를 통해 보다 정확하고 관련성 높은 응답을 제공할 수 있습니다. 잘 이해되었나요?\n",
      "\n",
      "Student: 잘 이해 되었어요, 오늘 점심은 뭐먹을까요?\n",
      "\n",
      "LLM Professor: 점심 메뉴를 고르는 건 항상 즐거운 고민이죠! 혹시 좋아하는 음식이 있으신가요? 아니면 새로운 음식을 시도해보고 싶으신가요? 요즘 인기 있는 메뉴로는 샌드위치나 파스타, 또는 건강한 샐러드도 좋을 것 같아요. 함께 고민해보면 좋을 것 같아요! 어떤 게 마음에 드세요?\n",
      "\n",
      "Student: rag는 rapid align generation의 약자 인가요?\n",
      "\n",
      "LLM Professor: RAG는 Rapid Align Generation의 약자가 아니라 Retrieval-Augmented Generation의 약자입니다. RAG는 사용자의 입력을 기반으로 외부 데이터베이스에서 정보를 검색하고, 이를 통해 응답을 생성하는 기술입니다. 이 과정에서 RAG는 LLM의 성능을 향상시키고 최신 정보에 대한 접근성을 높여줍니다. 혹시 더 궁금한 점이 있으신가요? 잘 이해되었나요?\n",
      "\n",
      "Student: rag의 방법론을 자세히 설명해주세요\n",
      "\n",
      "LLM Professor: 아직 저도 부족해서 공부가 더 필요할 거 같아요. 같이 공부해봐요. 잘 이해되었나요?\n",
      "\n",
      "Student: rag의 중요 개념이 어떻게 되나요?\n",
      "\n",
      "LLM Professor: 아직 저도 부족해서 공부가 더 필요할 거 같아요. 같이 공부해봐요. 잘 이해되었나요?\n",
      "\n",
      "Student: 종료\n",
      "\n",
      "LLM Professor: 아직 저도 부족해서 공부가 더 필요할 거 같아요. 같이 공부해봐요. 잘 이해되었나요?\n",
      "\n",
      "LLM Professor: 오늘 수업은 여기서 마치겠습니다.\n",
      "\n",
      "LLM 수업 끝\n",
      "\n"
     ]
    }
   ],
   "source": [
    "from collections import deque\n",
    "\n",
    "class ChatBot:\n",
    "    def __init__(self, retriever, llm, prompt_template, history_limit=5):\n",
    "        self.retriever = retriever\n",
    "        self.llm = llm\n",
    "        self.prompt_template = prompt_template\n",
    "        self.history = deque(maxlen=history_limit)\n",
    "\n",
    "    # docs: Document 객체의 list\n",
    "    @staticmethod\n",
    "    def _format_docs(docs):\n",
    "        return \"\\n\\n\".join(f\"Essay Source: {doc.metadata['source'].split('/')[-1]}, Content: {doc.page_content}\" for doc in docs)\n",
    "    \n",
    "    def create_prompt(self, user_message):\n",
    "        # 처음엔 context가 없어서 None으로 들어갑니다.\n",
    "        # 따라서 초반 서사가 쌓이기 전까진 retrieved_docs만 들어갑니다.\n",
    "        context = \"\\n\\n\".join([f\"Student: {msg['Student']}\\nLLM Professor: {msg['LLM Professor']}\" for msg in self.history])\n",
    "        retrieved_docs = self.retriever.invoke(user_message)\n",
    "\n",
    "        # 반환된 document를 전처리합니다.\n",
    "        retrieved_context = ChatBot._format_docs(retrieved_docs)\n",
    "        \n",
    "        return self.prompt_template.invoke({\n",
    "            \"context\": context + \"\\n\\n\" + retrieved_context,\n",
    "            \"question\": user_message\n",
    "        })\n",
    "\n",
    "    def chat(self, user_message):\n",
    "        user_message = user_message.lower()\n",
    "        user_prompt = self.create_prompt(user_message)\n",
    "        response = self.llm.invoke(user_prompt)\n",
    "        self.history.append({\"Student\": user_message, \"LLM Professor\": response})\n",
    "        return response\n",
    "    \n",
    "chatbot = ChatBot(retriever=chroma_retriever, llm=llm, prompt_template=chat_prompt_template)\n",
    "print(\"LLM 수업 시작\", end=\"\\n\\n\")\n",
    "while True:\n",
    "    user_input = input(\"Student: \")\n",
    "    if user_input.lower() in [\"종료!\"]:\n",
    "        print(\"LLM Professor: 오늘 수업은 여기서 마치겠습니다.\", end=\"\\n\\n\")\n",
    "        print(\"LLM 수업 끝\", end=\"\\n\\n\")\n",
    "        break\n",
    "    response = chatbot.chat(user_input)\n",
    "    print(f\"Student: {user_input}\", end=\"\\n\\n\")\n",
    "    print(f\"LLM Professor: {response.content}\", end=\"\\n\\n\")"
   ]
  },
  {
   "cell_type": "code",
   "execution_count": null,
   "metadata": {},
   "outputs": [],
   "source": []
  }
 ],
 "metadata": {
  "kernelspec": {
   "display_name": ".env",
   "language": "python",
   "name": "python3"
  },
  "language_info": {
   "codemirror_mode": {
    "name": "ipython",
    "version": 3
   },
   "file_extension": ".py",
   "mimetype": "text/x-python",
   "name": "python",
   "nbconvert_exporter": "python",
   "pygments_lexer": "ipython3",
   "version": "3.9.21"
  }
 },
 "nbformat": 4,
 "nbformat_minor": 2
}
