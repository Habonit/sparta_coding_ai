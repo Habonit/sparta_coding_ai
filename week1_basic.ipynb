{
  "cells": [
    {
      "cell_type": "markdown",
      "metadata": {
        "id": "OPJenlrhihrh"
      },
      "source": [
        "# 1주차 기본 과제\n",
        "- MNIST 데이터셋 다중 분류\n",
        "\n",
        "- 구현 환경: 로컬 환경 rtx 4060 gpu만 사용하여 진행.\n",
        "\n",
        "- python version: 3.9.21\n",
        "\n",
        "- torch version: 2.2.1 \n",
        "\n",
        "- 전체 코드 작동 시간: 10분 미만"
      ]
    },
    {
      "cell_type": "markdown",
      "metadata": {},
      "source": [
        "## [MY CODE] : HyperParameters\n",
        "\n",
        "- 해당 노트 전체에서 사용되는 하이퍼 파라미터, 혹은 주요 변수를 모아두었습니다. "
      ]
    },
    {
      "cell_type": "code",
      "execution_count": 2,
      "metadata": {
        "id": "6lXVfXoDtoQh"
      },
      "outputs": [],
      "source": [
        "import torch\n",
        "random_state = 42\n",
        "device = \"cuda\" if torch.cuda.is_available else \"cpu\"\n",
        "batch_size = 256\n",
        "n_dim = 1024\n",
        "lr = 1e-3\n",
        "n_epochs = 100"
      ]
    },
    {
      "cell_type": "markdown",
      "metadata": {
        "id": "pF-1zQvmiult"
      },
      "source": [
        "## [MY CODE] Load Dataset\n",
        "\n",
        "- 데이터셋을 로드하는 코드 cell 입니다. \n",
        "\n",
        "- train, val, test 데이터셋을 구성하여 훈련 중간 val로 점검을 하며 추후 테스트 데이터셋으로 마지막 metric을 찍어볼 예정입니다. \n",
        "\n",
        "- train 개수: 60000, val 개수: 8000, val 개수: 2000\n",
        "\n",
        "- 그리고 transform은 추후에 dataset을 만들 때 사용할 예정입니다."
      ]
    },
    {
      "cell_type": "code",
      "execution_count": 3,
      "metadata": {
        "colab": {
          "base_uri": "https://localhost:8080/"
        },
        "id": "KAYlqPaRt6ti",
        "outputId": "67e51d96-85b4-4129-efc8-7938006afdd4"
      },
      "outputs": [
        {
          "name": "stdout",
          "output_type": "stream",
          "text": [
            "Train Dataset Shape:\n",
            "x_train:(60000, 1, 28, 28), y_train:60000\n",
            "\n",
            "Val Dataset Shape:\n",
            "x_val:(8000, 1, 28, 28), y_val:8000\n",
            "\n",
            "Test Dataset Shape:\n",
            "x_test:(2000, 1, 28, 28), y_test:2000\n",
            "\n"
          ]
        }
      ],
      "source": [
        "from sklearn.model_selection import train_test_split \n",
        "import torchvision\n",
        "\n",
        "# train dataset\n",
        "trainset = torchvision.datasets.MNIST(\n",
        "    root='./data',\n",
        "    train=True,\n",
        "    download=True,\n",
        ")\n",
        "testset = torchvision.datasets.MNIST(\n",
        "    root='./data',\n",
        "    train=False,\n",
        "    download=True,\n",
        "    # transform=transform\n",
        ")\n",
        "\n",
        "test_size= 0.2\n",
        "x_train = trainset.data.view(-1, 1, 28, 28)\n",
        "y_train = trainset.targets\n",
        "x_test = testset.data.view(-1, 1, 28, 28)\n",
        "y_test = testset.targets\n",
        "x_val, x_test, y_val, y_test = train_test_split(\n",
        "    x_test, \n",
        "    y_test, \n",
        "    test_size=test_size,\n",
        "    random_state=random_state\n",
        ")\n",
        "# Check Dataset Shape\n",
        "print(f\"Train Dataset Shape:\\nx_train:{x_train.numpy().shape}, y_train:{y_train.numpy().shape[0]}\", end=\"\\n\\n\")\n",
        "print(f\"Val Dataset Shape:\\nx_val:{x_val.numpy().shape}, y_val:{y_val.numpy().shape[0]}\", end=\"\\n\\n\")\n",
        "print(f\"Test Dataset Shape:\\nx_test:{x_test.numpy().shape}, y_test:{y_test.numpy().shape[0]}\", end=\"\\n\\n\")"
      ]
    },
    {
      "cell_type": "markdown",
      "metadata": {},
      "source": [
        "## [MY CODE] Check Label Distribution\n",
        "\n",
        "- train, val, test의 라벨 분포도 입니다.\n",
        "\n",
        "- 치우친 데이터 없이 모두 고르게 되어 있습니다. 다중분류 상황에서 문제가 되는 라벨 불균형을 고려하지 않을 예정입니다.\n",
        "\n",
        "- 라벨의 수는 0~9까지 10입니다. 따라서 다중 모델의 최종 layer의 차원 수는 10입니다. "
      ]
    },
    {
      "cell_type": "code",
      "execution_count": 4,
      "metadata": {},
      "outputs": [
        {
          "data": {
            "text/html": [
              "<div>\n",
              "<style scoped>\n",
              "    .dataframe tbody tr th:only-of-type {\n",
              "        vertical-align: middle;\n",
              "    }\n",
              "\n",
              "    .dataframe tbody tr th {\n",
              "        vertical-align: top;\n",
              "    }\n",
              "\n",
              "    .dataframe thead th {\n",
              "        text-align: right;\n",
              "    }\n",
              "</style>\n",
              "<table border=\"1\" class=\"dataframe\">\n",
              "  <thead>\n",
              "    <tr style=\"text-align: right;\">\n",
              "      <th></th>\n",
              "      <th>train</th>\n",
              "      <th>val</th>\n",
              "      <th>test</th>\n",
              "    </tr>\n",
              "  </thead>\n",
              "  <tbody>\n",
              "    <tr>\n",
              "      <th>0</th>\n",
              "      <td>0.098717</td>\n",
              "      <td>0.097125</td>\n",
              "      <td>0.1015</td>\n",
              "    </tr>\n",
              "    <tr>\n",
              "      <th>1</th>\n",
              "      <td>0.112367</td>\n",
              "      <td>0.114875</td>\n",
              "      <td>0.1080</td>\n",
              "    </tr>\n",
              "    <tr>\n",
              "      <th>2</th>\n",
              "      <td>0.099300</td>\n",
              "      <td>0.102375</td>\n",
              "      <td>0.1065</td>\n",
              "    </tr>\n",
              "    <tr>\n",
              "      <th>3</th>\n",
              "      <td>0.102183</td>\n",
              "      <td>0.100250</td>\n",
              "      <td>0.1040</td>\n",
              "    </tr>\n",
              "    <tr>\n",
              "      <th>4</th>\n",
              "      <td>0.097367</td>\n",
              "      <td>0.095875</td>\n",
              "      <td>0.1075</td>\n",
              "    </tr>\n",
              "    <tr>\n",
              "      <th>5</th>\n",
              "      <td>0.090350</td>\n",
              "      <td>0.089750</td>\n",
              "      <td>0.0870</td>\n",
              "    </tr>\n",
              "    <tr>\n",
              "      <th>6</th>\n",
              "      <td>0.098633</td>\n",
              "      <td>0.094750</td>\n",
              "      <td>0.1000</td>\n",
              "    </tr>\n",
              "    <tr>\n",
              "      <th>7</th>\n",
              "      <td>0.104417</td>\n",
              "      <td>0.105125</td>\n",
              "      <td>0.0935</td>\n",
              "    </tr>\n",
              "    <tr>\n",
              "      <th>8</th>\n",
              "      <td>0.097517</td>\n",
              "      <td>0.098500</td>\n",
              "      <td>0.0930</td>\n",
              "    </tr>\n",
              "    <tr>\n",
              "      <th>9</th>\n",
              "      <td>0.099150</td>\n",
              "      <td>0.101375</td>\n",
              "      <td>0.0990</td>\n",
              "    </tr>\n",
              "  </tbody>\n",
              "</table>\n",
              "</div>"
            ],
            "text/plain": [
              "      train       val    test\n",
              "0  0.098717  0.097125  0.1015\n",
              "1  0.112367  0.114875  0.1080\n",
              "2  0.099300  0.102375  0.1065\n",
              "3  0.102183  0.100250  0.1040\n",
              "4  0.097367  0.095875  0.1075\n",
              "5  0.090350  0.089750  0.0870\n",
              "6  0.098633  0.094750  0.1000\n",
              "7  0.104417  0.105125  0.0935\n",
              "8  0.097517  0.098500  0.0930\n",
              "9  0.099150  0.101375  0.0990"
            ]
          },
          "execution_count": 4,
          "metadata": {},
          "output_type": "execute_result"
        }
      ],
      "source": [
        "import pandas as pd\n",
        "df = [\n",
        "    pd.Series(label.numpy())\n",
        "    .value_counts(normalize=True)\n",
        "    .sort_index(ascending=True)\n",
        "        for label in [y_train, y_val, y_test]\n",
        "]\n",
        "df = pd.concat(df, axis=1)\n",
        "df.columns = ['train', 'val', 'test'] \n",
        "df"
      ]
    },
    {
      "cell_type": "markdown",
      "metadata": {
        "id": "p-GqH7_ZjVMs"
      },
      "source": [
        "## [MY CODE] Check Label Image\n",
        "\n",
        "- train, val, test를 모두 검증하기 위하여 코드를 조금 수정하여 num을 입력하면 해당 샘플의 이미지와 라벨을 출력합니다."
      ]
    },
    {
      "cell_type": "code",
      "execution_count": 5,
      "metadata": {},
      "outputs": [
        {
          "data": {
            "image/png": "[encoded data removed]",
            "text/plain": [
              "<Figure size 640x480 with 3 Axes>"
            ]
          },
          "metadata": {},
          "output_type": "display_data"
        }
      ],
      "source": [
        "from matplotlib import pyplot as plt\n",
        "\n",
        "def check_data(num, *args):\n",
        "    for i, (sort, x, y) in enumerate(args):\n",
        "        plt.subplot(1,len(args),i+1)\n",
        "        plt.imshow(x[num][0], cmap='gray')\n",
        "        plt.title(f\"{sort} Label: {y[num]}\")\n",
        "        plt.axis('off')\n",
        "\n",
        "# 몇 번째 샘플을 보여줄 것인지 결정하는 인자\n",
        "num=0\n",
        "check_data(\n",
        "    num,\n",
        "    (\"train\", x_train, y_train), \n",
        "    (\"val\", x_val, y_val), \n",
        "    (\"test\", x_test, y_test)\n",
        ")"
      ]
    },
    {
      "cell_type": "markdown",
      "metadata": {
        "id": "udm8wDBsi301"
      },
      "source": [
        "## [MY CODE] Make Torch Dataset\n",
        "\n",
        "- torch dataset을 구성하여 dataloader에 올리는 것을 기반으로 하였습니다. \n",
        "- 또한 transform 과정에서 데이터 전처리에 해당하는 표준화를 수행하였습니다. \n"
      ]
    },
    {
      "cell_type": "markdown",
      "metadata": {},
      "source": [
        "## [FEEDBACK] \n",
        "- val, test 데이터셋을 표준화 할 때 평균과 표준편차를 train 데이터 것으로 해야하는지, 아니면 val, test 데이터로 해야 하는지 궁금합니다.\n",
        "\n",
        "- 전해 듣기로는 data leakage를 막기 위해서, test 데이터의 정보는 일절 활용하지 않고 train의 정보로만 해야한다라고 들어서 일단 이렇게 수행했습니다.\n",
        "\n",
        "- 그러나 test 데이터의 평균과 표준편차를 사용하는 것이 data leakage에 해당하는지 의문이 들어서 질문을 드렸습니다."
      ]
    },
    {
      "cell_type": "code",
      "execution_count": 6,
      "metadata": {},
      "outputs": [
        {
          "name": "stdout",
          "output_type": "stream",
          "text": [
            "Dataset Keys: dict_keys(['train', 'val', 'test'])\n",
            "\n",
            "train len: 60000\n",
            "\n",
            "val len: 8000\n",
            "\n",
            "test len: 2000\n",
            "\n"
          ]
        }
      ],
      "source": [
        "from torch.utils.data import Dataset\n",
        "import torchvision.transforms as transforms\n",
        "import numpy as np\n",
        "\n",
        "class dastaset(Dataset):\n",
        "    def __init__(self, x, y, transform=None):\n",
        "        torch.manual_seed(random_state)\n",
        "        self.x = x\n",
        "        self.y = y\n",
        "        self.transform = transform\n",
        "        \n",
        "    def __getitem__(self, idx):\n",
        "        sample_x, sample_y = self.x[idx], self.y[idx]\n",
        "        if self.transform:\n",
        "            sample_x = self.transform(sample_x)\n",
        "        return sample_x, sample_y\n",
        "    \n",
        "    def __len__(self):\n",
        "        return len(self.x)\n",
        "\n",
        "# data leakage가 의심되어 train 데이터의 평균과 표준편차로 모든 데이터를 표준화했습니다.\n",
        "transform = transforms.Compose([\n",
        "    transforms.Lambda(lambda x: x.to(dtype=torch.float)),\n",
        "    transforms.Normalize((x_train.float().mean() / 255.0,), (x_train.float().std() / 255.0,)),  \n",
        "])\n",
        "\n",
        "dataset_dict = {name:dastaset(x,y,transform)\n",
        "                    for name,x,y in [\n",
        "                            ('train', x_train, y_train),\n",
        "                            ('val', x_val, y_val),\n",
        "                            ('test', x_test, y_test)\n",
        "                        ]\n",
        "                }   \n",
        "print(f\"Dataset Keys: {dataset_dict.keys()}\", end='\\n\\n')\n",
        "for name in dataset_dict.keys():\n",
        "    print(f\"{name} len: {len(dataset_dict[name])}\", end='\\n\\n')"
      ]
    },
    {
      "cell_type": "markdown",
      "metadata": {
        "id": "z4Qyrm4WlzWt"
      },
      "source": [
        "## [MY CODE] Make Torch Dataloader\n",
        "\n",
        "- train, val, test 데이터 가지고 모두 데이터 로더를 구성하였습니다.\n",
        "\n",
        "- 코드를 간결하게 작성하기 위해 dict 형태로 묶었습니다.\n",
        "\n",
        "- val, test는 shuffle을 하면 안된다는 조건이 있었으므로, shuffle_map이라는 dict을 사용해 지정하였습니다.\n",
        "\n",
        "- 각각의 데이터로더가 잘 작동한는 것을 print를 통해 확인하였습니다."
      ]
    },
    {
      "cell_type": "code",
      "execution_count": 7,
      "metadata": {},
      "outputs": [
        {
          "name": "stdout",
          "output_type": "stream",
          "text": [
            "train input shape: torch.Size([256, 1, 28, 28])\n",
            "train output shape: torch.Size([256])\n",
            "train batch nums: 235\n",
            "\n",
            "val input shape: torch.Size([256, 1, 28, 28])\n",
            "val output shape: torch.Size([256])\n",
            "val batch nums: 32\n",
            "\n",
            "test input shape: torch.Size([256, 1, 28, 28])\n",
            "test output shape: torch.Size([256])\n",
            "test batch nums: 8\n",
            "\n"
          ]
        }
      ],
      "source": [
        "shuffle_map = {'train':True, 'val': False, 'test': False}\n",
        "\n",
        "dataloader_dict = {name: torch.utils.data.DataLoader(\n",
        "                            dataset_dict[name],\n",
        "                            batch_size = batch_size,\n",
        "                            shuffle=shuffle_map[name],\n",
        "                        )\n",
        "                        for name in dataset_dict.keys()\n",
        "                    }\n",
        "\n",
        "for name in dataloader_dict.keys():\n",
        "    dataiter = iter(dataloader_dict[name])\n",
        "    images, labels = next(dataiter)\n",
        "    print(\n",
        "        f\"{name} input shape: {images.shape}\",\n",
        "        f\"{name} output shape: {labels.shape}\",\n",
        "        f\"{name} batch nums: {len(dataloader_dict[name])}\",\n",
        "        sep='\\n',\n",
        "        end='\\n\\n'\n",
        "    )"
      ]
    },
    {
      "cell_type": "markdown",
      "metadata": {
        "id": "h0ZY5mDimRUK"
      },
      "source": [
        "## [MY CODE] Build Model\n",
        "\n",
        "- 모델의 구조가 동적으로 변화하는 상황에서도 대응할 수 있도록 model config라는 dict을 따로 선언하였습니다.\n",
        "\n",
        "- 내부에서는 hidden layers와 final layer를 구분하여 model summary가 더 가시적으로 보이도록 하였습니다. \n",
        "\n",
        "- 현재 다중 분류 클래스스 개수가 10개인데, 마지막 출력이 1로 되어있는 것이 이상하다고 생각하여 10으로 정정했습니다. \n",
        "\n",
        "- 다중분류 상황에서 loss 함수는 crossentropy를 사용하고 마지막 계층의 활성화 함수는 softmax여야 하지만, crossentropy 함수가 softmax를 계산 과정으로 품고 있기 때문에, 마지막 계층의 활성화함수는 꺼두었습니다.\n",
        "\n",
        "- 참조: https://stackoverflow.com/questions/55675345/should-i-use-softmax-as-output-when-using-cross-entropy-loss-in-pytorch"
      ]
    },
    {
      "cell_type": "code",
      "execution_count": 8,
      "metadata": {},
      "outputs": [
        {
          "name": "stdout",
          "output_type": "stream",
          "text": [
            "Model(\n",
            "  (hidden_layers): ModuleDict(\n",
            "    (layer1_layer): Linear(in_features=784, out_features=1024, bias=True)\n",
            "    (layer1_activation): ReLU()\n",
            "    (layer2_layer): Linear(in_features=1024, out_features=1024, bias=True)\n",
            "    (layer2_activation): ReLU()\n",
            "  )\n",
            "  (final_layer): ModuleDict(\n",
            "    (final_layer): Linear(in_features=1024, out_features=10, bias=True)\n",
            "  )\n",
            ")\n"
          ]
        }
      ],
      "source": [
        "from torch import nn\n",
        "\n",
        "class Model(nn.Module):\n",
        "    def __init__(self, config):\n",
        "        super().__init__()\n",
        "        self.hidden_layers = nn.ModuleDict() \n",
        "        for i, (name, (input_dim, output_dim)) in enumerate(config.items()):\n",
        "            if i + 1 != len(config):\n",
        "                self.hidden_layers[f\"{name}_layer\"] = nn.Linear(input_dim, output_dim)\n",
        "                self.hidden_layers[f\"{name}_activation\"] = nn.ReLU()\n",
        "\n",
        "        self.final_layer = nn.ModuleDict() \n",
        "        self.final_layer[f\"{list(config.keys())[-1]}_layer\"] = nn.Linear(list(config.values())[-1][0], list(config.values())[-1][-1])\n",
        "\n",
        "    def forward(self, x):\n",
        "        x = x.flatten(start_dim=1)\n",
        "        for layer in self.hidden_layers.values():\n",
        "            x = layer(x)\n",
        "        for layer in self.final_layer.values():\n",
        "            x = layer(x)\n",
        "        return x\n",
        "\n",
        "input_dim = dataset_dict['train'][0][0].shape[1] * dataset_dict['train'][0][0].shape[2]\n",
        "model_config = {\n",
        "    \"layer1\":(input_dim, n_dim),\n",
        "    \"layer2\":(n_dim, n_dim),\n",
        "    \"final\":(n_dim, 10)\n",
        "}\n",
        "model = Model(model_config)\n",
        "model = model.to(device)\n",
        "print(model)"
      ]
    },
    {
      "cell_type": "markdown",
      "metadata": {},
      "source": [
        "## [MY CODE] Optimizer and Loss function\n",
        "\n",
        "- optimizer는 그대로 SGD를 사용하였습니다.\n",
        "\n",
        "- 수정된 사항으로 criterion으로 CrossEntropy 함수를 사용하였습니다."
      ]
    },
    {
      "cell_type": "markdown",
      "metadata": {},
      "source": [
        "## [FEEDBACK]\n",
        "\n",
        "- onehot encoding을 다중 분류 과정에서 해야 한다고 알고 있습니다.\n",
        "\n",
        "- 그러나 CrossEntropy는 정수 인코딩된 클래스를 요구받는다고 합니다.\n",
        "\n",
        "- onehot encoding을 안한 것이 metric을 저하시키진 않는지 궁금합니다."
      ]
    },
    {
      "cell_type": "code",
      "execution_count": 9,
      "metadata": {
        "id": "ypS0TcOlvBhZ"
      },
      "outputs": [],
      "source": [
        "from torch.optim import SGD\n",
        "\n",
        "optimizer = SGD(model.parameters(), lr=lr)\n",
        "criterion = nn.CrossEntropyLoss()"
      ]
    },
    {
      "cell_type": "markdown",
      "metadata": {},
      "source": [
        "## [MY CODE] Start Train\n",
        "\n",
        "- train과 val 데이터로더를 통해 훈련을 하고 있습니다.\n",
        "\n",
        "- 특징1: loss를 계산할 때 배치당 loss로 평균을 내어서, validation 과정에서 도출 된 loss와 같은 기준선에서 비교가 가능하도록 scaling을 하였습니다.\n",
        "\n",
        "- 특징2: validation을 매 epoch이 아니라 5 epoch 마다 하여서, 추세를 확인하는 용도로 사용하였습니다.\n",
        "\n",
        "- 특징3: 다중분류이므로 accuracy와 f1_score를 같이 가져왔습니다. 이 때 sklearn 라이브러리를 활용하여 custom 구현에 의한 오류 발생 여지를 줄였습니다."
      ]
    },
    {
      "cell_type": "markdown",
      "metadata": {},
      "source": [
        "## [LOG] Train, Val Metric\n",
        "\n",
        "- 훈련 과정에서 5 epoch 마다의 metric을 모두 찍고 있습니다."
      ]
    },
    {
      "cell_type": "markdown",
      "metadata": {},
      "source": [
        "## [FEEDBACK]\n",
        "\n",
        "- train과 val 과정에서 한 에폭을 돌았을 때 로스의 평균을 내었는데 1에폭에서 loss가 큰 차이가 났습니다.\n",
        "\n",
        "- 평균을 냄으로써 1에폭당 평균 로스라는, 같은 스케일로 변환을 했는데 초기에 큰차이가 났습니다.\n",
        "\n",
        "- 이에 대한 잠정적인 결론으로는, train은 학습이 되는 과정 중에서, val은 최소 1에폭이 학습된 이후에 찍힌 metric이다보니 같은 스케일로 맞췄음에도 값에서 차이가 보인 것이라 생각하였습니다.\n",
        "\n",
        "- 이것이 맞는지 확인을 받고 싶었습니다."
      ]
    },
    {
      "cell_type": "code",
      "execution_count": 10,
      "metadata": {
        "colab": {
          "base_uri": "https://localhost:8080/"
        },
        "id": "TryX1hewvNiB",
        "outputId": "4e4a9282-d49a-40ff-c26c-d00fb7c0af79"
      },
      "outputs": [
        {
          "name": "stdout",
          "output_type": "stream",
          "text": [
            "Train Epoch   1 | Loss: 2.873 | Accuracy: 0.931 | F1_Score: 0.930\n",
            "Val | Loss: 0.302 | Accuracy: 0.931 | F1_Score: 0.930\n",
            "\n",
            "Train Epoch   6 | Loss: 0.031 | Accuracy: 0.956 | F1_Score: 0.956\n",
            "Val | Loss: 0.179 | Accuracy: 0.956 | F1_Score: 0.956\n",
            "\n",
            "Train Epoch  11 | Loss: 0.008 | Accuracy: 0.960 | F1_Score: 0.959\n",
            "Val | Loss: 0.172 | Accuracy: 0.960 | F1_Score: 0.959\n",
            "\n",
            "Train Epoch  16 | Loss: 0.004 | Accuracy: 0.962 | F1_Score: 0.962\n",
            "Val | Loss: 0.168 | Accuracy: 0.962 | F1_Score: 0.962\n",
            "\n",
            "Train Epoch  21 | Loss: 0.003 | Accuracy: 0.962 | F1_Score: 0.962\n",
            "Val | Loss: 0.168 | Accuracy: 0.962 | F1_Score: 0.962\n",
            "\n",
            "Train Epoch  26 | Loss: 0.002 | Accuracy: 0.964 | F1_Score: 0.963\n",
            "Val | Loss: 0.166 | Accuracy: 0.964 | F1_Score: 0.963\n",
            "\n",
            "Train Epoch  31 | Loss: 0.002 | Accuracy: 0.964 | F1_Score: 0.964\n",
            "Val | Loss: 0.165 | Accuracy: 0.964 | F1_Score: 0.964\n",
            "\n",
            "Train Epoch  36 | Loss: 0.001 | Accuracy: 0.964 | F1_Score: 0.964\n",
            "Val | Loss: 0.165 | Accuracy: 0.964 | F1_Score: 0.964\n",
            "\n",
            "Train Epoch  41 | Loss: 0.001 | Accuracy: 0.965 | F1_Score: 0.965\n",
            "Val | Loss: 0.165 | Accuracy: 0.965 | F1_Score: 0.965\n",
            "\n",
            "Train Epoch  46 | Loss: 0.001 | Accuracy: 0.965 | F1_Score: 0.964\n",
            "Val | Loss: 0.165 | Accuracy: 0.965 | F1_Score: 0.964\n",
            "\n",
            "Train Epoch  51 | Loss: 0.001 | Accuracy: 0.965 | F1_Score: 0.965\n",
            "Val | Loss: 0.164 | Accuracy: 0.965 | F1_Score: 0.965\n",
            "\n",
            "Train Epoch  56 | Loss: 0.001 | Accuracy: 0.965 | F1_Score: 0.965\n",
            "Val | Loss: 0.164 | Accuracy: 0.965 | F1_Score: 0.965\n",
            "\n",
            "Train Epoch  61 | Loss: 0.001 | Accuracy: 0.966 | F1_Score: 0.965\n",
            "Val | Loss: 0.164 | Accuracy: 0.966 | F1_Score: 0.965\n",
            "\n",
            "Train Epoch  66 | Loss: 0.001 | Accuracy: 0.966 | F1_Score: 0.965\n",
            "Val | Loss: 0.164 | Accuracy: 0.966 | F1_Score: 0.965\n",
            "\n",
            "Train Epoch  71 | Loss: 0.001 | Accuracy: 0.966 | F1_Score: 0.966\n",
            "Val | Loss: 0.163 | Accuracy: 0.966 | F1_Score: 0.966\n",
            "\n",
            "Train Epoch  76 | Loss: 0.001 | Accuracy: 0.967 | F1_Score: 0.966\n",
            "Val | Loss: 0.163 | Accuracy: 0.967 | F1_Score: 0.966\n",
            "\n",
            "Train Epoch  81 | Loss: 0.001 | Accuracy: 0.966 | F1_Score: 0.966\n",
            "Val | Loss: 0.163 | Accuracy: 0.966 | F1_Score: 0.966\n",
            "\n",
            "Train Epoch  86 | Loss: 0.000 | Accuracy: 0.967 | F1_Score: 0.966\n",
            "Val | Loss: 0.163 | Accuracy: 0.967 | F1_Score: 0.966\n",
            "\n",
            "Train Epoch  91 | Loss: 0.000 | Accuracy: 0.967 | F1_Score: 0.967\n",
            "Val | Loss: 0.163 | Accuracy: 0.967 | F1_Score: 0.967\n",
            "\n",
            "Train Epoch  96 | Loss: 0.000 | Accuracy: 0.967 | F1_Score: 0.966\n",
            "Val | Loss: 0.163 | Accuracy: 0.967 | F1_Score: 0.966\n",
            "\n"
          ]
        }
      ],
      "source": [
        "from sklearn.metrics import accuracy_score, f1_score\n",
        "\n",
        "train_metric_dict = {'loss':[],'accuracy':[],'f1_score':[]}\n",
        "val_metric_dict = {'loss':[],'accuracy':[],'f1_score':[]}\n",
        "for epoch in range(n_epochs):\n",
        "  total_loss_lst = []\n",
        "  total_preds_lst=[]\n",
        "  total_labels_lst=[]\n",
        "\n",
        "  for inputs, labels in dataloader_dict['train']:\n",
        "    model.train()\n",
        "    model.zero_grad()\n",
        "    inputs, labels = inputs.to(device), labels.to(device).long() \n",
        "    preds = model(inputs)\n",
        "    loss = criterion(preds, labels)\n",
        "\n",
        "    preds_labels = torch.max(preds, dim=1).indices.detach().cpu().numpy()\n",
        "    total_preds_lst.extend(preds_labels)\n",
        "    labels = labels.detach().cpu().numpy()\n",
        "    total_labels_lst.extend(labels)\n",
        "\n",
        "    loss.backward()\n",
        "    optimizer.step()\n",
        "    total_loss_lst.append(loss.item())\n",
        "    \n",
        "  accuracy = accuracy_score(preds_labels, labels)\n",
        "  f1 = f1_score(preds_labels, labels, average='macro')\n",
        "  total_loss = np.mean(total_loss_lst)\n",
        "  \n",
        "  train_metric_dict['loss'].append(total_loss)\n",
        "  train_metric_dict['accuracy'].append(accuracy)\n",
        "  train_metric_dict['f1_score'].append(f1)\n",
        "\n",
        "  if (epoch+1) % 5 == 1:\n",
        "    val_loss_lst = []\n",
        "    val_preds_lst=[]\n",
        "    val_labels_lst=[]\n",
        "    for inputs, labels in dataloader_dict['val']:\n",
        "      model.zero_grad()\n",
        "      inputs, labels = inputs.to(device), labels.to(device).long() \n",
        "      with torch.no_grad():\n",
        "        model.eval()\n",
        "        preds = model(inputs)\n",
        "      loss = criterion(preds, labels)\n",
        "      preds_labels = torch.max(preds, dim=1).indices.detach().cpu().numpy()\n",
        "      val_preds_lst.extend(preds_labels)\n",
        "      labels = labels.detach().cpu().numpy()\n",
        "      val_labels_lst.extend(labels)\n",
        "      val_loss_lst.append(loss.item())\n",
        "    accuracy = accuracy_score(val_preds_lst, val_labels_lst)\n",
        "    f1 = f1_score(val_preds_lst, val_labels_lst, average='macro')\n",
        "    val_loss = np.mean(val_loss_lst)\n",
        "\n",
        "    val_metric_dict['loss'].append((epoch,val_loss))\n",
        "    val_metric_dict['accuracy'].append((epoch,accuracy))\n",
        "    val_metric_dict['f1_score'].append((epoch,f1))\n",
        "    print(f\"Train Epoch {epoch+1:3d} | Loss: {total_loss:.3f} | Accuracy: {accuracy:.3f} | F1_Score: {f1:.3f}\")\n",
        "    print(f\"Val | Loss: {val_loss:.3f} | Accuracy: {accuracy:.3f} | F1_Score: {f1:.3f}\", end='\\n\\n')"
      ]
    },
    {
      "cell_type": "markdown",
      "metadata": {},
      "source": [
        "## [MY CODE] Analize Metrics\n",
        "\n",
        "- train과 val의 loss, accuracy, f1을 plot하였습니다."
      ]
    },
    {
      "cell_type": "markdown",
      "metadata": {},
      "source": [
        "## [FEEDBACK]\n",
        "\n",
        "- val loss가 내려가다가 정지하는 모양이 나타납니다. \n",
        "\n",
        "- val loss가 오르지는 않는데 이것이 overfitting의 형태로 볼 수 있을까요?"
      ]
    },
    {
      "cell_type": "code",
      "execution_count": 13,
      "metadata": {},
      "outputs": [
        {
          "data": {
            "image/png": "[encoded data removed]",
            "text/plain": [
              "<Figure size 1000x800 with 3 Axes>"
            ]
          },
          "metadata": {},
          "output_type": "display_data"
        }
      ],
      "source": [
        "plt.figure(figsize=(10,8))\n",
        "plt.subplot(3,1,1)\n",
        "plt.plot(range(len(train_metric_dict['loss'])), train_metric_dict['loss'], label='train')\n",
        "\n",
        "x = [point[0] for point in val_metric_dict['loss']]\n",
        "y = [point[1] for point in val_metric_dict['loss']]\n",
        "\n",
        "plt.plot(x, y, linestyle='-', marker='o', markersize=5, color='red', label='test')\n",
        "plt.grid(alpha=0.3)\n",
        "plt.ylim(0.0,1.0)\n",
        "plt.legend()\n",
        "plt.title(\"Train_loss vs Val_loss\")\n",
        "\n",
        "plt.subplot(3,1,2)\n",
        "plt.plot(range(len(train_metric_dict['accuracy'])), train_metric_dict['accuracy'], label='train')\n",
        "\n",
        "x = [point[0] for point in val_metric_dict['accuracy']]\n",
        "y = [point[1] for point in val_metric_dict['accuracy']]\n",
        "\n",
        "plt.plot(x, y, linestyle='-', marker='o', markersize=5, color='red', label='test')  # s는 점의 크기\n",
        "plt.grid(alpha=0.3)\n",
        "plt.legend()\n",
        "plt.title(\"Train_accuracy vs Val_accuracy\")\n",
        "\n",
        "plt.subplot(3,1,3)\n",
        "plt.plot(range(len(train_metric_dict['f1_score'])), train_metric_dict['f1_score'], label='train')\n",
        "\n",
        "x = [point[0] for point in val_metric_dict['f1_score']]\n",
        "y = [point[1] for point in val_metric_dict['f1_score']]\n",
        "\n",
        "plt.plot(x, y, linestyle='-', marker='o', markersize=5, color='red', label='test')\n",
        "plt.grid(alpha=0.3)\n",
        "plt.legend()\n",
        "plt.title(\"Train_f1 vs Val_f1\")\n",
        "plt.tight_layout()\n",
        "plt.show()"
      ]
    },
    {
      "cell_type": "markdown",
      "metadata": {},
      "source": [
        "## [MY CODE] Test Metric\n",
        "\n",
        "- test 데이터셋을 가지고 최종 metric을 찍어보았습니다.\n",
        "\n",
        "- val dataset과 비슷한 metric이 나온 것을 보니 훈련이 잘 된 것으로 판단이 되었습니다. "
      ]
    },
    {
      "cell_type": "markdown",
      "metadata": {},
      "source": [
        "## [LOG] Test Metric"
      ]
    },
    {
      "cell_type": "code",
      "execution_count": 14,
      "metadata": {},
      "outputs": [
        {
          "name": "stdout",
          "output_type": "stream",
          "text": [
            "Test | Loss: 0.164 | Accuracy: 0.965 | F1_Score: 0.965\n",
            "\n"
          ]
        }
      ],
      "source": [
        "test_loss_lst = []\n",
        "test_preds_lst=[]\n",
        "test_labels_lst=[]\n",
        "for inputs, labels in dataloader_dict['test']:\n",
        "    model.zero_grad()\n",
        "    inputs, labels = inputs.to(device), labels.to(device).long() \n",
        "    with torch.no_grad():\n",
        "        model.eval()\n",
        "        preds = model(inputs)\n",
        "    loss = criterion(preds, labels)\n",
        "    preds_labels = torch.max(preds, dim=1).indices.detach().cpu().numpy()\n",
        "    test_preds_lst.extend(preds_labels)\n",
        "    labels = labels.detach().cpu().numpy()\n",
        "    test_labels_lst.extend(labels)\n",
        "    test_loss_lst.append(loss.item())\n",
        "accuracy = accuracy_score(test_preds_lst, test_labels_lst)\n",
        "f1 = f1_score(test_preds_lst, test_labels_lst, average='macro')\n",
        "test_loss = np.mean(test_loss_lst)\n",
        "\n",
        "print(f\"Test | Loss: {test_loss:.3f} | Accuracy: {accuracy:.3f} | F1_Score: {f1:.3f}\", end='\\n\\n')"
      ]
    },
    {
      "cell_type": "code",
      "execution_count": null,
      "metadata": {},
      "outputs": [],
      "source": []
    }
  ],
  "metadata": {
    "accelerator": "GPU",
    "colab": {
      "gpuType": "T4",
      "provenance": []
    },
    "kernelspec": {
      "display_name": ".env",
      "language": "python",
      "name": "python3"
    },
    "language_info": {
      "codemirror_mode": {
        "name": "ipython",
        "version": 3
      },
      "file_extension": ".py",
      "mimetype": "text/x-python",
      "name": "python",
      "nbconvert_exporter": "python",
      "pygments_lexer": "ipython3",
      "version": "3.9.21"
    }
  },
  "nbformat": 4,
  "nbformat_minor": 0
}
