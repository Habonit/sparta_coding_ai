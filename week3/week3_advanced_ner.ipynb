{
 "cells": [
  {
   "cell_type": "markdown",
   "metadata": {},
   "source": [
    "# Week3 심화과제 : Ner"
   ]
  },
  {
   "cell_type": "markdown",
   "metadata": {},
   "source": [
    "## 1 [My Code] Preparation"
   ]
  },
  {
   "cell_type": "markdown",
   "metadata": {},
   "source": [
    "### 1.1 [My Code] Dataset Load"
   ]
  },
  {
   "cell_type": "code",
   "execution_count": 8,
   "metadata": {},
   "outputs": [
    {
     "name": "stdout",
     "output_type": "stream",
     "text": [
      "Warning: Looks like you're using an outdated `kagglehub` version (installed: 0.3.6), please consider upgrading to the latest version (0.3.11).\n"
     ]
    }
   ],
   "source": [
    "import kagglehub\n",
    "import chardet\n",
    "from pathlib import Path\n",
    "import pandas as pd\n",
    "import torch\n",
    "\n",
    "path = kagglehub.dataset_download(\"debasisdotcom/name-entity-recognition-ner-dataset\")\n",
    "dir = Path(path)\n",
    "path_lst = [path for path in dir.rglob('*')]\n",
    "data_path = path_lst[0]\n",
    "\n",
    "device = 'cuda' if torch.cuda.is_available() else 'cpu'\n",
    "# 캐글 데이터셋이 인코딩 정보가 일반적이지 않아 load과정에서 다음 인코딩을 검출하야 로드드\n",
    "with open(data_path, 'rb') as file:\n",
    "    encoding = chardet.detect(file.read())"
   ]
  },
  {
   "cell_type": "markdown",
   "metadata": {},
   "source": [
    "### 1.2 [My Code] Model Config"
   ]
  },
  {
   "cell_type": "code",
   "execution_count": 9,
   "metadata": {},
   "outputs": [],
   "source": [
    "learning_rate=2e-5\n",
    "per_device_train_batch_size=16\n",
    "per_device_eval_batch_size=16\n",
    "# 테스트 환경에선 3에폭만 진행합니다.\n",
    "num_train_epochs=3\n",
    "weight_decay=0.01"
   ]
  },
  {
   "cell_type": "markdown",
   "metadata": {},
   "source": [
    "### 1.3 [My Code] 데이터셋 설명"
   ]
  },
  {
   "cell_type": "code",
   "execution_count": 10,
   "metadata": {},
   "outputs": [],
   "source": [
    "# 데이터셋입니다.\n",
    "# 테스트 환경에선 1000개 샘플만 수행합니다. \n",
    "df = pd.read_csv(data_path, encoding='Windows-1252').iloc[:1000]"
   ]
  },
  {
   "cell_type": "code",
   "execution_count": 11,
   "metadata": {},
   "outputs": [],
   "source": [
    "\n",
    "# ner과 pos에 대한 설명이 있는 파일입니다. \n",
    "ner_df = pd.read_csv(\"data/NER_tags.csv\")\n",
    "ner_unique = list(ner_df['NER 태그'][1:].apply(lambda x: x.split('-')[1]).unique())\n",
    "ner_unique.append(\"O\")\n",
    "index_result = []\n",
    "for unique_tag in ner_unique:\n",
    "    for i, tag in enumerate(ner_df['NER 태그'].to_list()):\n",
    "        if len(tag) > 1 and unique_tag==tag.split('-')[1]:\n",
    "            index_result.append(i)\n",
    "\n",
    "        elif len(tag) == 1 and unique_tag==tag:\n",
    "            index_result.append(i)\n",
    "        \n",
    "\n",
    "ner_df = ner_df.iloc[index_result].reset_index(drop=True)\n",
    "pos_df = pd.read_csv(\"data/POS_tags.csv\")"
   ]
  },
  {
   "cell_type": "code",
   "execution_count": 12,
   "metadata": {},
   "outputs": [
    {
     "data": {
      "text/html": [
       "<div>\n",
       "<style scoped>\n",
       "    .dataframe tbody tr th:only-of-type {\n",
       "        vertical-align: middle;\n",
       "    }\n",
       "\n",
       "    .dataframe tbody tr th {\n",
       "        vertical-align: top;\n",
       "    }\n",
       "\n",
       "    .dataframe thead th {\n",
       "        text-align: right;\n",
       "    }\n",
       "</style>\n",
       "<table border=\"1\" class=\"dataframe\">\n",
       "  <thead>\n",
       "    <tr style=\"text-align: right;\">\n",
       "      <th></th>\n",
       "      <th>NER 태그</th>\n",
       "      <th>설명</th>\n",
       "    </tr>\n",
       "  </thead>\n",
       "  <tbody>\n",
       "    <tr>\n",
       "      <th>0</th>\n",
       "      <td>B-geo</td>\n",
       "      <td>위치(지리적 개체)의 시작</td>\n",
       "    </tr>\n",
       "    <tr>\n",
       "      <th>1</th>\n",
       "      <td>I-geo</td>\n",
       "      <td>위치(지리적 개체)의 내부</td>\n",
       "    </tr>\n",
       "    <tr>\n",
       "      <th>2</th>\n",
       "      <td>B-tim</td>\n",
       "      <td>시간 표현의 시작</td>\n",
       "    </tr>\n",
       "    <tr>\n",
       "      <th>3</th>\n",
       "      <td>I-tim</td>\n",
       "      <td>시간 표현의 내부</td>\n",
       "    </tr>\n",
       "    <tr>\n",
       "      <th>4</th>\n",
       "      <td>B-org</td>\n",
       "      <td>조직(Organization)의 시작</td>\n",
       "    </tr>\n",
       "    <tr>\n",
       "      <th>5</th>\n",
       "      <td>I-org</td>\n",
       "      <td>조직(Organization)의 내부</td>\n",
       "    </tr>\n",
       "    <tr>\n",
       "      <th>6</th>\n",
       "      <td>I-per</td>\n",
       "      <td>사람(Person)의 내부</td>\n",
       "    </tr>\n",
       "    <tr>\n",
       "      <th>7</th>\n",
       "      <td>B-per</td>\n",
       "      <td>사람(Person)의 시작</td>\n",
       "    </tr>\n",
       "    <tr>\n",
       "      <th>8</th>\n",
       "      <td>B-gpe</td>\n",
       "      <td>정치적/지리적 단위의 시작</td>\n",
       "    </tr>\n",
       "    <tr>\n",
       "      <th>9</th>\n",
       "      <td>I-gpe</td>\n",
       "      <td>정치적/지리적 단위의 내부</td>\n",
       "    </tr>\n",
       "    <tr>\n",
       "      <th>10</th>\n",
       "      <td>B-art</td>\n",
       "      <td>예술 작품의 시작</td>\n",
       "    </tr>\n",
       "    <tr>\n",
       "      <th>11</th>\n",
       "      <td>I-art</td>\n",
       "      <td>예술 작품의 내부</td>\n",
       "    </tr>\n",
       "    <tr>\n",
       "      <th>12</th>\n",
       "      <td>B-eve</td>\n",
       "      <td>이벤트(이벤트)의 시작</td>\n",
       "    </tr>\n",
       "    <tr>\n",
       "      <th>13</th>\n",
       "      <td>I-eve</td>\n",
       "      <td>이벤트(이벤트)의 내부</td>\n",
       "    </tr>\n",
       "    <tr>\n",
       "      <th>14</th>\n",
       "      <td>B-nat</td>\n",
       "      <td>자연 개체(Natural entity)의 시작</td>\n",
       "    </tr>\n",
       "    <tr>\n",
       "      <th>15</th>\n",
       "      <td>I-nat</td>\n",
       "      <td>자연 개체(Natural entity)의 내부</td>\n",
       "    </tr>\n",
       "    <tr>\n",
       "      <th>16</th>\n",
       "      <td>O</td>\n",
       "      <td>기타(Non-entity)</td>\n",
       "    </tr>\n",
       "  </tbody>\n",
       "</table>\n",
       "</div>"
      ],
      "text/plain": [
       "   NER 태그                         설명\n",
       "0   B-geo             위치(지리적 개체)의 시작\n",
       "1   I-geo             위치(지리적 개체)의 내부\n",
       "2   B-tim                  시간 표현의 시작\n",
       "3   I-tim                  시간 표현의 내부\n",
       "4   B-org       조직(Organization)의 시작\n",
       "5   I-org       조직(Organization)의 내부\n",
       "6   I-per             사람(Person)의 내부\n",
       "7   B-per             사람(Person)의 시작\n",
       "8   B-gpe             정치적/지리적 단위의 시작\n",
       "9   I-gpe             정치적/지리적 단위의 내부\n",
       "10  B-art                  예술 작품의 시작\n",
       "11  I-art                  예술 작품의 내부\n",
       "12  B-eve               이벤트(이벤트)의 시작\n",
       "13  I-eve               이벤트(이벤트)의 내부\n",
       "14  B-nat  자연 개체(Natural entity)의 시작\n",
       "15  I-nat  자연 개체(Natural entity)의 내부\n",
       "16      O             기타(Non-entity)"
      ]
     },
     "metadata": {},
     "output_type": "display_data"
    },
    {
     "name": "stdout",
     "output_type": "stream",
     "text": [
      "\n"
     ]
    },
    {
     "data": {
      "text/html": [
       "<div>\n",
       "<style scoped>\n",
       "    .dataframe tbody tr th:only-of-type {\n",
       "        vertical-align: middle;\n",
       "    }\n",
       "\n",
       "    .dataframe tbody tr th {\n",
       "        vertical-align: top;\n",
       "    }\n",
       "\n",
       "    .dataframe thead th {\n",
       "        text-align: right;\n",
       "    }\n",
       "</style>\n",
       "<table border=\"1\" class=\"dataframe\">\n",
       "  <thead>\n",
       "    <tr style=\"text-align: right;\">\n",
       "      <th></th>\n",
       "      <th>POS 태그</th>\n",
       "      <th>설명</th>\n",
       "    </tr>\n",
       "  </thead>\n",
       "  <tbody>\n",
       "    <tr>\n",
       "      <th>0</th>\n",
       "      <td>NN</td>\n",
       "      <td>단수 일반 명사</td>\n",
       "    </tr>\n",
       "    <tr>\n",
       "      <th>1</th>\n",
       "      <td>NNP</td>\n",
       "      <td>단수 고유 명사</td>\n",
       "    </tr>\n",
       "    <tr>\n",
       "      <th>2</th>\n",
       "      <td>IN</td>\n",
       "      <td>전치사</td>\n",
       "    </tr>\n",
       "    <tr>\n",
       "      <th>3</th>\n",
       "      <td>DT</td>\n",
       "      <td>한정사(관사)</td>\n",
       "    </tr>\n",
       "    <tr>\n",
       "      <th>4</th>\n",
       "      <td>JJ</td>\n",
       "      <td>형용사</td>\n",
       "    </tr>\n",
       "    <tr>\n",
       "      <th>5</th>\n",
       "      <td>NNS</td>\n",
       "      <td>복수 일반 명사</td>\n",
       "    </tr>\n",
       "    <tr>\n",
       "      <th>6</th>\n",
       "      <td>.</td>\n",
       "      <td>마침표</td>\n",
       "    </tr>\n",
       "    <tr>\n",
       "      <th>7</th>\n",
       "      <td>VBD</td>\n",
       "      <td>과거형 동사</td>\n",
       "    </tr>\n",
       "    <tr>\n",
       "      <th>8</th>\n",
       "      <td>,</td>\n",
       "      <td>쉼표</td>\n",
       "    </tr>\n",
       "    <tr>\n",
       "      <th>9</th>\n",
       "      <td>VBN</td>\n",
       "      <td>과거분사</td>\n",
       "    </tr>\n",
       "    <tr>\n",
       "      <th>10</th>\n",
       "      <td>VBZ</td>\n",
       "      <td>3인칭 단수 현재형 동사</td>\n",
       "    </tr>\n",
       "    <tr>\n",
       "      <th>11</th>\n",
       "      <td>CD</td>\n",
       "      <td>숫자(Cardinal Number)</td>\n",
       "    </tr>\n",
       "    <tr>\n",
       "      <th>12</th>\n",
       "      <td>VB</td>\n",
       "      <td>원형 동사</td>\n",
       "    </tr>\n",
       "    <tr>\n",
       "      <th>13</th>\n",
       "      <td>CC</td>\n",
       "      <td>등위접속사</td>\n",
       "    </tr>\n",
       "    <tr>\n",
       "      <th>14</th>\n",
       "      <td>TO</td>\n",
       "      <td>to</td>\n",
       "    </tr>\n",
       "    <tr>\n",
       "      <th>15</th>\n",
       "      <td>RB</td>\n",
       "      <td>부사</td>\n",
       "    </tr>\n",
       "    <tr>\n",
       "      <th>16</th>\n",
       "      <td>VBG</td>\n",
       "      <td>동명사 또는 현재분사</td>\n",
       "    </tr>\n",
       "    <tr>\n",
       "      <th>17</th>\n",
       "      <td>VBP</td>\n",
       "      <td>현재형 동사(복수 주어와 함께 사용)</td>\n",
       "    </tr>\n",
       "    <tr>\n",
       "      <th>18</th>\n",
       "      <td>PRP</td>\n",
       "      <td>대명사(예: he, she, it)</td>\n",
       "    </tr>\n",
       "    <tr>\n",
       "      <th>19</th>\n",
       "      <td>POS</td>\n",
       "      <td>소유격 표지(예: 's)</td>\n",
       "    </tr>\n",
       "    <tr>\n",
       "      <th>20</th>\n",
       "      <td>PRP$</td>\n",
       "      <td>소유격 대명사(예: my, your)</td>\n",
       "    </tr>\n",
       "    <tr>\n",
       "      <th>21</th>\n",
       "      <td>MD</td>\n",
       "      <td>조동사(예: can, will)</td>\n",
       "    </tr>\n",
       "    <tr>\n",
       "      <th>22</th>\n",
       "      <td>``</td>\n",
       "      <td>여는 따옴표</td>\n",
       "    </tr>\n",
       "    <tr>\n",
       "      <th>23</th>\n",
       "      <td>WDT</td>\n",
       "      <td>관계 한정사(예: which, that)</td>\n",
       "    </tr>\n",
       "    <tr>\n",
       "      <th>24</th>\n",
       "      <td>JJS</td>\n",
       "      <td>최상급 형용사(예: best)</td>\n",
       "    </tr>\n",
       "    <tr>\n",
       "      <th>25</th>\n",
       "      <td>JJR</td>\n",
       "      <td>비교급 형용사(예: better)</td>\n",
       "    </tr>\n",
       "    <tr>\n",
       "      <th>26</th>\n",
       "      <td>WP</td>\n",
       "      <td>의문 대명사(예: who, what)</td>\n",
       "    </tr>\n",
       "    <tr>\n",
       "      <th>27</th>\n",
       "      <td>NNPS</td>\n",
       "      <td>복수 고유 명사</td>\n",
       "    </tr>\n",
       "    <tr>\n",
       "      <th>28</th>\n",
       "      <td>RP</td>\n",
       "      <td>소사(동사와 함께 쓰이는 부사)</td>\n",
       "    </tr>\n",
       "    <tr>\n",
       "      <th>29</th>\n",
       "      <td>WRB</td>\n",
       "      <td>의문 부사(예: where, when)</td>\n",
       "    </tr>\n",
       "    <tr>\n",
       "      <th>30</th>\n",
       "      <td>$</td>\n",
       "      <td>화폐 기호(예: $)</td>\n",
       "    </tr>\n",
       "    <tr>\n",
       "      <th>31</th>\n",
       "      <td>RBR</td>\n",
       "      <td>비교급 부사</td>\n",
       "    </tr>\n",
       "    <tr>\n",
       "      <th>32</th>\n",
       "      <td>:</td>\n",
       "      <td>콜론</td>\n",
       "    </tr>\n",
       "    <tr>\n",
       "      <th>33</th>\n",
       "      <td>RRB</td>\n",
       "      <td>닫는 괄호</td>\n",
       "    </tr>\n",
       "    <tr>\n",
       "      <th>34</th>\n",
       "      <td>LRB</td>\n",
       "      <td>여는 괄호</td>\n",
       "    </tr>\n",
       "    <tr>\n",
       "      <th>35</th>\n",
       "      <td>EX</td>\n",
       "      <td>존재 구문(it there is)</td>\n",
       "    </tr>\n",
       "    <tr>\n",
       "      <th>36</th>\n",
       "      <td>RBS</td>\n",
       "      <td>최상급 부사</td>\n",
       "    </tr>\n",
       "    <tr>\n",
       "      <th>37</th>\n",
       "      <td>;</td>\n",
       "      <td>세미콜론</td>\n",
       "    </tr>\n",
       "    <tr>\n",
       "      <th>38</th>\n",
       "      <td>PDT</td>\n",
       "      <td>전치한정사(예: all, such)</td>\n",
       "    </tr>\n",
       "    <tr>\n",
       "      <th>39</th>\n",
       "      <td>WP$</td>\n",
       "      <td>소유격 의문 대명사(예: whose)</td>\n",
       "    </tr>\n",
       "    <tr>\n",
       "      <th>40</th>\n",
       "      <td>UH</td>\n",
       "      <td>감탄사(예: oh, wow)</td>\n",
       "    </tr>\n",
       "    <tr>\n",
       "      <th>41</th>\n",
       "      <td>FW</td>\n",
       "      <td>외래어</td>\n",
       "    </tr>\n",
       "  </tbody>\n",
       "</table>\n",
       "</div>"
      ],
      "text/plain": [
       "   POS 태그                      설명\n",
       "0      NN                단수 일반 명사\n",
       "1     NNP                단수 고유 명사\n",
       "2      IN                     전치사\n",
       "3      DT                 한정사(관사)\n",
       "4      JJ                     형용사\n",
       "5     NNS                복수 일반 명사\n",
       "6       .                     마침표\n",
       "7     VBD                  과거형 동사\n",
       "8       ,                      쉼표\n",
       "9     VBN                    과거분사\n",
       "10    VBZ           3인칭 단수 현재형 동사\n",
       "11     CD     숫자(Cardinal Number)\n",
       "12     VB                   원형 동사\n",
       "13     CC                   등위접속사\n",
       "14     TO                      to\n",
       "15     RB                      부사\n",
       "16    VBG             동명사 또는 현재분사\n",
       "17    VBP    현재형 동사(복수 주어와 함께 사용)\n",
       "18    PRP     대명사(예: he, she, it)\n",
       "19    POS           소유격 표지(예: 's)\n",
       "20   PRP$    소유격 대명사(예: my, your)\n",
       "21     MD       조동사(예: can, will)\n",
       "22     ``                  여는 따옴표\n",
       "23    WDT  관계 한정사(예: which, that)\n",
       "24    JJS        최상급 형용사(예: best)\n",
       "25    JJR      비교급 형용사(예: better)\n",
       "26     WP    의문 대명사(예: who, what)\n",
       "27   NNPS                복수 고유 명사\n",
       "28     RP       소사(동사와 함께 쓰이는 부사)\n",
       "29    WRB   의문 부사(예: where, when)\n",
       "30      $             화폐 기호(예: $)\n",
       "31    RBR                  비교급 부사\n",
       "32      :                      콜론\n",
       "33    RRB                   닫는 괄호\n",
       "34    LRB                   여는 괄호\n",
       "35     EX      존재 구문(it there is)\n",
       "36    RBS                  최상급 부사\n",
       "37      ;                    세미콜론\n",
       "38    PDT     전치한정사(예: all, such)\n",
       "39    WP$    소유격 의문 대명사(예: whose)\n",
       "40     UH         감탄사(예: oh, wow)\n",
       "41     FW                     외래어"
      ]
     },
     "metadata": {},
     "output_type": "display_data"
    }
   ],
   "source": [
    "from IPython.display import display\n",
    "display(ner_df[['NER 태그','설명']])\n",
    "print()\n",
    "display(pos_df[['POS 태그','설명']])"
   ]
  },
  {
   "cell_type": "code",
   "execution_count": 13,
   "metadata": {},
   "outputs": [],
   "source": [
    "import pandas as pd\n",
    "id2label = {index: value for index, value in ner_df['NER 태그'].items()}\n",
    "label2id = {value: index for index, value in ner_df['NER 태그'].items()}\n",
    "label_list = list(label2id.keys())\n",
    "df['Tag'] = df['Tag'].apply(lambda x: label2id[x] if not pd.isnull(x) else x)"
   ]
  },
  {
   "cell_type": "markdown",
   "metadata": {},
   "source": [
    "### 1.4 [My Code] EDA - Label distribution"
   ]
  },
  {
   "cell_type": "code",
   "execution_count": 14,
   "metadata": {},
   "outputs": [
    {
     "data": {
      "text/html": [
       "<div>\n",
       "<style scoped>\n",
       "    .dataframe tbody tr th:only-of-type {\n",
       "        vertical-align: middle;\n",
       "    }\n",
       "\n",
       "    .dataframe tbody tr th {\n",
       "        vertical-align: top;\n",
       "    }\n",
       "\n",
       "    .dataframe thead th {\n",
       "        text-align: right;\n",
       "    }\n",
       "</style>\n",
       "<table border=\"1\" class=\"dataframe\">\n",
       "  <thead>\n",
       "    <tr style=\"text-align: right;\">\n",
       "      <th></th>\n",
       "      <th>proportion</th>\n",
       "    </tr>\n",
       "    <tr>\n",
       "      <th>Tag</th>\n",
       "      <th></th>\n",
       "    </tr>\n",
       "  </thead>\n",
       "  <tbody>\n",
       "    <tr>\n",
       "      <th>0</th>\n",
       "      <td>0.033</td>\n",
       "    </tr>\n",
       "    <tr>\n",
       "      <th>1</th>\n",
       "      <td>0.008</td>\n",
       "    </tr>\n",
       "    <tr>\n",
       "      <th>2</th>\n",
       "      <td>0.012</td>\n",
       "    </tr>\n",
       "    <tr>\n",
       "      <th>4</th>\n",
       "      <td>0.020</td>\n",
       "    </tr>\n",
       "    <tr>\n",
       "      <th>5</th>\n",
       "      <td>0.021</td>\n",
       "    </tr>\n",
       "    <tr>\n",
       "      <th>6</th>\n",
       "      <td>0.008</td>\n",
       "    </tr>\n",
       "    <tr>\n",
       "      <th>7</th>\n",
       "      <td>0.007</td>\n",
       "    </tr>\n",
       "    <tr>\n",
       "      <th>8</th>\n",
       "      <td>0.028</td>\n",
       "    </tr>\n",
       "    <tr>\n",
       "      <th>10</th>\n",
       "      <td>0.001</td>\n",
       "    </tr>\n",
       "    <tr>\n",
       "      <th>11</th>\n",
       "      <td>0.001</td>\n",
       "    </tr>\n",
       "    <tr>\n",
       "      <th>16</th>\n",
       "      <td>0.861</td>\n",
       "    </tr>\n",
       "  </tbody>\n",
       "</table>\n",
       "</div>"
      ],
      "text/plain": [
       "     proportion\n",
       "Tag            \n",
       "0         0.033\n",
       "1         0.008\n",
       "2         0.012\n",
       "4         0.020\n",
       "5         0.021\n",
       "6         0.008\n",
       "7         0.007\n",
       "8         0.028\n",
       "10        0.001\n",
       "11        0.001\n",
       "16        0.861"
      ]
     },
     "metadata": {},
     "output_type": "display_data"
    }
   ],
   "source": [
    "# 16번 태그(기타)가 84% 이상임을 알 수 있다.\n",
    "# 따라서 모델 설계를 해서 metric이 84$ 이상 나와야 유효한 모델임을 유추할 수 있다.\n",
    "# 모두 16번만 찍어도 84%가 accuracy로 찍히는 라벨 불균형 상태이기 때문이다.\n",
    "proportin_df = pd.DataFrame(df['Tag'].value_counts(normalize=True).sort_index())\n",
    "display(proportin_df)"
   ]
  },
  {
   "cell_type": "markdown",
   "metadata": {},
   "source": [
    "## 2 [My Code] Train"
   ]
  },
  {
   "cell_type": "markdown",
   "metadata": {},
   "source": [
    "### 2.1 [My Code] Model Load"
   ]
  },
  {
   "cell_type": "code",
   "execution_count": 15,
   "metadata": {},
   "outputs": [
    {
     "name": "stderr",
     "output_type": "stream",
     "text": [
      "Some weights of DistilBertForTokenClassification were not initialized from the model checkpoint at distilbert/distilbert-base-uncased and are newly initialized: ['classifier.bias', 'classifier.weight']\n",
      "You should probably TRAIN this model on a down-stream task to be able to use it for predictions and inference.\n"
     ]
    }
   ],
   "source": [
    "from transformers import AutoTokenizer, AutoModelForTokenClassification, ModernBertModel\n",
    "import torch\n",
    "model_id = \"distilbert/distilbert-base-uncased\"\n",
    "tokenizer = AutoTokenizer.from_pretrained(model_id)\n",
    "model = AutoModelForTokenClassification.from_pretrained(\n",
    "    model_id, \n",
    "    num_labels=len(label_list), \n",
    "    id2label=id2label,\n",
    "    label2id=label2id\n",
    "    )\n",
    "\n",
    "for param in model.distilbert.parameters():\n",
    "    param.requires_grad = False\n",
    "\n",
    "model = model.to(device)"
   ]
  },
  {
   "cell_type": "markdown",
   "metadata": {},
   "source": [
    "### 2.2 [My Code] Data Preprocessing"
   ]
  },
  {
   "cell_type": "code",
   "execution_count": 16,
   "metadata": {},
   "outputs": [],
   "source": [
    "import numpy as np\n",
    "index_lst = [i for i, row in df.iterrows() if not pd.isna(row['Sentence #'])]\n",
    "\n",
    "index_lst = np.array(df[~df['Sentence #'].apply(lambda x: pd.isna(x))].index)\n",
    "index_lst = np.append(index_lst, len(df))\n",
    "start_index = index_lst[:-1]\n",
    "end_index = index_lst[1:]\n",
    "\n",
    "result = []\n",
    "for start, end in zip(start_index, end_index):\n",
    "    data = df.iloc[start:end]\n",
    "    result.append(data)\n",
    "    \n",
    "x_list = []\n",
    "y_list = []\n",
    "for data in result:\n",
    "    token_lst = data['Word'].to_list()\n",
    "    label_lst = data['Tag'].to_list()\n",
    "    if not (any(pd.isnull(x) for x in token_lst) or any(pd.isnull(x) for x in label_lst)):\n",
    "        x_list.append(token_lst)\n",
    "        y_list.append(label_lst)\n",
    "index_lst = list(range(len(x_list)))"
   ]
  },
  {
   "cell_type": "code",
   "execution_count": 17,
   "metadata": {},
   "outputs": [
    {
     "data": {
      "text/plain": [
       "Dataset({\n",
       "    features: ['id', 'tokens', 'ner_tags'],\n",
       "    num_rows: 43\n",
       "})"
      ]
     },
     "execution_count": 17,
     "metadata": {},
     "output_type": "execute_result"
    }
   ],
   "source": [
    "from datasets import Dataset, DatasetDict, Features, Value, Sequence\n",
    "\n",
    "dataset_dict = {\n",
    "    'id': index_lst,\n",
    "    'tokens': x_list,\n",
    "    'ner_tags': y_list,\n",
    "}\n",
    "dataset = Dataset.from_dict(dataset_dict)\n",
    "\n",
    "dataset"
   ]
  },
  {
   "cell_type": "code",
   "execution_count": 18,
   "metadata": {},
   "outputs": [
    {
     "data": {
      "application/vnd.jupyter.widget-view+json": {
       "model_id": "4e9789c291cf48e8b5c221d16a213006",
       "version_major": 2,
       "version_minor": 0
      },
      "text/plain": [
       "Map:   0%|          | 0/43 [00:00<?, ? examples/s]"
      ]
     },
     "metadata": {},
     "output_type": "display_data"
    },
    {
     "data": {
      "text/plain": [
       "Dataset({\n",
       "    features: ['id', 'tokens', 'ner_tags', 'input_ids', 'attention_mask', 'labels'],\n",
       "    num_rows: 43\n",
       "})"
      ]
     },
     "execution_count": 18,
     "metadata": {},
     "output_type": "execute_result"
    }
   ],
   "source": [
    "def tokenize_and_align_labels(examples):\n",
    "    # samples의 첫번째는 토큰이 29개입니다. 따라서 라벨도 29개가 나와야 합니다.\n",
    "    samples = examples\n",
    "\n",
    "    # 첫번째 샘플의 input_ids의 수는 41입니다. 즉 토큰화된 것을 한 번 더 토크나이징 하는 것입니다. \n",
    "    tokenized_inputs  = tokenizer(samples['tokens'], truncation=True, is_split_into_words=True)\n",
    "    labels = []\n",
    "    for i, label in enumerate(samples['ner_tags']):\n",
    "\n",
    "        # 한 문장 내에서 토큰이 몇 번째 단어에 매핑되는지 알려줍니다. \n",
    "        # None은 CLS와 SEP으로 매핑됩니다.\n",
    "        # input_ids의 수가 41이기 때문에, 라벨 또한 41로 늘려야 합니다. \n",
    "        # 현재는 29개이기 때문에 아래의 logic을 거치는 것입니다.\n",
    "        word_ids = tokenized_inputs.word_ids(batch_index = i)\n",
    "        previous_word_idx = None\n",
    "        label_ids = []\n",
    "\n",
    "        # 아래 로직은 다음 역할을 합니다.\n",
    "        # cls와 sep엔 -100을 부여합니다.\n",
    "        # 한 단어에서 잘려나온 토큰에 대해선 첫 번째 토큰을 제외한 나머지 토큰에 대해 -100을 부여합니다.\n",
    "        # 그 외의 모든 토큰에 대해선 라벨 값을 그대로 사용합니다.\n",
    "        for word_idx in word_ids:\n",
    "            if word_idx is None:\n",
    "                label_ids.append(-100)\n",
    "            elif word_idx != previous_word_idx:\n",
    "                label_ids.append(label[word_idx])\n",
    "            else:\n",
    "                label_ids.append(-100)\n",
    "            previous_word_idx = word_idx\n",
    "        labels.append(label_ids)\n",
    "    tokenized_inputs[\"labels\"] = labels\n",
    "    return tokenized_inputs\n",
    "\n",
    "tokenized_dataset = dataset.map(tokenize_and_align_labels, batched=True)\n",
    "tokenized_dataset"
   ]
  },
  {
   "cell_type": "code",
   "execution_count": 19,
   "metadata": {},
   "outputs": [
    {
     "data": {
      "text/plain": [
       "DatasetDict({\n",
       "    train: Dataset({\n",
       "        features: ['id', 'tokens', 'ner_tags', 'input_ids', 'attention_mask', 'labels'],\n",
       "        num_rows: 33\n",
       "    })\n",
       "    val: Dataset({\n",
       "        features: ['id', 'tokens', 'ner_tags', 'input_ids', 'attention_mask', 'labels'],\n",
       "        num_rows: 5\n",
       "    })\n",
       "    test: Dataset({\n",
       "        features: ['id', 'tokens', 'ner_tags', 'input_ids', 'attention_mask', 'labels'],\n",
       "        num_rows: 5\n",
       "    })\n",
       "})"
      ]
     },
     "execution_count": 19,
     "metadata": {},
     "output_type": "execute_result"
    }
   ],
   "source": [
    "train_val_test_split = tokenized_dataset.train_test_split(test_size=0.1)\n",
    "train_val_dataset = train_val_test_split['train']\n",
    "test_dataset = train_val_test_split['test']\n",
    "\n",
    "train_val_split = train_val_dataset.train_test_split(test_size=0.13)\n",
    "train_dataset = train_val_split['train']\n",
    "val_dataset = train_val_split['test']\n",
    "\n",
    "dataset_input = DatasetDict({\n",
    "    'train':train_dataset,\n",
    "    'val':val_dataset,\n",
    "    'test':test_dataset,\n",
    "})\n",
    "dataset_input"
   ]
  },
  {
   "cell_type": "markdown",
   "metadata": {},
   "source": [
    "## 2.3 [My Code] Data Collator"
   ]
  },
  {
   "cell_type": "code",
   "execution_count": 20,
   "metadata": {},
   "outputs": [],
   "source": [
    "from transformers import DataCollatorForTokenClassification\n",
    "\n",
    "data_collator = DataCollatorForTokenClassification(tokenizer=tokenizer)"
   ]
  },
  {
   "cell_type": "markdown",
   "metadata": {},
   "source": [
    "### 2.4 [My Code] metric"
   ]
  },
  {
   "cell_type": "code",
   "execution_count": 21,
   "metadata": {},
   "outputs": [],
   "source": [
    "import evaluate\n",
    "\n",
    "seqeval = evaluate.load(\"seqeval\")"
   ]
  },
  {
   "cell_type": "markdown",
   "metadata": {},
   "source": [
    "## 2.5 [My Code] Metric function"
   ]
  },
  {
   "cell_type": "code",
   "execution_count": 22,
   "metadata": {},
   "outputs": [],
   "source": [
    "import numpy as np\n",
    "\n",
    "labels = [label_list[i] for i in dataset_input['train'][0][f\"ner_tags\"]]\n",
    "\n",
    "\n",
    "def compute_metrics(p):\n",
    "    predictions, labels = p\n",
    "    predictions = np.argmax(predictions, axis=2)\n",
    "\n",
    "    true_predictions = [\n",
    "        [label_list[p] for (p, l) in zip(prediction, label) if l != -100]\n",
    "            for prediction, label in zip(predictions, labels)\n",
    "    ]\n",
    "    true_labels = [\n",
    "        [label_list[l] for (p, l) in zip(prediction, label) if l != -100]\n",
    "            for prediction, label in zip(predictions, labels)\n",
    "    ]\n",
    "\n",
    "    results = seqeval.compute(predictions=true_predictions, references=true_labels,  zero_division=0)\n",
    "    return {\n",
    "        \"precision\": results[\"overall_precision\"],\n",
    "        \"recall\": results[\"overall_recall\"],\n",
    "        \"f1\": results[\"overall_f1\"],\n",
    "        \"accuracy\": results[\"overall_accuracy\"],\n",
    "    }"
   ]
  },
  {
   "cell_type": "markdown",
   "metadata": {},
   "source": [
    "### 2.6 [Log] Train"
   ]
  },
  {
   "cell_type": "code",
   "execution_count": 23,
   "metadata": {},
   "outputs": [],
   "source": [
    "from transformers import TrainingArguments, Trainer\n",
    "import torch._dynamo\n",
    "import os\n",
    "os.environ[\"TOKENIZERS_PARALLELISM\"] = \"false\"\n",
    "torch._dynamo.config.suppress_errors = True\n",
    "\n",
    "training_args = TrainingArguments(\n",
    "    output_dir=\".results/week3_advanced_ner\",\n",
    "    learning_rate=learning_rate,\n",
    "    per_device_train_batch_size=per_device_train_batch_size,\n",
    "    per_device_eval_batch_size=per_device_eval_batch_size,\n",
    "    num_train_epochs=num_train_epochs,\n",
    "    weight_decay=weight_decay,\n",
    "    eval_strategy=\"epoch\",\n",
    "    save_strategy='epoch',\n",
    "    logging_strategy=\"epoch\",\n",
    "    logging_dir=\".results/week3_advanced_ner\",\n",
    "    load_best_model_at_end=True,\n",
    "    push_to_hub=False,\n",
    "    report_to='none'\n",
    ")\n",
    "\n",
    "trainer = Trainer(\n",
    "    model=model, \n",
    "    args=training_args,\n",
    "    train_dataset=dataset_input[\"train\"],\n",
    "    eval_dataset=dataset_input[\"val\"],\n",
    "    processing_class=tokenizer,\n",
    "    data_collator=data_collator,\n",
    "    compute_metrics=compute_metrics,\n",
    ")"
   ]
  },
  {
   "cell_type": "code",
   "execution_count": 24,
   "metadata": {},
   "outputs": [
    {
     "data": {
      "text/html": [],
      "text/plain": [
       "<IPython.core.display.HTML object>"
      ]
     },
     "metadata": {},
     "output_type": "display_data"
    }
   ],
   "source": [
    "from pprint import pprint\n",
    "initial_metrics = trainer.predict(dataset_input[\"test\"])"
   ]
  },
  {
   "cell_type": "code",
   "execution_count": 25,
   "metadata": {},
   "outputs": [
    {
     "data": {
      "text/html": [
       "\n",
       "    <div>\n",
       "      \n",
       "      <progress value='9' max='9' style='width:300px; height:20px; vertical-align: middle;'></progress>\n",
       "      [9/9 00:01, Epoch 3/3]\n",
       "    </div>\n",
       "    <table border=\"1\" class=\"dataframe\">\n",
       "  <thead>\n",
       " <tr style=\"text-align: left;\">\n",
       "      <th>Epoch</th>\n",
       "      <th>Training Loss</th>\n",
       "      <th>Validation Loss</th>\n",
       "      <th>Model Preparation Time</th>\n",
       "      <th>Precision</th>\n",
       "      <th>Recall</th>\n",
       "      <th>F1</th>\n",
       "      <th>Accuracy</th>\n",
       "    </tr>\n",
       "  </thead>\n",
       "  <tbody>\n",
       "    <tr>\n",
       "      <td>1</td>\n",
       "      <td>2.988100</td>\n",
       "      <td>2.925378</td>\n",
       "      <td>0.000800</td>\n",
       "      <td>0.013333</td>\n",
       "      <td>0.076923</td>\n",
       "      <td>0.022727</td>\n",
       "      <td>0.017699</td>\n",
       "    </tr>\n",
       "    <tr>\n",
       "      <td>2</td>\n",
       "      <td>2.937400</td>\n",
       "      <td>2.918892</td>\n",
       "      <td>0.000800</td>\n",
       "      <td>0.013333</td>\n",
       "      <td>0.076923</td>\n",
       "      <td>0.022727</td>\n",
       "      <td>0.017699</td>\n",
       "    </tr>\n",
       "    <tr>\n",
       "      <td>3</td>\n",
       "      <td>2.957400</td>\n",
       "      <td>2.916306</td>\n",
       "      <td>0.000800</td>\n",
       "      <td>0.013333</td>\n",
       "      <td>0.076923</td>\n",
       "      <td>0.022727</td>\n",
       "      <td>0.017699</td>\n",
       "    </tr>\n",
       "  </tbody>\n",
       "</table><p>"
      ],
      "text/plain": [
       "<IPython.core.display.HTML object>"
      ]
     },
     "metadata": {},
     "output_type": "display_data"
    },
    {
     "data": {
      "text/plain": [
       "TrainOutput(global_step=9, training_loss=2.960975752936469, metrics={'train_runtime': 1.5147, 'train_samples_per_second': 65.36, 'train_steps_per_second': 5.942, 'total_flos': 1084816945500.0, 'train_loss': 2.960975752936469, 'epoch': 3.0})"
      ]
     },
     "execution_count": 25,
     "metadata": {},
     "output_type": "execute_result"
    }
   ],
   "source": [
    "trainer.train()"
   ]
  },
  {
   "cell_type": "code",
   "execution_count": 26,
   "metadata": {},
   "outputs": [
    {
     "data": {
      "text/html": [],
      "text/plain": [
       "<IPython.core.display.HTML object>"
      ]
     },
     "metadata": {},
     "output_type": "display_data"
    }
   ],
   "source": [
    "from pprint import pprint\n",
    "metrics = trainer.predict(dataset_input[\"test\"])"
   ]
  },
  {
   "cell_type": "code",
   "execution_count": 27,
   "metadata": {},
   "outputs": [],
   "source": [
    "initial_metrics = initial_metrics[-1]\n",
    "metrics = metrics[-1]"
   ]
  },
  {
   "cell_type": "markdown",
   "metadata": {},
   "source": [
    "## 3 [My Code] Plot"
   ]
  },
  {
   "cell_type": "code",
   "execution_count": 28,
   "metadata": {},
   "outputs": [
    {
     "name": "stdout",
     "output_type": "stream",
     "text": [
      "[2.9881, 2.9374, 2.9574] [2.925377607345581, 2.9188923835754395, 2.9163060188293457] [0.017699115044247787, 0.017699115044247787, 0.017699115044247787] [0.02272727272727273, 0.02272727272727273, 0.02272727272727273] 2.957855701446533 0.02 0.0\n",
      "\n",
      "\n",
      "\n"
     ]
    },
    {
     "data": {
      "image/png": "[encoded data removed]",
      "text/plain": [
       "<Figure size 1400x800 with 3 Axes>"
      ]
     },
     "metadata": {},
     "output_type": "display_data"
    }
   ],
   "source": [
    "import matplotlib.pyplot as plt\n",
    "\n",
    "def plotting():\n",
    "    # 로그 데이터 추출\n",
    "    log_history = trainer.state.log_history\n",
    "\n",
    "    # 메트릭 초기화\n",
    "    epochs = []\n",
    "    train_loss = []\n",
    "    val_loss = []\n",
    "    val_accuracy = []\n",
    "    val_f1 = []\n",
    "\n",
    "    # 로그 데이터 분리\n",
    "    for log in log_history:\n",
    "        if 'epoch' in log:\n",
    "            current_epoch = log['epoch']\n",
    "            if current_epoch not in epochs:\n",
    "                epochs.append(current_epoch)\n",
    "            if 'loss' in log:\n",
    "                train_loss.append(log['loss'])\n",
    "            if 'eval_loss' in log:\n",
    "                val_loss.append(log['eval_loss'])\n",
    "            if 'eval_accuracy' in log:\n",
    "                val_accuracy.append(log['eval_accuracy'])\n",
    "            if 'eval_f1' in log:\n",
    "                val_f1.append(log['eval_f1'])\n",
    "\n",
    "    test_loss = metrics['test_loss']\n",
    "    test_accuracy = metrics['test_accuracy']\n",
    "    test_f1 = metrics['test_f1']\n",
    "\n",
    "\n",
    "    print(train_loss, val_loss, val_accuracy, val_f1, test_loss, test_accuracy, test_f1)\n",
    "\n",
    "    # 플로팅\n",
    "    plt.figure(figsize=(14, 8))\n",
    "\n",
    "    # 손실 플롯\n",
    "    plt.subplot(3, 1, 1)\n",
    "    plt.plot(epochs, train_loss, color = 'g', label='Train Loss')\n",
    "    plt.plot(epochs, val_loss, color = 'b', label='Validation Loss')\n",
    "    plt.axhline(y=test_loss, color='r', linestyle='--', label='Test Loss')\n",
    "    plt.xlabel('Epochs')\n",
    "    plt.ylabel('Loss')\n",
    "    plt.title('Loss per Epoch')\n",
    "    plt.legend()\n",
    "\n",
    "    # 정확도 및 F1 스코어 플롯\n",
    "    plt.subplot(3, 1, 2)\n",
    "    plt.plot(epochs, val_accuracy, label='Validation Accuracy')\n",
    "    plt.axhline(y=test_accuracy, color='r', linestyle='--', label='Test Accuracy')\n",
    "    plt.xlabel('Epochs')\n",
    "    plt.ylabel('Accuracy')\n",
    "    plt.title('Accuracy per Epoch')\n",
    "    plt.legend()\n",
    "\n",
    "    plt.subplot(3, 1, 3)\n",
    "    plt.plot(epochs, val_f1, label='Validation F1 Score')\n",
    "    plt.axhline(y=test_f1, color='r', linestyle='--', label='Test F1 Score')\n",
    "    plt.xlabel('Epochs')\n",
    "    plt.ylabel('F1 Score')\n",
    "    plt.title('F1 Score per Epoch')\n",
    "    plt.legend()\n",
    "\n",
    "    plt.suptitle(f\"Metrics Plot\")\n",
    "    plt.tight_layout()\n",
    "    print(\"\\n\\n\")\n",
    "\n",
    "plotting()\n",
    "plt.show()"
   ]
  },
  {
   "cell_type": "markdown",
   "metadata": {},
   "source": [
    "## 4 [My Code] Conclusion"
   ]
  },
  {
   "cell_type": "code",
   "execution_count": 29,
   "metadata": {},
   "outputs": [
    {
     "data": {
      "text/html": [
       "<div>\n",
       "<style scoped>\n",
       "    .dataframe tbody tr th:only-of-type {\n",
       "        vertical-align: middle;\n",
       "    }\n",
       "\n",
       "    .dataframe tbody tr th {\n",
       "        vertical-align: top;\n",
       "    }\n",
       "\n",
       "    .dataframe thead th {\n",
       "        text-align: right;\n",
       "    }\n",
       "</style>\n",
       "<table border=\"1\" class=\"dataframe\">\n",
       "  <thead>\n",
       "    <tr style=\"text-align: right;\">\n",
       "      <th></th>\n",
       "      <th>test_loss</th>\n",
       "      <th>test_accuracy</th>\n",
       "      <th>test_f1</th>\n",
       "      <th>trainable_parameters</th>\n",
       "      <th>train_runtime</th>\n",
       "      <th>test_runtime</th>\n",
       "    </tr>\n",
       "  </thead>\n",
       "  <tbody>\n",
       "    <tr>\n",
       "      <th>model</th>\n",
       "      <td>2.957856</td>\n",
       "      <td>0.02</td>\n",
       "      <td>0.0</td>\n",
       "      <td>13073.0</td>\n",
       "      <td>1.5147</td>\n",
       "      <td>0.016</td>\n",
       "    </tr>\n",
       "    <tr>\n",
       "      <th>initial_model</th>\n",
       "      <td>2.979023</td>\n",
       "      <td>0.02</td>\n",
       "      <td>0.0</td>\n",
       "      <td></td>\n",
       "      <td></td>\n",
       "      <td></td>\n",
       "    </tr>\n",
       "  </tbody>\n",
       "</table>\n",
       "</div>"
      ],
      "text/plain": [
       "               test_loss  test_accuracy  test_f1 trainable_parameters  \\\n",
       "model           2.957856           0.02      0.0              13073.0   \n",
       "initial_model   2.979023           0.02      0.0                        \n",
       "\n",
       "              train_runtime test_runtime  \n",
       "model                1.5147        0.016  \n",
       "initial_model                             "
      ]
     },
     "metadata": {},
     "output_type": "display_data"
    }
   ],
   "source": [
    "import pandas as pd\n",
    "# initial metric과 훈련 이후의 metric을 비교합니다.\n",
    "def count_trainable_parameters(model):\n",
    "    return sum(p.numel() for p in model.parameters() if p.requires_grad)\n",
    "\n",
    "# 학습 가능한 파라미터 수 출력\n",
    "trainable_params_lst = [count_trainable_parameters(model) ]\n",
    "train_runtime_lst = [trainer.state.log_history[-1]['train_runtime']]\n",
    "\n",
    "\n",
    "result_df = pd.DataFrame([metrics])\n",
    "result_df.index = [\"model\"]\n",
    "result_df['trainable_parameters']  = trainable_params_lst\n",
    "result_df['train_runtime'] = train_runtime_lst\n",
    "initial_row = pd.DataFrame([initial_metrics])[[\"test_loss\",'test_accuracy','test_f1']]\n",
    "initial_row.index = [\"initial_model\"]\n",
    "result_df = pd.concat([result_df, initial_row], axis=0).fillna(\"\")\n",
    "display(result_df[['test_loss','test_accuracy','test_f1','trainable_parameters', 'train_runtime', 'test_runtime']])"
   ]
  }
 ],
 "metadata": {
  "kernelspec": {
   "display_name": ".env",
   "language": "python",
   "name": "python3"
  },
  "language_info": {
   "codemirror_mode": {
    "name": "ipython",
    "version": 3
   },
   "file_extension": ".py",
   "mimetype": "text/x-python",
   "name": "python",
   "nbconvert_exporter": "python",
   "pygments_lexer": "ipython3",
   "version": "3.9.21"
  }
 },
 "nbformat": 4,
 "nbformat_minor": 2
}
