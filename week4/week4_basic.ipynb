{
 "cells": [
  {
   "cell_type": "code",
   "execution_count": null,
   "metadata": {
    "id": "JL3tCjnRGXU1"
   },
   "outputs": [],
   "source": [
    "# 해당 코드는 colab에서 작성되었음음\n",
    "!pip install -qU datasets torchinfo openai"
   ]
  },
  {
   "cell_type": "code",
   "execution_count": null,
   "metadata": {
    "id": "IAOH3v_DoX7t"
   },
   "outputs": [],
   "source": [
    "# 해당 코드는 colab에서 작성되었음음\n",
    "!huggingface-cli login"
   ]
  },
  {
   "cell_type": "markdown",
   "metadata": {
    "id": "VKVzLt-KZF_d"
   },
   "source": [
    "# DistilBert Finetuning by Huggingface Trainer\n",
    "- 1. Task:\n",
    "\n",
    "    1) nyu-mll/glue의 mnli 데이터셋에 대한 distill bert의 분류 성능을 측정해야 합니다.\n",
    "\n",
    "- 2. 더 해볼 과제:\n",
    "\n",
    "    1) 언어 모델 앙상블과 chain of thought prompt engineering을 통해 텍스트를 분류해볼 것입니다.\n",
    "\n",
    "    2) openai api 또한 간단히 사용할 예정입니다.\n",
    "\n",
    "    3) Distill bert로 분류한 것과 간단히 성능을 비교해보겠습니다.\n",
    "\n"
   ]
  },
  {
   "cell_type": "markdown",
   "metadata": {
    "id": "UfAu_UHHZF_e"
   },
   "source": [
    "##1 [My Code] Preparation\n"
   ]
  },
  {
   "cell_type": "markdown",
   "metadata": {
    "id": "-BDsky9IZF_e"
   },
   "source": [
    "###1.1 [My Code] Model Config"
   ]
  },
  {
   "cell_type": "code",
   "execution_count": null,
   "metadata": {
    "id": "tVwdBK4oZF_f"
   },
   "outputs": [],
   "source": [
    "import torch\n",
    "# 모델 config입니다.\n",
    "device = 'cuda' if torch.cuda.is_available() else 'cpu'\n",
    "\n",
    "model_name = \"distilbert-base-uncased\"\n",
    "ds_name = \"nyu-mll/glue\"\n",
    "ds_config = \"mnli\"\n",
    "\n",
    "n_labels = 3\n",
    "\n",
    "test_size1 = 0.1\n",
    "test_size2 = 0.2222\n",
    "random_state = 42\n",
    "batch_size = 64\n",
    "max_len = 400\n",
    "\n",
    "results_dir = './results/week4_basic'\n",
    "lr = 2e-5\n",
    "n_epochs = 10"
   ]
  },
  {
   "cell_type": "markdown",
   "metadata": {
    "id": "N5v4QCzFZF_f"
   },
   "source": [
    "### 1.2 [My Code] Load Model Tokenizer"
   ]
  },
  {
   "cell_type": "code",
   "execution_count": null,
   "metadata": {
    "colab": {
     "base_uri": "https://localhost:8080/"
    },
    "id": "6lGiZUoPby6e",
    "outputId": "211003c6-f2e0-4edd-d5b4-921021e5f3ce"
   },
   "outputs": [
    {
     "name": "stderr",
     "output_type": "stream",
     "text": [
      "/usr/local/lib/python3.10/dist-packages/huggingface_hub/utils/_auth.py:94: UserWarning: \n",
      "The secret `HF_TOKEN` does not exist in your Colab secrets.\n",
      "To authenticate with the Hugging Face Hub, create a token in your settings tab (https://huggingface.co/settings/tokens), set it as secret in your Google Colab and restart your session.\n",
      "You will be able to reuse this secret in all of your notebooks.\n",
      "Please note that authentication is recommended but still optional to access public models or datasets.\n",
      "  warnings.warn(\n",
      "Some weights of DistilBertForSequenceClassification were not initialized from the model checkpoint at distilbert-base-uncased and are newly initialized: ['classifier.bias', 'classifier.weight', 'pre_classifier.bias', 'pre_classifier.weight']\n",
      "You should probably TRAIN this model on a down-stream task to be able to use it for predictions and inference.\n"
     ]
    }
   ],
   "source": [
    "from transformers import DistilBertTokenizer, DistilBertForSequenceClassification\n",
    "from datasets import load_dataset\n",
    "import pandas as pd\n",
    "\n",
    "# Parquet 형태의 데이터셋입니다.\n",
    "tokenizer = DistilBertTokenizer.from_pretrained(model_name)\n",
    "model = DistilBertForSequenceClassification.from_pretrained(model_name, num_labels=n_labels)\n",
    "model = model.to(device)\n",
    "raw_dataset = load_dataset(ds_name, ds_config)\n",
    "label2idx = {'entailment':0,'neutral':1,'contradiction':2}"
   ]
  },
  {
   "cell_type": "markdown",
   "metadata": {
    "id": "pRH1zmo-RVcg"
   },
   "source": [
    "### 1.3 [My Code] Model Info"
   ]
  },
  {
   "cell_type": "code",
   "execution_count": null,
   "metadata": {
    "colab": {
     "base_uri": "https://localhost:8080/"
    },
    "id": "Z6p232O7FW3w",
    "outputId": "c21341de-9a42-41fa-b2a0-3742c8983f11"
   },
   "outputs": [
    {
     "name": "stdout",
     "output_type": "stream",
     "text": [
      "Model Summary\n",
      "Vocab_size  30522\n",
      "Input Shape  torch.Size([64, 400])\n",
      "Attention_Mask Shape  torch.Size([64, 400])\n",
      "=========================================================================================================\n",
      "Layer (type:depth-idx)                                  Output Shape              Param #\n",
      "=========================================================================================================\n",
      "DistilBertForSequenceClassification                     [64, 3]                   --\n",
      "├─DistilBertModel: 1-1                                  [64, 400, 768]            --\n",
      "│    └─Embeddings: 2-1                                  [64, 400, 768]            --\n",
      "│    │    └─Embedding: 3-1                              [64, 400, 768]            23,440,896\n",
      "│    │    └─Embedding: 3-2                              [1, 400, 768]             393,216\n",
      "│    │    └─LayerNorm: 3-3                              [64, 400, 768]            1,536\n",
      "│    │    └─Dropout: 3-4                                [64, 400, 768]            --\n",
      "│    └─Transformer: 2-2                                 [64, 400, 768]            --\n",
      "│    │    └─ModuleList: 3-5                             --                        42,527,232\n",
      "├─Linear: 1-2                                           [64, 768]                 590,592\n",
      "├─Dropout: 1-3                                          [64, 768]                 --\n",
      "├─Linear: 1-4                                           [64, 3]                   2,307\n",
      "=========================================================================================================\n",
      "Total params: 66,955,779\n",
      "Trainable params: 66,955,779\n",
      "Non-trainable params: 0\n",
      "Total mult-adds (G): 4.26\n",
      "=========================================================================================================\n",
      "Input size (MB): 0.41\n",
      "Forward/backward pass size (MB): 10698.33\n",
      "Params size (MB): 267.82\n",
      "Estimated Total Size (MB): 10966.56\n",
      "=========================================================================================================\n"
     ]
    }
   ],
   "source": [
    "import torch\n",
    "from torchinfo import summary\n",
    "# 모델 정보 출력\n",
    "vocab_size = len(tokenizer)\n",
    "# vocab 안에서의 인덱스까지의 데이터\n",
    "dummy_input_ids = torch.randint(0, vocab_size, (batch_size, max_len))\n",
    "dummy_attention_mask = torch.ones(batch_size, max_len, dtype=torch.int64)\n",
    "\n",
    "# 모델 요약 출력\n",
    "print(\"Model Summary\")\n",
    "print(\"Vocab_size \", vocab_size)\n",
    "print(\"Input Shape \", dummy_input_ids.shape)\n",
    "print(\"Attention_Mask Shape \", dummy_attention_mask.shape)\n",
    "print(summary(model, input_data={\"input_ids\": dummy_input_ids.to(device), \"attention_mask\": dummy_attention_mask.to(device)}))"
   ]
  },
  {
   "cell_type": "code",
   "execution_count": null,
   "metadata": {
    "colab": {
     "base_uri": "https://localhost:8080/"
    },
    "id": "nx5UHkLRFW3w",
    "outputId": "93db5279-7262-4503-cff8-6c5ca1dabad4"
   },
   "outputs": [
    {
     "name": "stdout",
     "output_type": "stream",
     "text": [
      "Model Summary\n",
      "Vocab_size  30522\n",
      "Input Shape  torch.Size([64, 400])\n",
      "Attention_Mask Shape  torch.Size([64, 400])\n",
      "=========================================================================================================\n",
      "Layer (type:depth-idx)                                  Output Shape              Param #\n",
      "=========================================================================================================\n",
      "DistilBertForSequenceClassification                     [64, 3]                   --\n",
      "├─DistilBertModel: 1-1                                  [64, 400, 768]            --\n",
      "│    └─Embeddings: 2-1                                  [64, 400, 768]            --\n",
      "│    │    └─Embedding: 3-1                              [64, 400, 768]            (23,440,896)\n",
      "│    │    └─Embedding: 3-2                              [1, 400, 768]             (393,216)\n",
      "│    │    └─LayerNorm: 3-3                              [64, 400, 768]            (1,536)\n",
      "│    │    └─Dropout: 3-4                                [64, 400, 768]            --\n",
      "│    └─Transformer: 2-2                                 [64, 400, 768]            --\n",
      "│    │    └─ModuleList: 3-5                             --                        (42,527,232)\n",
      "├─Linear: 1-2                                           [64, 768]                 590,592\n",
      "├─Dropout: 1-3                                          [64, 768]                 --\n",
      "├─Linear: 1-4                                           [64, 3]                   2,307\n",
      "=========================================================================================================\n",
      "Total params: 66,955,779\n",
      "Trainable params: 592,899\n",
      "Non-trainable params: 66,362,880\n",
      "Total mult-adds (G): 4.26\n",
      "=========================================================================================================\n",
      "Input size (MB): 0.41\n",
      "Forward/backward pass size (MB): 10698.33\n",
      "Params size (MB): 267.82\n",
      "Estimated Total Size (MB): 10966.56\n",
      "=========================================================================================================\n"
     ]
    }
   ],
   "source": [
    "# classifier만 학습시킬 것이기에 distilbert layer까지의 파라미터는 동결되어야 합니다.\n",
    "# torchunfo에서 파라미터수가 제한된 것을 알 수 있습니다.\n",
    "for param in model.distilbert.parameters():\n",
    "    param.requires_grad = False\n",
    "\n",
    "print(\"Model Summary\")\n",
    "print(\"Vocab_size \", vocab_size)\n",
    "print(\"Input Shape \", dummy_input_ids.shape)\n",
    "print(\"Attention_Mask Shape \", dummy_attention_mask.shape)\n",
    "print(summary(model, input_data={\"input_ids\": dummy_input_ids.to(device), \"attention_mask\": dummy_attention_mask.to(device)}))"
   ]
  },
  {
   "cell_type": "markdown",
   "metadata": {
    "id": "trecHIioVgaL"
   },
   "source": [
    "### 1.4 [My Code] Tokenize"
   ]
  },
  {
   "cell_type": "code",
   "execution_count": null,
   "metadata": {
    "id": "Wq3ym_aKFW3w"
   },
   "outputs": [],
   "source": [
    "# 토크나이즈를 하는 이유는 premise와 hypothesis를 [cls] [premise] [sep] [hypothesis] [eos] [pad]형태로 문장을 바꾼 다음에 다시 토큰화를 하기 위해서입니다.\n",
    "# 이 때 premise와 hypothesis를 합쳐서 max_len(400)을 넘지 않으면 패딩토큰이 들어갑니다.\n",
    "# 만약 400을 넘어가면 trauncation option이 발동되어 premise와 hypothesis중 긴 문장이 우선적으로 truncate됩니다.\n",
    "def tokenize(batch, max_len):\n",
    "\n",
    "  return tokenizer(\n",
    "    batch[\"premise\"],\n",
    "    batch['hypothesis'],\n",
    "    padding=\"max_length\",\n",
    "    max_length = max_len,\n",
    "    truncation=\"longest_first\" ,\n",
    "    return_tensors = 'pt')\n",
    "\n",
    "# 코드 연습 시엔 아래 range(500)으로 진행한다.\n",
    "ds = raw_dataset['train']\n",
    "# ds = raw_dataset['train'].select(range(500))\n",
    "ds = ds.map(lambda batch: tokenize(batch, max_len), batched=True)"
   ]
  },
  {
   "cell_type": "markdown",
   "metadata": {
    "id": "LbsObGS7VjjC"
   },
   "source": [
    "### 1.5 [My Code] Dataset build and Check Sample"
   ]
  },
  {
   "cell_type": "code",
   "execution_count": null,
   "metadata": {
    "colab": {
     "base_uri": "https://localhost:8080/"
    },
    "id": "MKIAd8pOFW3w",
    "outputId": "c9cbdf41-be4d-4ddc-cd18-6c0f0a07875e"
   },
   "outputs": [
    {
     "data": {
      "text/plain": [
       "DatasetDict({\n",
       "    train: Dataset({\n",
       "        features: ['premise', 'hypothesis', 'label', 'idx', 'input_ids', 'attention_mask'],\n",
       "        num_rows: 274898\n",
       "    })\n",
       "    val: Dataset({\n",
       "        features: ['premise', 'hypothesis', 'label', 'idx', 'input_ids', 'attention_mask'],\n",
       "        num_rows: 78533\n",
       "    })\n",
       "    test: Dataset({\n",
       "        features: ['premise', 'hypothesis', 'label', 'idx', 'input_ids', 'attention_mask'],\n",
       "        num_rows: 39271\n",
       "    })\n",
       "})"
      ]
     },
     "execution_count": 9,
     "metadata": {},
     "output_type": "execute_result"
    }
   ],
   "source": [
    "from datasets import DatasetDict\n",
    "# 데이터셋을 train, val, test로 분류합니다.\n",
    "# train = 70% / val = 20% / test = 10%\n",
    "train_test_split = ds.train_test_split(test_size=test_size1)\n",
    "test_data = train_test_split['test']\n",
    "train_data = train_test_split['train']\n",
    "train_val_split = train_data.train_test_split(test_size=test_size2)\n",
    "train_data = train_val_split['train']\n",
    "val_data = train_val_split['test']\n",
    "\n",
    "dataset_dict = {\n",
    "    'train': train_data,\n",
    "    'val': val_data,\n",
    "    'test': test_data,\n",
    "}\n",
    "\n",
    "dataset = DatasetDict(dataset_dict)\n",
    "dataset"
   ]
  },
  {
   "cell_type": "code",
   "execution_count": null,
   "metadata": {
    "colab": {
     "base_uri": "https://localhost:8080/",
     "height": 527
    },
    "id": "WNZgbcXFUXmM",
    "outputId": "8981b9d5-be21-4aa5-a14f-7121992c6371"
   },
   "outputs": [
    {
     "data": {
      "image/png": "[encoded data removed]",
      "text/plain": [
       "<Figure size 800x600 with 1 Axes>"
      ]
     },
     "metadata": {},
     "output_type": "display_data"
    }
   ],
   "source": [
    "import matplotlib.pyplot as plt\n",
    "# train-val-test 비율을 pie chart로 나타냈습니다.\n",
    "train_size = len(dataset_dict['train'])\n",
    "val_size = len(dataset_dict['val'])\n",
    "test_size = len(dataset_dict['test'])\n",
    "\n",
    "sizes = [train_size, val_size, test_size]\n",
    "labels = ['Train', 'Validation', 'Test']\n",
    "colors = ['#ff9999','#66b3ff','#99ff99']\n",
    "\n",
    "\n",
    "plt.figure(figsize=(8, 6))\n",
    "plt.pie(sizes, labels=labels, autopct='%1.1f%%', startangle=140, colors=colors)\n",
    "plt.title('Dataset Distribution')\n",
    "plt.legend(labels, loc=\"upper right\")\n",
    "plt.axis('equal')\n",
    "plt.show()"
   ]
  },
  {
   "cell_type": "code",
   "execution_count": null,
   "metadata": {
    "colab": {
     "base_uri": "https://localhost:8080/"
    },
    "id": "nmTevE1tFW3x",
    "outputId": "5ecc4db3-827e-4f0a-e870-edde1b1e81b1"
   },
   "outputs": [
    {
     "name": "stdout",
     "output_type": "stream",
     "text": [
      "Sample_Idx:  259664\n",
      "\n",
      "Sample_label:  2\n",
      "\n",
      "Sample_premise  Las Vegas for Children\n",
      "\n",
      "Sample_hypothesis:  Children aren't allowed in Vegas.\n",
      "\n",
      "Sample_input_ids:  \n",
      " 400 \n",
      " [101, 5869, 7136, 2005, 2336, 102, 2336, 4995, 1005, 1056, 3039, 1999, 7136, 1012, 102, 0, 0, 0, 0, 0, 0, 0, 0, 0, 0, 0, 0, 0, 0, 0, 0, 0, 0, 0, 0, 0, 0, 0, 0, 0, 0, 0, 0, 0, 0, 0, 0, 0, 0, 0, 0, 0, 0, 0, 0, 0, 0, 0, 0, 0, 0, 0, 0, 0, 0, 0, 0, 0, 0, 0, 0, 0, 0, 0, 0, 0, 0, 0, 0, 0, 0, 0, 0, 0, 0, 0, 0, 0, 0, 0, 0, 0, 0, 0, 0, 0, 0, 0, 0, 0, 0, 0, 0, 0, 0, 0, 0, 0, 0, 0, 0, 0, 0, 0, 0, 0, 0, 0, 0, 0, 0, 0, 0, 0, 0, 0, 0, 0, 0, 0, 0, 0, 0, 0, 0, 0, 0, 0, 0, 0, 0, 0, 0, 0, 0, 0, 0, 0, 0, 0, 0, 0, 0, 0, 0, 0, 0, 0, 0, 0, 0, 0, 0, 0, 0, 0, 0, 0, 0, 0, 0, 0, 0, 0, 0, 0, 0, 0, 0, 0, 0, 0, 0, 0, 0, 0, 0, 0, 0, 0, 0, 0, 0, 0, 0, 0, 0, 0, 0, 0, 0, 0, 0, 0, 0, 0, 0, 0, 0, 0, 0, 0, 0, 0, 0, 0, 0, 0, 0, 0, 0, 0, 0, 0, 0, 0, 0, 0, 0, 0, 0, 0, 0, 0, 0, 0, 0, 0, 0, 0, 0, 0, 0, 0, 0, 0, 0, 0, 0, 0, 0, 0, 0, 0, 0, 0, 0, 0, 0, 0, 0, 0, 0, 0, 0, 0, 0, 0, 0, 0, 0, 0, 0, 0, 0, 0, 0, 0, 0, 0, 0, 0, 0, 0, 0, 0, 0, 0, 0, 0, 0, 0, 0, 0, 0, 0, 0, 0, 0, 0, 0, 0, 0, 0, 0, 0, 0, 0, 0, 0, 0, 0, 0, 0, 0, 0, 0, 0, 0, 0, 0, 0, 0, 0, 0, 0, 0, 0, 0, 0, 0, 0, 0, 0, 0, 0, 0, 0, 0, 0, 0, 0, 0, 0, 0, 0, 0, 0, 0, 0, 0, 0, 0, 0, 0, 0, 0, 0, 0, 0, 0, 0, 0, 0, 0, 0, 0, 0, 0, 0, 0, 0, 0, 0, 0, 0, 0, 0, 0, 0, 0, 0, 0, 0, 0, 0, 0, 0, 0, 0, 0, 0, 0, 0, 0, 0, 0, 0, 0, 0]\n",
      "\n",
      "Sample_decoded_input_ids:  \n",
      " 400 \n",
      " [CLS] las vegas for children [SEP] children aren't allowed in vegas. [SEP] [PAD] [PAD] [PAD] [PAD] [PAD] [PAD] [PAD] [PAD] [PAD] [PAD] [PAD] [PAD] [PAD] [PAD] [PAD] [PAD] [PAD] [PAD] [PAD] [PAD] [PAD] [PAD] [PAD] [PAD] [PAD] [PAD] [PAD] [PAD] [PAD] [PAD] [PAD] [PAD] [PAD] [PAD] [PAD] [PAD] [PAD] [PAD] [PAD] [PAD] [PAD] [PAD] [PAD] [PAD] [PAD] [PAD] [PAD] [PAD] [PAD] [PAD] [PAD] [PAD] [PAD] [PAD] [PAD] [PAD] [PAD] [PAD] [PAD] [PAD] [PAD] [PAD] [PAD] [PAD] [PAD] [PAD] [PAD] [PAD] [PAD] [PAD] [PAD] [PAD] [PAD] [PAD] [PAD] [PAD] [PAD] [PAD] [PAD] [PAD] [PAD] [PAD] [PAD] [PAD] [PAD] [PAD] [PAD] [PAD] [PAD] [PAD] [PAD] [PAD] [PAD] [PAD] [PAD] [PAD] [PAD] [PAD] [PAD] [PAD] [PAD] [PAD] [PAD] [PAD] [PAD] [PAD] [PAD] [PAD] [PAD] [PAD] [PAD] [PAD] [PAD] [PAD] [PAD] [PAD] [PAD] [PAD] [PAD] [PAD] [PAD] [PAD] [PAD] [PAD] [PAD] [PAD] [PAD] [PAD] [PAD] [PAD] [PAD] [PAD] [PAD] [PAD] [PAD] [PAD] [PAD] [PAD] [PAD] [PAD] [PAD] [PAD] [PAD] [PAD] [PAD] [PAD] [PAD] [PAD] [PAD] [PAD] [PAD] [PAD] [PAD] [PAD] [PAD] [PAD] [PAD] [PAD] [PAD] [PAD] [PAD] [PAD] [PAD] [PAD] [PAD] [PAD] [PAD] [PAD] [PAD] [PAD] [PAD] [PAD] [PAD] [PAD] [PAD] [PAD] [PAD] [PAD] [PAD] [PAD] [PAD] [PAD] [PAD] [PAD] [PAD] [PAD] [PAD] [PAD] [PAD] [PAD] [PAD] [PAD] [PAD] [PAD] [PAD] [PAD] [PAD] [PAD] [PAD] [PAD] [PAD] [PAD] [PAD] [PAD] [PAD] [PAD] [PAD] [PAD] [PAD] [PAD] [PAD] [PAD] [PAD] [PAD] [PAD] [PAD] [PAD] [PAD] [PAD] [PAD] [PAD] [PAD] [PAD] [PAD] [PAD] [PAD] [PAD] [PAD] [PAD] [PAD] [PAD] [PAD] [PAD] [PAD] [PAD] [PAD] [PAD] [PAD] [PAD] [PAD] [PAD] [PAD] [PAD] [PAD] [PAD] [PAD] [PAD] [PAD] [PAD] [PAD] [PAD] [PAD] [PAD] [PAD] [PAD] [PAD] [PAD] [PAD] [PAD] [PAD] [PAD] [PAD] [PAD] [PAD] [PAD] [PAD] [PAD] [PAD] [PAD] [PAD] [PAD] [PAD] [PAD] [PAD] [PAD] [PAD] [PAD] [PAD] [PAD] [PAD] [PAD] [PAD] [PAD] [PAD] [PAD] [PAD] [PAD] [PAD] [PAD] [PAD] [PAD] [PAD] [PAD] [PAD] [PAD] [PAD] [PAD] [PAD] [PAD] [PAD] [PAD] [PAD] [PAD] [PAD] [PAD] [PAD] [PAD] [PAD] [PAD] [PAD] [PAD] [PAD] [PAD] [PAD] [PAD] [PAD] [PAD] [PAD] [PAD] [PAD] [PAD] [PAD] [PAD] [PAD] [PAD] [PAD] [PAD] [PAD] [PAD] [PAD] [PAD] [PAD] [PAD] [PAD] [PAD] [PAD] [PAD] [PAD] [PAD] [PAD] [PAD] [PAD] [PAD] [PAD] [PAD] [PAD] [PAD] [PAD] [PAD] [PAD] [PAD] [PAD] [PAD] [PAD] [PAD] [PAD] [PAD] [PAD] [PAD] [PAD] [PAD] [PAD] [PAD] [PAD] [PAD] [PAD] [PAD] [PAD] [PAD] [PAD] [PAD] [PAD] [PAD] [PAD] [PAD] [PAD] [PAD] [PAD] [PAD] [PAD] [PAD] [PAD] [PAD] [PAD] [PAD]\n",
      "\n",
      "Sample_attention_mask:  \n",
      " 400 \n",
      " [1, 1, 1, 1, 1, 1, 1, 1, 1, 1, 1, 1, 1, 1, 1, 0, 0, 0, 0, 0, 0, 0, 0, 0, 0, 0, 0, 0, 0, 0, 0, 0, 0, 0, 0, 0, 0, 0, 0, 0, 0, 0, 0, 0, 0, 0, 0, 0, 0, 0, 0, 0, 0, 0, 0, 0, 0, 0, 0, 0, 0, 0, 0, 0, 0, 0, 0, 0, 0, 0, 0, 0, 0, 0, 0, 0, 0, 0, 0, 0, 0, 0, 0, 0, 0, 0, 0, 0, 0, 0, 0, 0, 0, 0, 0, 0, 0, 0, 0, 0, 0, 0, 0, 0, 0, 0, 0, 0, 0, 0, 0, 0, 0, 0, 0, 0, 0, 0, 0, 0, 0, 0, 0, 0, 0, 0, 0, 0, 0, 0, 0, 0, 0, 0, 0, 0, 0, 0, 0, 0, 0, 0, 0, 0, 0, 0, 0, 0, 0, 0, 0, 0, 0, 0, 0, 0, 0, 0, 0, 0, 0, 0, 0, 0, 0, 0, 0, 0, 0, 0, 0, 0, 0, 0, 0, 0, 0, 0, 0, 0, 0, 0, 0, 0, 0, 0, 0, 0, 0, 0, 0, 0, 0, 0, 0, 0, 0, 0, 0, 0, 0, 0, 0, 0, 0, 0, 0, 0, 0, 0, 0, 0, 0, 0, 0, 0, 0, 0, 0, 0, 0, 0, 0, 0, 0, 0, 0, 0, 0, 0, 0, 0, 0, 0, 0, 0, 0, 0, 0, 0, 0, 0, 0, 0, 0, 0, 0, 0, 0, 0, 0, 0, 0, 0, 0, 0, 0, 0, 0, 0, 0, 0, 0, 0, 0, 0, 0, 0, 0, 0, 0, 0, 0, 0, 0, 0, 0, 0, 0, 0, 0, 0, 0, 0, 0, 0, 0, 0, 0, 0, 0, 0, 0, 0, 0, 0, 0, 0, 0, 0, 0, 0, 0, 0, 0, 0, 0, 0, 0, 0, 0, 0, 0, 0, 0, 0, 0, 0, 0, 0, 0, 0, 0, 0, 0, 0, 0, 0, 0, 0, 0, 0, 0, 0, 0, 0, 0, 0, 0, 0, 0, 0, 0, 0, 0, 0, 0, 0, 0, 0, 0, 0, 0, 0, 0, 0, 0, 0, 0, 0, 0, 0, 0, 0, 0, 0, 0, 0, 0, 0, 0, 0, 0, 0, 0, 0, 0, 0, 0, 0, 0, 0, 0, 0, 0, 0, 0, 0, 0, 0, 0, 0, 0, 0, 0, 0, 0, 0, 0, 0]\n",
      "\n"
     ]
    }
   ],
   "source": [
    "# sample을 확인하는 함수입니다.\n",
    "def sample_check(type_, num):\n",
    "\n",
    "    print(\"Sample_Idx: \", dataset[type_].select(range(10))['idx'][num], end=\"\\n\\n\")\n",
    "\n",
    "    print(\"Sample_label: \", dataset[type_].select(range(10))['label'][num], end=\"\\n\\n\")\n",
    "\n",
    "    print(\"Sample_premise \", dataset[type_].select(range(10))['premise'][num], end=\"\\n\\n\")\n",
    "\n",
    "    print(\"Sample_hypothesis: \", dataset[type_].select(range(10))['hypothesis'][num], end=\"\\n\\n\")\n",
    "\n",
    "    print(\"Sample_input_ids: \", \"\\n\",len(dataset[type_].select(range(10))['input_ids'][num]),\"\\n\",dataset[type_].select(range(10))['input_ids'][num], end=\"\\n\\n\")\n",
    "\n",
    "    print(\"Sample_decoded_input_ids: \", \"\\n\",len(dataset[type_].select(range(10))['input_ids'][num]),\"\\n\",tokenizer.decode(dataset[type_].select(range(10))['input_ids'][num]), end=\"\\n\\n\")\n",
    "\n",
    "    print(\"Sample_attention_mask: \", \"\\n\", len(dataset[type_].select(range(10))['attention_mask'][num]),\"\\n\", dataset[type_].select(range(10))['attention_mask'][num], end=\"\\n\\n\")\n",
    "\n",
    "sample_check(type_ = 'train', num = 3)"
   ]
  },
  {
   "cell_type": "markdown",
   "metadata": {
    "id": "M4Qj6oTuZF_g"
   },
   "source": [
    "### 1.6 [My Code] EDA (1) - Length Check\n",
    "\n",
    "- right skewed 되어 있기에 이를 동적 패딩에 오롯이 맡기는 것은 오히려 메모리 비효율을 초래합니다.\n",
    "\n",
    "- 따라서 400 이상인 것만 잘라내고 400이하인 것은 패딩하지 않은 채 사용하는 것이 일반적입니다.\n",
    "\n",
    "- 후에 데이터 collator를 통해 동적 패딩을 맡기더라도 400 이상은 자르는 게 맞다고 생각합니다.\n",
    "\n",
    "- premise와 hypothesis의 평균 합은 200 정도이며, 표준편차의 합은 100정도입니다.\n",
    "\n",
    "- 따라서 400으로 max_len으로 잡으면 평균 + 2표준편차이므로 99%의 데이터를 포함하게 됩니다."
   ]
  },
  {
   "cell_type": "code",
   "execution_count": null,
   "metadata": {
    "colab": {
     "base_uri": "https://localhost:8080/",
     "height": 1000
    },
    "id": "-46mk_ygZF_g",
    "outputId": "a535632a-8b3f-4de0-dddc-5fbbf18bbb71"
   },
   "outputs": [
    {
     "data": {
      "image/png": "[encoded data removed]",
      "text/plain": [
       "<Figure size 1400x1000 with 3 Axes>"
      ]
     },
     "metadata": {},
     "output_type": "display_data"
    },
    {
     "data": {
      "image/png": "[encoded data removed]",
      "text/plain": [
       "<Figure size 1400x1000 with 3 Axes>"
      ]
     },
     "metadata": {},
     "output_type": "display_data"
    }
   ],
   "source": [
    "# 텍스트 길이의 평균, 표준편차, 왜도, 첨도 계산\n",
    "import matplotlib.pyplot as plt\n",
    "import numpy as np\n",
    "import seaborn as sns\n",
    "from scipy.stats import skew, kurtosis\n",
    "\n",
    "def length_plot(data, name):\n",
    "    plt.hist(data, bins=30, alpha=0.6, label=f'Histogram', color='blue', edgecolor='black', density=True)\n",
    "    sns.kdeplot(data, label=f'Density Plot', color='red', linewidth=2)\n",
    "\n",
    "    mean_value = np.mean(data)\n",
    "    mean_value = np.mean(data)\n",
    "    std_dev = np.std(data)\n",
    "    skewness = skew(data)\n",
    "    kurt = kurtosis(data)\n",
    "    median_value = np.median(data)\n",
    "\n",
    "    plt.axvline(mean_value, color='green', linestyle='--', linewidth=1.5, label=f'Mean: {mean_value:.2f}')\n",
    "    plt.axvline(median_value, color='orange', linestyle='--', linewidth=1.5, label=f'Median: {median_value:.2f}')\n",
    "    plt.title(f'{name}- Mean: {mean_value:.2f}, Std: {std_dev:.2f}, \\nSkewness: {skewness:.2f}, Kurtois: {kurt:.2f}', fontsize=16)\n",
    "    plt.xlabel('Document Length', fontsize=12)\n",
    "    plt.ylabel('Density', fontsize=12)\n",
    "    plt.legend()\n",
    "    plt.grid(True)\n",
    "\n",
    "def final_plotting(type):\n",
    "    plt.figure(figsize=(14,10))\n",
    "    for i, name in enumerate(['train', 'val', 'test']):\n",
    "        plt.subplot(2,2,i+1)\n",
    "        length_plot([len(data)for data in dataset[name][type]], name+\" \"+type)\n",
    "    plt.suptitle(\"Length Distribution\", fontsize=16)\n",
    "    plt.tight_layout()\n",
    "    plt.show()\n",
    "\n",
    "final_plotting('premise')\n",
    "\n",
    "final_plotting('hypothesis')"
   ]
  },
  {
   "cell_type": "markdown",
   "metadata": {
    "id": "-Jodjal9ZF_g"
   },
   "source": [
    "### 1.7 [My Code] EDA (2) - Label Distribution\n",
    "\n",
    "0: Entailment (포함) - 전제가 가설을 포함하는 경우\n",
    "\n",
    "1: Neutral (중립) - 전제가 가설을 지지하지도, 반박하지도 않는 경우\n",
    "\n",
    "2: Contradiction (모순) - 전제가 가설과 모순되는 경우"
   ]
  },
  {
   "cell_type": "code",
   "execution_count": null,
   "metadata": {
    "colab": {
     "base_uri": "https://localhost:8080/",
     "height": 143
    },
    "id": "n37xYUEHZF_g",
    "outputId": "977417be-5769-4753-ac9d-2e5e95c0f466"
   },
   "outputs": [
    {
     "data": {
      "application/vnd.google.colaboratory.intrinsic+json": {
       "summary": "{\n  \"name\": \"df\",\n  \"rows\": 3,\n  \"fields\": [\n    {\n      \"column\": 0,\n      \"properties\": {\n        \"dtype\": \"number\",\n        \"std\": 0.0029186967294874064,\n        \"min\": 0.3299635863614372,\n        \"max\": 0.33579514344288386,\n        \"num_unique_values\": 3,\n        \"samples\": [\n          0.33310536999177875,\n          0.33579514344288386,\n          0.3299635863614372\n        ],\n        \"semantic_type\": \"\",\n        \"description\": \"\"\n      }\n    },\n    {\n      \"column\": 1,\n      \"properties\": {\n        \"dtype\": \"number\",\n        \"std\": 0.0029329656410250673,\n        \"min\": 0.3327925266826241,\n        \"max\": 0.3379338443125971,\n        \"num_unique_values\": 3,\n        \"samples\": [\n          0.3327925266826241,\n          0.33291737231482305,\n          0.3379338443125971\n        ],\n        \"semantic_type\": \"\",\n        \"description\": \"\"\n      }\n    },\n    {\n      \"column\": 2,\n      \"properties\": {\n        \"dtype\": \"number\",\n        \"std\": 0.001448250697301598,\n        \"min\": 0.33128748424229304,\n        \"max\": 0.33410210332559714,\n        \"num_unique_values\": 3,\n        \"samples\": [\n          0.33410210332559714,\n          0.33128748424229304,\n          0.3321025693259657\n        ],\n        \"semantic_type\": \"\",\n        \"description\": \"\"\n      }\n    }\n  ]\n}",
       "type": "dataframe",
       "variable_name": "df"
      },
      "text/html": [
       "\n",
       "  <div id=\"df-d0f1ac32-3d45-426c-b639-a4266f7e960a\" class=\"colab-df-container\">\n",
       "    <div>\n",
       "<style scoped>\n",
       "    .dataframe tbody tr th:only-of-type {\n",
       "        vertical-align: middle;\n",
       "    }\n",
       "\n",
       "    .dataframe tbody tr th {\n",
       "        vertical-align: top;\n",
       "    }\n",
       "\n",
       "    .dataframe thead th {\n",
       "        text-align: right;\n",
       "    }\n",
       "</style>\n",
       "<table border=\"1\" class=\"dataframe\">\n",
       "  <thead>\n",
       "    <tr style=\"text-align: right;\">\n",
       "      <th></th>\n",
       "      <th>0</th>\n",
       "      <th>1</th>\n",
       "      <th>2</th>\n",
       "    </tr>\n",
       "  </thead>\n",
       "  <tbody>\n",
       "    <tr>\n",
       "      <th>train</th>\n",
       "      <td>0.333105</td>\n",
       "      <td>0.332793</td>\n",
       "      <td>0.334102</td>\n",
       "    </tr>\n",
       "    <tr>\n",
       "      <th>val</th>\n",
       "      <td>0.335795</td>\n",
       "      <td>0.332917</td>\n",
       "      <td>0.331287</td>\n",
       "    </tr>\n",
       "    <tr>\n",
       "      <th>test</th>\n",
       "      <td>0.329964</td>\n",
       "      <td>0.337934</td>\n",
       "      <td>0.332103</td>\n",
       "    </tr>\n",
       "  </tbody>\n",
       "</table>\n",
       "</div>\n",
       "    <div class=\"colab-df-buttons\">\n",
       "\n",
       "  <div class=\"colab-df-container\">\n",
       "    <button class=\"colab-df-convert\" onclick=\"convertToInteractive('df-d0f1ac32-3d45-426c-b639-a4266f7e960a')\"\n",
       "            title=\"Convert this dataframe to an interactive table.\"\n",
       "            style=\"display:none;\">\n",
       "\n",
       "  <svg xmlns=\"http://www.w3.org/2000/svg\" height=\"24px\" viewBox=\"0 -960 960 960\">\n",
       "    <path d=\"M120-120v-720h720v720H120Zm60-500h600v-160H180v160Zm220 220h160v-160H400v160Zm0 220h160v-160H400v160ZM180-400h160v-160H180v160Zm440 0h160v-160H620v160ZM180-180h160v-160H180v160Zm440 0h160v-160H620v160Z\"/>\n",
       "  </svg>\n",
       "    </button>\n",
       "\n",
       "  <style>\n",
       "    .colab-df-container {\n",
       "      display:flex;\n",
       "      gap: 12px;\n",
       "    }\n",
       "\n",
       "    .colab-df-convert {\n",
       "      background-color: #E8F0FE;\n",
       "      border: none;\n",
       "      border-radius: 50%;\n",
       "      cursor: pointer;\n",
       "      display: none;\n",
       "      fill: #1967D2;\n",
       "      height: 32px;\n",
       "      padding: 0 0 0 0;\n",
       "      width: 32px;\n",
       "    }\n",
       "\n",
       "    .colab-df-convert:hover {\n",
       "      background-color: #E2EBFA;\n",
       "      box-shadow: 0px 1px 2px rgba(60, 64, 67, 0.3), 0px 1px 3px 1px rgba(60, 64, 67, 0.15);\n",
       "      fill: #174EA6;\n",
       "    }\n",
       "\n",
       "    .colab-df-buttons div {\n",
       "      margin-bottom: 4px;\n",
       "    }\n",
       "\n",
       "    [theme=dark] .colab-df-convert {\n",
       "      background-color: #3B4455;\n",
       "      fill: #D2E3FC;\n",
       "    }\n",
       "\n",
       "    [theme=dark] .colab-df-convert:hover {\n",
       "      background-color: #434B5C;\n",
       "      box-shadow: 0px 1px 3px 1px rgba(0, 0, 0, 0.15);\n",
       "      filter: drop-shadow(0px 1px 2px rgba(0, 0, 0, 0.3));\n",
       "      fill: #FFFFFF;\n",
       "    }\n",
       "  </style>\n",
       "\n",
       "    <script>\n",
       "      const buttonEl =\n",
       "        document.querySelector('#df-d0f1ac32-3d45-426c-b639-a4266f7e960a button.colab-df-convert');\n",
       "      buttonEl.style.display =\n",
       "        google.colab.kernel.accessAllowed ? 'block' : 'none';\n",
       "\n",
       "      async function convertToInteractive(key) {\n",
       "        const element = document.querySelector('#df-d0f1ac32-3d45-426c-b639-a4266f7e960a');\n",
       "        const dataTable =\n",
       "          await google.colab.kernel.invokeFunction('convertToInteractive',\n",
       "                                                    [key], {});\n",
       "        if (!dataTable) return;\n",
       "\n",
       "        const docLinkHtml = 'Like what you see? Visit the ' +\n",
       "          '<a target=\"_blank\" href=https://colab.research.google.com/notebooks/data_table.ipynb>data table notebook</a>'\n",
       "          + ' to learn more about interactive tables.';\n",
       "        element.innerHTML = '';\n",
       "        dataTable['output_type'] = 'display_data';\n",
       "        await google.colab.output.renderOutput(dataTable, element);\n",
       "        const docLink = document.createElement('div');\n",
       "        docLink.innerHTML = docLinkHtml;\n",
       "        element.appendChild(docLink);\n",
       "      }\n",
       "    </script>\n",
       "  </div>\n",
       "\n",
       "\n",
       "<div id=\"df-2fff00cc-bc59-4f91-bd05-f6d646ad700a\">\n",
       "  <button class=\"colab-df-quickchart\" onclick=\"quickchart('df-2fff00cc-bc59-4f91-bd05-f6d646ad700a')\"\n",
       "            title=\"Suggest charts\"\n",
       "            style=\"display:none;\">\n",
       "\n",
       "<svg xmlns=\"http://www.w3.org/2000/svg\" height=\"24px\"viewBox=\"0 0 24 24\"\n",
       "     width=\"24px\">\n",
       "    <g>\n",
       "        <path d=\"M19 3H5c-1.1 0-2 .9-2 2v14c0 1.1.9 2 2 2h14c1.1 0 2-.9 2-2V5c0-1.1-.9-2-2-2zM9 17H7v-7h2v7zm4 0h-2V7h2v10zm4 0h-2v-4h2v4z\"/>\n",
       "    </g>\n",
       "</svg>\n",
       "  </button>\n",
       "\n",
       "<style>\n",
       "  .colab-df-quickchart {\n",
       "      --bg-color: #E8F0FE;\n",
       "      --fill-color: #1967D2;\n",
       "      --hover-bg-color: #E2EBFA;\n",
       "      --hover-fill-color: #174EA6;\n",
       "      --disabled-fill-color: #AAA;\n",
       "      --disabled-bg-color: #DDD;\n",
       "  }\n",
       "\n",
       "  [theme=dark] .colab-df-quickchart {\n",
       "      --bg-color: #3B4455;\n",
       "      --fill-color: #D2E3FC;\n",
       "      --hover-bg-color: #434B5C;\n",
       "      --hover-fill-color: #FFFFFF;\n",
       "      --disabled-bg-color: #3B4455;\n",
       "      --disabled-fill-color: #666;\n",
       "  }\n",
       "\n",
       "  .colab-df-quickchart {\n",
       "    background-color: var(--bg-color);\n",
       "    border: none;\n",
       "    border-radius: 50%;\n",
       "    cursor: pointer;\n",
       "    display: none;\n",
       "    fill: var(--fill-color);\n",
       "    height: 32px;\n",
       "    padding: 0;\n",
       "    width: 32px;\n",
       "  }\n",
       "\n",
       "  .colab-df-quickchart:hover {\n",
       "    background-color: var(--hover-bg-color);\n",
       "    box-shadow: 0 1px 2px rgba(60, 64, 67, 0.3), 0 1px 3px 1px rgba(60, 64, 67, 0.15);\n",
       "    fill: var(--button-hover-fill-color);\n",
       "  }\n",
       "\n",
       "  .colab-df-quickchart-complete:disabled,\n",
       "  .colab-df-quickchart-complete:disabled:hover {\n",
       "    background-color: var(--disabled-bg-color);\n",
       "    fill: var(--disabled-fill-color);\n",
       "    box-shadow: none;\n",
       "  }\n",
       "\n",
       "  .colab-df-spinner {\n",
       "    border: 2px solid var(--fill-color);\n",
       "    border-color: transparent;\n",
       "    border-bottom-color: var(--fill-color);\n",
       "    animation:\n",
       "      spin 1s steps(1) infinite;\n",
       "  }\n",
       "\n",
       "  @keyframes spin {\n",
       "    0% {\n",
       "      border-color: transparent;\n",
       "      border-bottom-color: var(--fill-color);\n",
       "      border-left-color: var(--fill-color);\n",
       "    }\n",
       "    20% {\n",
       "      border-color: transparent;\n",
       "      border-left-color: var(--fill-color);\n",
       "      border-top-color: var(--fill-color);\n",
       "    }\n",
       "    30% {\n",
       "      border-color: transparent;\n",
       "      border-left-color: var(--fill-color);\n",
       "      border-top-color: var(--fill-color);\n",
       "      border-right-color: var(--fill-color);\n",
       "    }\n",
       "    40% {\n",
       "      border-color: transparent;\n",
       "      border-right-color: var(--fill-color);\n",
       "      border-top-color: var(--fill-color);\n",
       "    }\n",
       "    60% {\n",
       "      border-color: transparent;\n",
       "      border-right-color: var(--fill-color);\n",
       "    }\n",
       "    80% {\n",
       "      border-color: transparent;\n",
       "      border-right-color: var(--fill-color);\n",
       "      border-bottom-color: var(--fill-color);\n",
       "    }\n",
       "    90% {\n",
       "      border-color: transparent;\n",
       "      border-bottom-color: var(--fill-color);\n",
       "    }\n",
       "  }\n",
       "</style>\n",
       "\n",
       "  <script>\n",
       "    async function quickchart(key) {\n",
       "      const quickchartButtonEl =\n",
       "        document.querySelector('#' + key + ' button');\n",
       "      quickchartButtonEl.disabled = true;  // To prevent multiple clicks.\n",
       "      quickchartButtonEl.classList.add('colab-df-spinner');\n",
       "      try {\n",
       "        const charts = await google.colab.kernel.invokeFunction(\n",
       "            'suggestCharts', [key], {});\n",
       "      } catch (error) {\n",
       "        console.error('Error during call to suggestCharts:', error);\n",
       "      }\n",
       "      quickchartButtonEl.classList.remove('colab-df-spinner');\n",
       "      quickchartButtonEl.classList.add('colab-df-quickchart-complete');\n",
       "    }\n",
       "    (() => {\n",
       "      let quickchartButtonEl =\n",
       "        document.querySelector('#df-2fff00cc-bc59-4f91-bd05-f6d646ad700a button');\n",
       "      quickchartButtonEl.style.display =\n",
       "        google.colab.kernel.accessAllowed ? 'block' : 'none';\n",
       "    })();\n",
       "  </script>\n",
       "</div>\n",
       "\n",
       "  <div id=\"id_6e52cd6b-9579-472c-85a0-edbed35eea5c\">\n",
       "    <style>\n",
       "      .colab-df-generate {\n",
       "        background-color: #E8F0FE;\n",
       "        border: none;\n",
       "        border-radius: 50%;\n",
       "        cursor: pointer;\n",
       "        display: none;\n",
       "        fill: #1967D2;\n",
       "        height: 32px;\n",
       "        padding: 0 0 0 0;\n",
       "        width: 32px;\n",
       "      }\n",
       "\n",
       "      .colab-df-generate:hover {\n",
       "        background-color: #E2EBFA;\n",
       "        box-shadow: 0px 1px 2px rgba(60, 64, 67, 0.3), 0px 1px 3px 1px rgba(60, 64, 67, 0.15);\n",
       "        fill: #174EA6;\n",
       "      }\n",
       "\n",
       "      [theme=dark] .colab-df-generate {\n",
       "        background-color: #3B4455;\n",
       "        fill: #D2E3FC;\n",
       "      }\n",
       "\n",
       "      [theme=dark] .colab-df-generate:hover {\n",
       "        background-color: #434B5C;\n",
       "        box-shadow: 0px 1px 3px 1px rgba(0, 0, 0, 0.15);\n",
       "        filter: drop-shadow(0px 1px 2px rgba(0, 0, 0, 0.3));\n",
       "        fill: #FFFFFF;\n",
       "      }\n",
       "    </style>\n",
       "    <button class=\"colab-df-generate\" onclick=\"generateWithVariable('df')\"\n",
       "            title=\"Generate code using this dataframe.\"\n",
       "            style=\"display:none;\">\n",
       "\n",
       "  <svg xmlns=\"http://www.w3.org/2000/svg\" height=\"24px\"viewBox=\"0 0 24 24\"\n",
       "       width=\"24px\">\n",
       "    <path d=\"M7,19H8.4L18.45,9,17,7.55,7,17.6ZM5,21V16.75L18.45,3.32a2,2,0,0,1,2.83,0l1.4,1.43a1.91,1.91,0,0,1,.58,1.4,1.91,1.91,0,0,1-.58,1.4L9.25,21ZM18.45,9,17,7.55Zm-12,3A5.31,5.31,0,0,0,4.9,8.1,5.31,5.31,0,0,0,1,6.5,5.31,5.31,0,0,0,4.9,4.9,5.31,5.31,0,0,0,6.5,1,5.31,5.31,0,0,0,8.1,4.9,5.31,5.31,0,0,0,12,6.5,5.46,5.46,0,0,0,6.5,12Z\"/>\n",
       "  </svg>\n",
       "    </button>\n",
       "    <script>\n",
       "      (() => {\n",
       "      const buttonEl =\n",
       "        document.querySelector('#id_6e52cd6b-9579-472c-85a0-edbed35eea5c button.colab-df-generate');\n",
       "      buttonEl.style.display =\n",
       "        google.colab.kernel.accessAllowed ? 'block' : 'none';\n",
       "\n",
       "      buttonEl.onclick = () => {\n",
       "        google.colab.notebook.generateWithVariable('df');\n",
       "      }\n",
       "      })();\n",
       "    </script>\n",
       "  </div>\n",
       "\n",
       "    </div>\n",
       "  </div>\n"
      ],
      "text/plain": [
       "              0         1         2\n",
       "train  0.333105  0.332793  0.334102\n",
       "val    0.335795  0.332917  0.331287\n",
       "test   0.329964  0.337934  0.332103"
      ]
     },
     "metadata": {},
     "output_type": "display_data"
    }
   ],
   "source": [
    "# 라벨 분포도 계산\n",
    "# 전체적으로 고르게 분포해 있기에 라벨 불균형을 그다지 문제시 하지 않았습니다.\n",
    "import pandas as pd\n",
    "import numpy as np\n",
    "from IPython.display import display\n",
    "\n",
    "df = pd.DataFrame(\n",
    "    [\n",
    "        pd.Series(dataset['train']['label']).value_counts(normalize=True).sort_index(),\n",
    "        pd.Series(dataset['val']['label']).value_counts(normalize=True).sort_index(),\n",
    "        pd.Series(dataset['test']['label']).value_counts(normalize=True).sort_index(),\n",
    "    ],\n",
    "    index = ['train','val','test'],\n",
    ")\n",
    "\n",
    "display(df)"
   ]
  },
  {
   "cell_type": "markdown",
   "metadata": {
    "id": "8Q3p6T15ZF_h"
   },
   "source": [
    "## 2 [My Code] Training"
   ]
  },
  {
   "cell_type": "markdown",
   "metadata": {
    "id": "e-3VRcN3Vzck"
   },
   "source": [
    "### 2.1 [My Code] DataCollator"
   ]
  },
  {
   "cell_type": "code",
   "execution_count": null,
   "metadata": {
    "id": "lE6bzd3hFW3x"
   },
   "outputs": [],
   "source": [
    "from transformers import DataCollatorWithPadding\n",
    "# 동적 패딩을 배치 단위로 하기 위해서 data collator를 사용합니다.\n",
    "data_collator = DataCollatorWithPadding(tokenizer=tokenizer)"
   ]
  },
  {
   "cell_type": "markdown",
   "metadata": {
    "id": "pD0CkiWBV3_2"
   },
   "source": [
    "### 2.2 [My Code] Metric and Training args"
   ]
  },
  {
   "cell_type": "code",
   "execution_count": null,
   "metadata": {
    "id": "Wk4gR2kuZF_h"
   },
   "outputs": [],
   "source": [
    "from transformers import TrainingArguments, Trainer\n",
    "from sklearn.metrics import accuracy_score, f1_score, precision_score, recall_score\n",
    "\n",
    "# compute metrics은 반드시 아래와 같이 dict의 형태로 나와야 합니다.\n",
    "# accuracy, f1, precision, recall을 모두 계산합니다.\n",
    "def compute_metrics(eval_pred):\n",
    "    logits, labels = eval_pred\n",
    "    predictions = np.argmax(logits, axis=-1)\n",
    "    accuracy = accuracy_score(predictions, labels)\n",
    "    f1 = f1_score(predictions, labels, average=\"weighted\")\n",
    "    precision = precision_score(predictions, labels, average=\"weighted\")\n",
    "    recall = recall_score(predictions, labels, average=\"weighted\")\n",
    "    return {\n",
    "        'accuracy': accuracy,\n",
    "        'f1': f1,\n",
    "        'precision': precision,\n",
    "        'recall': recall\n",
    "        }\n",
    "\n",
    "training_args = TrainingArguments(\n",
    "    output_dir=results_dir,\n",
    "    num_train_epochs=n_epochs,\n",
    "    eval_strategy=\"epoch\",\n",
    "    save_strategy=\"epoch\",\n",
    "    logging_strategy=\"epoch\",\n",
    "    logging_dir=results_dir,\n",
    "    per_device_train_batch_size=batch_size,\n",
    "    per_device_eval_batch_size=batch_size,\n",
    "    report_to=\"none\"\n",
    ")"
   ]
  },
  {
   "cell_type": "markdown",
   "metadata": {
    "id": "bAODCSTEV-y0"
   },
   "source": [
    "### 2.3 [My Code] Trainer"
   ]
  },
  {
   "cell_type": "code",
   "execution_count": null,
   "metadata": {
    "id": "C2MC4I4bZF_h"
   },
   "outputs": [],
   "source": [
    "trainer = Trainer(\n",
    "    model=model,\n",
    "    args=training_args,\n",
    "    train_dataset=dataset[\"train\"],\n",
    "    eval_dataset=dataset[\"val\"],\n",
    "    compute_metrics=compute_metrics,\n",
    "    data_collator = data_collator\n",
    ")"
   ]
  },
  {
   "cell_type": "markdown",
   "metadata": {
    "id": "Bn9A2X9-WB9I"
   },
   "source": [
    "## 3 [My Code] Metric Check"
   ]
  },
  {
   "cell_type": "markdown",
   "metadata": {
    "id": "xRiFqgShWHvH"
   },
   "source": [
    "### 3.1 [Log] Initial"
   ]
  },
  {
   "cell_type": "code",
   "execution_count": null,
   "metadata": {
    "colab": {
     "base_uri": "https://localhost:8080/",
     "height": 180
    },
    "id": "XbAZKsaKFW3y",
    "outputId": "e9e7aa89-2d0f-4cba-ce02-0d409513c985"
   },
   "outputs": [
    {
     "data": {
      "text/html": [],
      "text/plain": [
       "<IPython.core.display.HTML object>"
      ]
     },
     "metadata": {},
     "output_type": "display_data"
    },
    {
     "name": "stderr",
     "output_type": "stream",
     "text": [
      "/usr/local/lib/python3.10/dist-packages/sklearn/metrics/_classification.py:1565: UndefinedMetricWarning: Recall is ill-defined and being set to 0.0 in labels with no true samples. Use `zero_division` parameter to control this behavior.\n",
      "  _warn_prf(average, modifier, f\"{metric.capitalize()} is\", len(result))\n"
     ]
    },
    {
     "name": "stdout",
     "output_type": "stream",
     "text": [
      "Test Metrics: \n",
      " loss:  1.1007524728775024 \n",
      " accuracy:  0.33686435283033284 \n",
      " f1: 0.4278185851465551 \n",
      " precision:  0.6655328222360853 \n",
      " recall: 0.33686435283033284\n"
     ]
    }
   ],
   "source": [
    "# 테스트 데이터셋에 대한 예측과 평가를 진행합니다.\n",
    "initial_test_metrics = trainer.predict(test_dataset=dataset[\"test\"])\n",
    "initial_metrics = initial_test_metrics.metrics\n",
    "print(f\"Test Metrics:\", \"\\n\",\n",
    "      \"loss: \", initial_metrics['test_loss'], \"\\n\",\n",
    "      \"accuracy: \", initial_metrics['test_accuracy'], \"\\n\",\n",
    "      \"f1:\", initial_metrics['test_f1'], \"\\n\",\n",
    "      \"precision: \", initial_metrics['test_precision'], \"\\n\",\n",
    "      \"recall:\", initial_metrics['test_recall']\n",
    "      )"
   ]
  },
  {
   "cell_type": "markdown",
   "metadata": {
    "id": "quDxzKGFWJnc"
   },
   "source": [
    "### 3.2 [Log] Train"
   ]
  },
  {
   "cell_type": "code",
   "execution_count": null,
   "metadata": {
    "colab": {
     "base_uri": "https://localhost:8080/",
     "height": 545
    },
    "id": "X9aK-JYwZF_h",
    "outputId": "55a4a158-33f7-48f8-a634-66bf1c8d8799"
   },
   "outputs": [
    {
     "data": {
      "text/html": [
       "\n",
       "    <div>\n",
       "      \n",
       "      <progress value='10405' max='42960' style='width:300px; height:20px; vertical-align: middle;'></progress>\n",
       "      [10405/42960 38:33 < 2:00:40, 4.50 it/s, Epoch 2.42/10]\n",
       "    </div>\n",
       "    <table border=\"1\" class=\"dataframe\">\n",
       "  <thead>\n",
       " <tr style=\"text-align: left;\">\n",
       "      <th>Epoch</th>\n",
       "      <th>Training Loss</th>\n",
       "      <th>Validation Loss</th>\n",
       "      <th>Model Preparation Time</th>\n",
       "      <th>Accuracy</th>\n",
       "      <th>F1</th>\n",
       "      <th>Precision</th>\n",
       "      <th>Recall</th>\n",
       "    </tr>\n",
       "  </thead>\n",
       "  <tbody>\n",
       "    <tr>\n",
       "      <td>1</td>\n",
       "      <td>1.039700</td>\n",
       "      <td>1.003510</td>\n",
       "      <td>0.001800</td>\n",
       "      <td>0.500452</td>\n",
       "      <td>0.501997</td>\n",
       "      <td>0.506057</td>\n",
       "      <td>0.500452</td>\n",
       "    </tr>\n",
       "    <tr>\n",
       "      <td>2</td>\n",
       "      <td>1.011600</td>\n",
       "      <td>0.990747</td>\n",
       "      <td>0.001800</td>\n",
       "      <td>0.511365</td>\n",
       "      <td>0.511014</td>\n",
       "      <td>0.512754</td>\n",
       "      <td>0.511365</td>\n",
       "    </tr>\n",
       "  </tbody>\n",
       "</table><p>"
      ],
      "text/plain": [
       "<IPython.core.display.HTML object>"
      ]
     },
     "metadata": {},
     "output_type": "display_data"
    },
    {
     "data": {
      "text/html": [
       "\n",
       "    <div>\n",
       "      \n",
       "      <progress value='42960' max='42960' style='width:300px; height:20px; vertical-align: middle;'></progress>\n",
       "      [42960/42960 2:45:32, Epoch 10/10]\n",
       "    </div>\n",
       "    <table border=\"1\" class=\"dataframe\">\n",
       "  <thead>\n",
       " <tr style=\"text-align: left;\">\n",
       "      <th>Epoch</th>\n",
       "      <th>Training Loss</th>\n",
       "      <th>Validation Loss</th>\n",
       "      <th>Model Preparation Time</th>\n",
       "      <th>Accuracy</th>\n",
       "      <th>F1</th>\n",
       "      <th>Precision</th>\n",
       "      <th>Recall</th>\n",
       "    </tr>\n",
       "  </thead>\n",
       "  <tbody>\n",
       "    <tr>\n",
       "      <td>1</td>\n",
       "      <td>1.039700</td>\n",
       "      <td>1.003510</td>\n",
       "      <td>0.001800</td>\n",
       "      <td>0.500452</td>\n",
       "      <td>0.501997</td>\n",
       "      <td>0.506057</td>\n",
       "      <td>0.500452</td>\n",
       "    </tr>\n",
       "    <tr>\n",
       "      <td>2</td>\n",
       "      <td>1.011600</td>\n",
       "      <td>0.990747</td>\n",
       "      <td>0.001800</td>\n",
       "      <td>0.511365</td>\n",
       "      <td>0.511014</td>\n",
       "      <td>0.512754</td>\n",
       "      <td>0.511365</td>\n",
       "    </tr>\n",
       "    <tr>\n",
       "      <td>3</td>\n",
       "      <td>1.003200</td>\n",
       "      <td>0.984126</td>\n",
       "      <td>0.001800</td>\n",
       "      <td>0.517324</td>\n",
       "      <td>0.521220</td>\n",
       "      <td>0.531971</td>\n",
       "      <td>0.517324</td>\n",
       "    </tr>\n",
       "    <tr>\n",
       "      <td>4</td>\n",
       "      <td>0.998500</td>\n",
       "      <td>0.977650</td>\n",
       "      <td>0.001800</td>\n",
       "      <td>0.521857</td>\n",
       "      <td>0.522314</td>\n",
       "      <td>0.523100</td>\n",
       "      <td>0.521857</td>\n",
       "    </tr>\n",
       "    <tr>\n",
       "      <td>5</td>\n",
       "      <td>0.994700</td>\n",
       "      <td>0.974721</td>\n",
       "      <td>0.001800</td>\n",
       "      <td>0.524200</td>\n",
       "      <td>0.525225</td>\n",
       "      <td>0.527728</td>\n",
       "      <td>0.524200</td>\n",
       "    </tr>\n",
       "    <tr>\n",
       "      <td>6</td>\n",
       "      <td>0.991000</td>\n",
       "      <td>0.972118</td>\n",
       "      <td>0.001800</td>\n",
       "      <td>0.526887</td>\n",
       "      <td>0.528965</td>\n",
       "      <td>0.534223</td>\n",
       "      <td>0.526887</td>\n",
       "    </tr>\n",
       "    <tr>\n",
       "      <td>7</td>\n",
       "      <td>0.988600</td>\n",
       "      <td>0.970130</td>\n",
       "      <td>0.001800</td>\n",
       "      <td>0.527485</td>\n",
       "      <td>0.527971</td>\n",
       "      <td>0.529221</td>\n",
       "      <td>0.527485</td>\n",
       "    </tr>\n",
       "    <tr>\n",
       "      <td>8</td>\n",
       "      <td>0.987100</td>\n",
       "      <td>0.969998</td>\n",
       "      <td>0.001800</td>\n",
       "      <td>0.527001</td>\n",
       "      <td>0.530376</td>\n",
       "      <td>0.540325</td>\n",
       "      <td>0.527001</td>\n",
       "    </tr>\n",
       "    <tr>\n",
       "      <td>9</td>\n",
       "      <td>0.984800</td>\n",
       "      <td>0.968530</td>\n",
       "      <td>0.001800</td>\n",
       "      <td>0.527536</td>\n",
       "      <td>0.530964</td>\n",
       "      <td>0.540176</td>\n",
       "      <td>0.527536</td>\n",
       "    </tr>\n",
       "    <tr>\n",
       "      <td>10</td>\n",
       "      <td>0.983800</td>\n",
       "      <td>0.966961</td>\n",
       "      <td>0.001800</td>\n",
       "      <td>0.530974</td>\n",
       "      <td>0.531780</td>\n",
       "      <td>0.533518</td>\n",
       "      <td>0.530974</td>\n",
       "    </tr>\n",
       "  </tbody>\n",
       "</table><p>"
      ],
      "text/plain": [
       "<IPython.core.display.HTML object>"
      ]
     },
     "metadata": {},
     "output_type": "display_data"
    },
    {
     "data": {
      "text/plain": [
       "TrainOutput(global_step=42960, training_loss=0.9982901518127327, metrics={'train_runtime': 9933.14, 'train_samples_per_second': 276.748, 'train_steps_per_second': 4.325, 'total_flos': 2.84497440359184e+17, 'train_loss': 0.9982901518127327, 'epoch': 10.0})"
      ]
     },
     "execution_count": 18,
     "metadata": {},
     "output_type": "execute_result"
    }
   ],
   "source": [
    "trainer.train()"
   ]
  },
  {
   "cell_type": "markdown",
   "metadata": {
    "id": "2Ks6cQAlZF_h"
   },
   "source": [
    "### 3.3 [My Code] Test Metric"
   ]
  },
  {
   "cell_type": "code",
   "execution_count": null,
   "metadata": {
    "colab": {
     "base_uri": "https://localhost:8080/",
     "height": 124
    },
    "id": "4rQcAqJyZF_h",
    "outputId": "2225f8b3-a35b-4a0b-db59-4fd951ce0b05"
   },
   "outputs": [
    {
     "data": {
      "text/html": [],
      "text/plain": [
       "<IPython.core.display.HTML object>"
      ]
     },
     "metadata": {},
     "output_type": "display_data"
    },
    {
     "name": "stdout",
     "output_type": "stream",
     "text": [
      "Test Metrics: \n",
      " loss:  0.9669053554534912 \n",
      " accuracy:  0.5275139415853938 \n",
      " f1: 0.5282343130140948 \n",
      " precision:  0.5298988056108217 \n",
      " recall: 0.5275139415853938\n"
     ]
    }
   ],
   "source": [
    "# 테스트 데이터셋에 대한 예측과 평가를 진행합니다.\n",
    "test_metrics = trainer.predict(test_dataset=dataset[\"test\"])\n",
    "metrics = test_metrics.metrics\n",
    "print(f\"Test Metrics:\", \"\\n\",\n",
    "      \"loss: \", metrics['test_loss'], \"\\n\",\n",
    "      \"accuracy: \", metrics['test_accuracy'], \"\\n\",\n",
    "      \"f1:\", metrics['test_f1'], \"\\n\",\n",
    "      \"precision: \", metrics['test_precision'], \"\\n\",\n",
    "      \"recall:\", metrics['test_recall']\n",
    "      )"
   ]
  },
  {
   "cell_type": "markdown",
   "metadata": {
    "id": "scDqZ0qUWQJ1"
   },
   "source": [
    "### 3.4 [My Code] Plotting"
   ]
  },
  {
   "cell_type": "code",
   "execution_count": null,
   "metadata": {
    "colab": {
     "base_uri": "https://localhost:8080/",
     "height": 1000
    },
    "id": "YGKbz6gBZF_h",
    "outputId": "9ea1ad9d-b006-4e67-a6a1-803084722c17"
   },
   "outputs": [
    {
     "name": "stdout",
     "output_type": "stream",
     "text": [
      "\n",
      "\n",
      "\n"
     ]
    },
    {
     "data": {
      "image/png": "[encoded data removed]",
      "text/plain": [
       "<Figure size 1400x1000 with 5 Axes>"
      ]
     },
     "metadata": {},
     "output_type": "display_data"
    }
   ],
   "source": [
    "import matplotlib.pyplot as plt\n",
    "\n",
    "def plotting():\n",
    "    # 로그 데이터 추출\n",
    "    log_history = trainer.state.log_history\n",
    "\n",
    "    # 메트릭 초기화\n",
    "    epochs = []\n",
    "    train_loss = []\n",
    "    val_loss = []\n",
    "    val_accuracy = []\n",
    "    val_f1 = []\n",
    "    val_precision = []\n",
    "    val_recall = []\n",
    "\n",
    "    # 로그 데이터 분리\n",
    "    for log in log_history:\n",
    "        if 'epoch' in log:\n",
    "            current_epoch = log['epoch']\n",
    "            if current_epoch not in epochs:\n",
    "                epochs.append(current_epoch)\n",
    "            if 'loss' in log:\n",
    "                train_loss.append(log['loss'])\n",
    "            if 'eval_loss' in log:\n",
    "                val_loss.append(log['eval_loss'])\n",
    "            if 'eval_accuracy' in log:\n",
    "                val_accuracy.append(log['eval_accuracy'])\n",
    "            if 'eval_f1' in log:\n",
    "                val_f1.append(log['eval_f1'])\n",
    "            if 'eval_precision' in log:\n",
    "                val_precision.append(log['eval_precision'])\n",
    "            if 'eval_recall' in log:\n",
    "                val_recall.append(log['eval_recall'])\n",
    "\n",
    "    test_loss = metrics['test_loss']\n",
    "    test_accuracy = metrics['test_accuracy']\n",
    "    test_f1 = metrics['test_f1']\n",
    "    test_precision = metrics['test_accuracy']\n",
    "    test_recall = metrics['test_f1']\n",
    "\n",
    "    # 플로팅\n",
    "    plt.figure(figsize=(14, 10))\n",
    "\n",
    "    # 손실 플롯\n",
    "    plt.subplot(3, 2, 1)\n",
    "    plt.plot(epochs, train_loss, color = 'g', label='Train Loss')\n",
    "    plt.plot(epochs, val_loss, color = 'b', label='Validation Loss')\n",
    "    plt.axhline(y=test_loss, color='r', linestyle='--', label='Test Loss')\n",
    "    plt.xlabel('Epochs')\n",
    "    plt.ylabel('Loss')\n",
    "    plt.title('Loss per Epoch')\n",
    "    plt.legend()\n",
    "    plt.grid(True)\n",
    "\n",
    "    # 정확도 및 F1 스코어 플롯\n",
    "    plt.subplot(3, 2, 3)\n",
    "    plt.plot(epochs, val_accuracy, label='Validation Accuracy')\n",
    "    plt.axhline(y=test_accuracy, color='r', linestyle='--', label='Test Accuracy')\n",
    "    plt.xlabel('Epochs')\n",
    "    plt.ylabel('Accuracy')\n",
    "    plt.title('Accuracy per Epoch')\n",
    "    plt.legend()\n",
    "    plt.grid(True)\n",
    "\n",
    "    plt.subplot(3, 2, 4)\n",
    "    plt.plot(epochs, val_f1, label='Validation F1 Score')\n",
    "    plt.axhline(y=test_f1, color='r', linestyle='--', label='Test F1 Score')\n",
    "    plt.xlabel('Epochs')\n",
    "    plt.ylabel('F1 Score')\n",
    "    plt.title('F1 Score per Epoch')\n",
    "    plt.legend()\n",
    "    plt.grid(True)\n",
    "\n",
    "    plt.subplot(3, 2, 5)\n",
    "    plt.plot(epochs, val_precision, label='Validation Precision Score')\n",
    "    plt.axhline(y=test_precision, color='r', linestyle='--', label='Test Precision Score')\n",
    "    plt.xlabel('Epochs')\n",
    "    plt.ylabel('Precision Score')\n",
    "    plt.title('Precision Score per Epoch')\n",
    "    plt.legend()\n",
    "    plt.grid(True)\n",
    "\n",
    "    plt.subplot(3, 2, 6)\n",
    "    plt.plot(epochs, val_recall, label='Validation Recall Score')\n",
    "    plt.axhline(y=test_recall, color='r', linestyle='--', label='Test Recall Score')\n",
    "    plt.xlabel('Epochs')\n",
    "    plt.ylabel('Recall Score')\n",
    "    plt.title('Recall Score per Epoch')\n",
    "    plt.legend()\n",
    "    plt.grid(True)\n",
    "\n",
    "    plt.suptitle(f\"Metric Plot\")\n",
    "    plt.tight_layout()\n",
    "    print(\"\\n\\n\")\n",
    "\n",
    "plotting()\n",
    "plt.show()"
   ]
  },
  {
   "cell_type": "code",
   "execution_count": null,
   "metadata": {
    "id": "EUEVWBUldwYL"
   },
   "outputs": [],
   "source": [
    "trainer.save_model(\"./saved_models\")"
   ]
  },
  {
   "cell_type": "markdown",
   "metadata": {
    "id": "M-uDczxrWTIG"
   },
   "source": [
    "## 4 [Log] Conclusion\n",
    "\n",
    "- 학습 이전 random guessing을 했을 때 33%였던 정확도를 52%까지 끌어올렸음을 확인할 수 있음.\n",
    "\n",
    "- 60만개 파라미터를 학습시키는데 10800초 정도의 시간이 소요되었음"
   ]
  },
  {
   "cell_type": "code",
   "execution_count": null,
   "metadata": {
    "colab": {
     "base_uri": "https://localhost:8080/",
     "height": 112
    },
    "id": "WHVLl_Z2ZF_i",
    "outputId": "5ae3be73-94c7-4c4b-e352-932a283fe3e0"
   },
   "outputs": [
    {
     "data": {
      "application/vnd.google.colaboratory.intrinsic+json": {
       "summary": "{\n  \"name\": \"result_df[['test_loss','test_accuracy','test_f1','trainable_parameters', 'train_runtime', 'test_runtime']]\",\n  \"rows\": 2,\n  \"fields\": [\n    {\n      \"column\": \"test_loss\",\n      \"properties\": {\n        \"dtype\": \"number\",\n        \"std\": 0.09464420437279045,\n        \"min\": 0.9669053554534912,\n        \"max\": 1.1007524728775024,\n        \"num_unique_values\": 2,\n        \"samples\": [\n          1.1007524728775024,\n          0.9669053554534912\n        ],\n        \"semantic_type\": \"\",\n        \"description\": \"\"\n      }\n    },\n    {\n      \"column\": \"test_accuracy\",\n      \"properties\": {\n        \"dtype\": \"number\",\n        \"std\": 0.13480961703913014,\n        \"min\": 0.33686435283033284,\n        \"max\": 0.5275139415853938,\n        \"num_unique_values\": 2,\n        \"samples\": [\n          0.33686435283033284,\n          0.5275139415853938\n        ],\n        \"semantic_type\": \"\",\n        \"description\": \"\"\n      }\n    },\n    {\n      \"column\": \"test_f1\",\n      \"properties\": {\n        \"dtype\": \"number\",\n        \"std\": 0.07100464211292035,\n        \"min\": 0.4278185851465551,\n        \"max\": 0.5282343130140948,\n        \"num_unique_values\": 2,\n        \"samples\": [\n          0.4278185851465551,\n          0.5282343130140948\n        ],\n        \"semantic_type\": \"\",\n        \"description\": \"\"\n      }\n    },\n    {\n      \"column\": \"trainable_parameters\",\n      \"properties\": {\n        \"dtype\": \"number\",\n        \"std\": 0,\n        \"min\": 592899,\n        \"max\": 592899,\n        \"num_unique_values\": 1,\n        \"samples\": [\n          592899\n        ],\n        \"semantic_type\": \"\",\n        \"description\": \"\"\n      }\n    },\n    {\n      \"column\": \"train_runtime\",\n      \"properties\": {\n        \"dtype\": \"number\",\n        \"std\": 0.0,\n        \"min\": 9933.14,\n        \"max\": 9933.14,\n        \"num_unique_values\": 1,\n        \"samples\": [\n          9933.14\n        ],\n        \"semantic_type\": \"\",\n        \"description\": \"\"\n      }\n    },\n    {\n      \"column\": \"test_runtime\",\n      \"properties\": {\n        \"dtype\": \"number\",\n        \"std\": 0.11851109652686048,\n        \"min\": 106.9577,\n        \"max\": 107.1253,\n        \"num_unique_values\": 2,\n        \"samples\": [\n          107.1253\n        ],\n        \"semantic_type\": \"\",\n        \"description\": \"\"\n      }\n    }\n  ]\n}",
       "type": "dataframe"
      },
      "text/html": [
       "\n",
       "  <div id=\"df-cc20fd08-db11-4298-80b5-33a161fd65f6\" class=\"colab-df-container\">\n",
       "    <div>\n",
       "<style scoped>\n",
       "    .dataframe tbody tr th:only-of-type {\n",
       "        vertical-align: middle;\n",
       "    }\n",
       "\n",
       "    .dataframe tbody tr th {\n",
       "        vertical-align: top;\n",
       "    }\n",
       "\n",
       "    .dataframe thead th {\n",
       "        text-align: right;\n",
       "    }\n",
       "</style>\n",
       "<table border=\"1\" class=\"dataframe\">\n",
       "  <thead>\n",
       "    <tr style=\"text-align: right;\">\n",
       "      <th></th>\n",
       "      <th>test_loss</th>\n",
       "      <th>test_accuracy</th>\n",
       "      <th>test_f1</th>\n",
       "      <th>trainable_parameters</th>\n",
       "      <th>train_runtime</th>\n",
       "      <th>test_runtime</th>\n",
       "    </tr>\n",
       "  </thead>\n",
       "  <tbody>\n",
       "    <tr>\n",
       "      <th>trained_model_metrics</th>\n",
       "      <td>0.966905</td>\n",
       "      <td>0.527514</td>\n",
       "      <td>0.528234</td>\n",
       "      <td>592899</td>\n",
       "      <td>9933.14</td>\n",
       "      <td>106.9577</td>\n",
       "    </tr>\n",
       "    <tr>\n",
       "      <th>initial_metrics</th>\n",
       "      <td>1.100752</td>\n",
       "      <td>0.336864</td>\n",
       "      <td>0.427819</td>\n",
       "      <td>592899</td>\n",
       "      <td>9933.14</td>\n",
       "      <td>107.1253</td>\n",
       "    </tr>\n",
       "  </tbody>\n",
       "</table>\n",
       "</div>\n",
       "    <div class=\"colab-df-buttons\">\n",
       "\n",
       "  <div class=\"colab-df-container\">\n",
       "    <button class=\"colab-df-convert\" onclick=\"convertToInteractive('df-cc20fd08-db11-4298-80b5-33a161fd65f6')\"\n",
       "            title=\"Convert this dataframe to an interactive table.\"\n",
       "            style=\"display:none;\">\n",
       "\n",
       "  <svg xmlns=\"http://www.w3.org/2000/svg\" height=\"24px\" viewBox=\"0 -960 960 960\">\n",
       "    <path d=\"M120-120v-720h720v720H120Zm60-500h600v-160H180v160Zm220 220h160v-160H400v160Zm0 220h160v-160H400v160ZM180-400h160v-160H180v160Zm440 0h160v-160H620v160ZM180-180h160v-160H180v160Zm440 0h160v-160H620v160Z\"/>\n",
       "  </svg>\n",
       "    </button>\n",
       "\n",
       "  <style>\n",
       "    .colab-df-container {\n",
       "      display:flex;\n",
       "      gap: 12px;\n",
       "    }\n",
       "\n",
       "    .colab-df-convert {\n",
       "      background-color: #E8F0FE;\n",
       "      border: none;\n",
       "      border-radius: 50%;\n",
       "      cursor: pointer;\n",
       "      display: none;\n",
       "      fill: #1967D2;\n",
       "      height: 32px;\n",
       "      padding: 0 0 0 0;\n",
       "      width: 32px;\n",
       "    }\n",
       "\n",
       "    .colab-df-convert:hover {\n",
       "      background-color: #E2EBFA;\n",
       "      box-shadow: 0px 1px 2px rgba(60, 64, 67, 0.3), 0px 1px 3px 1px rgba(60, 64, 67, 0.15);\n",
       "      fill: #174EA6;\n",
       "    }\n",
       "\n",
       "    .colab-df-buttons div {\n",
       "      margin-bottom: 4px;\n",
       "    }\n",
       "\n",
       "    [theme=dark] .colab-df-convert {\n",
       "      background-color: #3B4455;\n",
       "      fill: #D2E3FC;\n",
       "    }\n",
       "\n",
       "    [theme=dark] .colab-df-convert:hover {\n",
       "      background-color: #434B5C;\n",
       "      box-shadow: 0px 1px 3px 1px rgba(0, 0, 0, 0.15);\n",
       "      filter: drop-shadow(0px 1px 2px rgba(0, 0, 0, 0.3));\n",
       "      fill: #FFFFFF;\n",
       "    }\n",
       "  </style>\n",
       "\n",
       "    <script>\n",
       "      const buttonEl =\n",
       "        document.querySelector('#df-cc20fd08-db11-4298-80b5-33a161fd65f6 button.colab-df-convert');\n",
       "      buttonEl.style.display =\n",
       "        google.colab.kernel.accessAllowed ? 'block' : 'none';\n",
       "\n",
       "      async function convertToInteractive(key) {\n",
       "        const element = document.querySelector('#df-cc20fd08-db11-4298-80b5-33a161fd65f6');\n",
       "        const dataTable =\n",
       "          await google.colab.kernel.invokeFunction('convertToInteractive',\n",
       "                                                    [key], {});\n",
       "        if (!dataTable) return;\n",
       "\n",
       "        const docLinkHtml = 'Like what you see? Visit the ' +\n",
       "          '<a target=\"_blank\" href=https://colab.research.google.com/notebooks/data_table.ipynb>data table notebook</a>'\n",
       "          + ' to learn more about interactive tables.';\n",
       "        element.innerHTML = '';\n",
       "        dataTable['output_type'] = 'display_data';\n",
       "        await google.colab.output.renderOutput(dataTable, element);\n",
       "        const docLink = document.createElement('div');\n",
       "        docLink.innerHTML = docLinkHtml;\n",
       "        element.appendChild(docLink);\n",
       "      }\n",
       "    </script>\n",
       "  </div>\n",
       "\n",
       "\n",
       "<div id=\"df-2b909e58-1282-40aa-aa20-82f03d2c9370\">\n",
       "  <button class=\"colab-df-quickchart\" onclick=\"quickchart('df-2b909e58-1282-40aa-aa20-82f03d2c9370')\"\n",
       "            title=\"Suggest charts\"\n",
       "            style=\"display:none;\">\n",
       "\n",
       "<svg xmlns=\"http://www.w3.org/2000/svg\" height=\"24px\"viewBox=\"0 0 24 24\"\n",
       "     width=\"24px\">\n",
       "    <g>\n",
       "        <path d=\"M19 3H5c-1.1 0-2 .9-2 2v14c0 1.1.9 2 2 2h14c1.1 0 2-.9 2-2V5c0-1.1-.9-2-2-2zM9 17H7v-7h2v7zm4 0h-2V7h2v10zm4 0h-2v-4h2v4z\"/>\n",
       "    </g>\n",
       "</svg>\n",
       "  </button>\n",
       "\n",
       "<style>\n",
       "  .colab-df-quickchart {\n",
       "      --bg-color: #E8F0FE;\n",
       "      --fill-color: #1967D2;\n",
       "      --hover-bg-color: #E2EBFA;\n",
       "      --hover-fill-color: #174EA6;\n",
       "      --disabled-fill-color: #AAA;\n",
       "      --disabled-bg-color: #DDD;\n",
       "  }\n",
       "\n",
       "  [theme=dark] .colab-df-quickchart {\n",
       "      --bg-color: #3B4455;\n",
       "      --fill-color: #D2E3FC;\n",
       "      --hover-bg-color: #434B5C;\n",
       "      --hover-fill-color: #FFFFFF;\n",
       "      --disabled-bg-color: #3B4455;\n",
       "      --disabled-fill-color: #666;\n",
       "  }\n",
       "\n",
       "  .colab-df-quickchart {\n",
       "    background-color: var(--bg-color);\n",
       "    border: none;\n",
       "    border-radius: 50%;\n",
       "    cursor: pointer;\n",
       "    display: none;\n",
       "    fill: var(--fill-color);\n",
       "    height: 32px;\n",
       "    padding: 0;\n",
       "    width: 32px;\n",
       "  }\n",
       "\n",
       "  .colab-df-quickchart:hover {\n",
       "    background-color: var(--hover-bg-color);\n",
       "    box-shadow: 0 1px 2px rgba(60, 64, 67, 0.3), 0 1px 3px 1px rgba(60, 64, 67, 0.15);\n",
       "    fill: var(--button-hover-fill-color);\n",
       "  }\n",
       "\n",
       "  .colab-df-quickchart-complete:disabled,\n",
       "  .colab-df-quickchart-complete:disabled:hover {\n",
       "    background-color: var(--disabled-bg-color);\n",
       "    fill: var(--disabled-fill-color);\n",
       "    box-shadow: none;\n",
       "  }\n",
       "\n",
       "  .colab-df-spinner {\n",
       "    border: 2px solid var(--fill-color);\n",
       "    border-color: transparent;\n",
       "    border-bottom-color: var(--fill-color);\n",
       "    animation:\n",
       "      spin 1s steps(1) infinite;\n",
       "  }\n",
       "\n",
       "  @keyframes spin {\n",
       "    0% {\n",
       "      border-color: transparent;\n",
       "      border-bottom-color: var(--fill-color);\n",
       "      border-left-color: var(--fill-color);\n",
       "    }\n",
       "    20% {\n",
       "      border-color: transparent;\n",
       "      border-left-color: var(--fill-color);\n",
       "      border-top-color: var(--fill-color);\n",
       "    }\n",
       "    30% {\n",
       "      border-color: transparent;\n",
       "      border-left-color: var(--fill-color);\n",
       "      border-top-color: var(--fill-color);\n",
       "      border-right-color: var(--fill-color);\n",
       "    }\n",
       "    40% {\n",
       "      border-color: transparent;\n",
       "      border-right-color: var(--fill-color);\n",
       "      border-top-color: var(--fill-color);\n",
       "    }\n",
       "    60% {\n",
       "      border-color: transparent;\n",
       "      border-right-color: var(--fill-color);\n",
       "    }\n",
       "    80% {\n",
       "      border-color: transparent;\n",
       "      border-right-color: var(--fill-color);\n",
       "      border-bottom-color: var(--fill-color);\n",
       "    }\n",
       "    90% {\n",
       "      border-color: transparent;\n",
       "      border-bottom-color: var(--fill-color);\n",
       "    }\n",
       "  }\n",
       "</style>\n",
       "\n",
       "  <script>\n",
       "    async function quickchart(key) {\n",
       "      const quickchartButtonEl =\n",
       "        document.querySelector('#' + key + ' button');\n",
       "      quickchartButtonEl.disabled = true;  // To prevent multiple clicks.\n",
       "      quickchartButtonEl.classList.add('colab-df-spinner');\n",
       "      try {\n",
       "        const charts = await google.colab.kernel.invokeFunction(\n",
       "            'suggestCharts', [key], {});\n",
       "      } catch (error) {\n",
       "        console.error('Error during call to suggestCharts:', error);\n",
       "      }\n",
       "      quickchartButtonEl.classList.remove('colab-df-spinner');\n",
       "      quickchartButtonEl.classList.add('colab-df-quickchart-complete');\n",
       "    }\n",
       "    (() => {\n",
       "      let quickchartButtonEl =\n",
       "        document.querySelector('#df-2b909e58-1282-40aa-aa20-82f03d2c9370 button');\n",
       "      quickchartButtonEl.style.display =\n",
       "        google.colab.kernel.accessAllowed ? 'block' : 'none';\n",
       "    })();\n",
       "  </script>\n",
       "</div>\n",
       "\n",
       "    </div>\n",
       "  </div>\n"
      ],
      "text/plain": [
       "                       test_loss  test_accuracy   test_f1  \\\n",
       "trained_model_metrics   0.966905       0.527514  0.528234   \n",
       "initial_metrics         1.100752       0.336864  0.427819   \n",
       "\n",
       "                       trainable_parameters  train_runtime  test_runtime  \n",
       "trained_model_metrics                592899        9933.14      106.9577  \n",
       "initial_metrics                      592899        9933.14      107.1253  "
      ]
     },
     "execution_count": 21,
     "metadata": {},
     "output_type": "execute_result"
    }
   ],
   "source": [
    "def count_trainable_parameters(model):\n",
    "    return sum(p.numel() for p in model.parameters() if p.requires_grad)\n",
    "\n",
    "# 학습 가능한 파라미터 수 출력\n",
    "trainable_params_lst = count_trainable_parameters(model)\n",
    "train_runtime_lst = trainer.state.log_history[-1]['train_runtime']\n",
    "\n",
    "result_df = pd.DataFrame([metrics])\n",
    "initial_result_df = pd.DataFrame([initial_metrics])\n",
    "\n",
    "result_df = pd.concat([result_df, initial_result_df], axis=0)\n",
    "result_df.index = ['trained_model_metrics','initial_metrics']\n",
    "result_df['trainable_parameters']  = trainable_params_lst\n",
    "result_df['train_runtime'] = train_runtime_lst\n",
    "result_df[['test_loss','test_accuracy','test_f1','trainable_parameters', 'train_runtime', 'test_runtime']]"
   ]
  },
  {
   "cell_type": "markdown",
   "metadata": {
    "id": "lJSTzUHMXIhC"
   },
   "source": [
    "## 5. [My Code] Classification By LLM\n",
    "\n",
    "- 1) 분류 방식\n",
    "\n",
    "    목표: 각 샘플에 대해 Entailment, Neutrality, Contradiction의 세 가지 관계를 원핫 인코딩 방식으로 분류합니다.\n",
    "\n",
    "    세부 사항: 각 관계에 대해 True 또는 False를 예측하여 총 6개의 이진 분류를 수행합니다.\n",
    "\n",
    "- 2) 모델 선택\n",
    "\n",
    "    사용 모델: Qwen과 Small Thinker 두 가지 모델을 사용하며, 각각 약 3억 개의 매개변수를 가진 소형 언어 모델입니다.\n",
    "\n",
    "- 3) 답변 형식 및 투표 로직\n",
    "\n",
    "    답변 형식: 모델의 출력에서 마지막에 등장하는 \"Answer\" 키워드를 기준으로, 그 이후에 \"True\" 또는 **\"true\"**가 나타나면 해당 관계에 한 표를 부여합니다.\n",
    "\n",
    "- 4) 동점 시 처리\n",
    "\n",
    "    동점 상황: Entailment, Neutrality, Contradiction 중 두 개 이상의 관계가 동일한 득표수를 얻을 경우, OpenAI API를 통해 GPT-4.0 모델이 결정 투표를 수행합니다.\n",
    "\n",
    "- 5) GPT-4.0의 역할\n",
    "\n",
    "    분류 방식: GPT-4.0은 원핫 인코딩이 아닌 다중 클래스 분류를 통해 Entailment, Neutrality, Contradiction 중 하나를 선택합니다.\n",
    "    이러한 전략을 통해 다양한 모델의 예측을 결합하여 성능을 향상시키고, 동점 상황에서는 고성능 모델을 활용하여 최종 결정을 내리는 방식을 구현합니다.\n",
    "\n",
    "- 6) 전략\n",
    "\n",
    "        1) Chain of Thought (CoT) 프롬프트 엔지니어링\n",
    "\n",
    "        정의: 모델이 문제를 단계별로 사고하도록 유도하여 복잡한 문제 해결 능력을 향상시키는 기법입니다.\n",
    "\n",
    "        특징: 모델이 중간 추론 단계를 명시적으로 표현함으로써 논리적 사고 과정을 강화합니다.\n",
    "\n",
    "        2) Few-Shot Learning 프롬프트 엔지니어링\n",
    "\n",
    "        정의: 모델에게 몇 가지 예시를 제공하여 새로운 작업에 대한 적응력을 높이는 기법입니다.\n",
    "\n",
    "        특징: 제한된 예시를 통해 모델이 특정 작업의 패턴을 학습하고 일반화할 수 있도록 돕습니다.\n",
    "\n",
    "        3) Hard Voting 앙상블 기법\n",
    "\n",
    "        정의: 여러 모델의 예측 결과 중 다수결 원칙에 따라 최종 예측을 결정하는 앙상블 방법입니다.\n",
    "\n",
    "        특징: 각 모델의 독립적인 판단을 결합하여 전체적인 예측 성능을 향상시킵니다.\n"
   ]
  },
  {
   "cell_type": "markdown",
   "metadata": {
    "id": "z8q14CFcXP6C"
   },
   "source": [
    "### 5.1 [My Code] Prompt Template"
   ]
  },
  {
   "cell_type": "code",
   "execution_count": null,
   "metadata": {
    "id": "DL-acDBdRAzn"
   },
   "outputs": [],
   "source": [
    "# sllm이 일차 투표를 하기 위한 프롬프트 탬플릿입니다.\n",
    "prompt_template = \"\"\"\n",
    "# Context #\n",
    "\n",
    "You are assisting with a binary classification task, which is about {task_name}. The definition of {task_name} is that {task}.\n",
    "\n",
    "# Objective #\n",
    "\n",
    "Perform binary classification to determine whether {task_name} is true or false. If {task_name} is true, respond with 'True'; otherwise, respond with 'False'.\n",
    "\n",
    "# Style #\n",
    "\n",
    "Concise and direct.\n",
    "\n",
    "# Tone #\n",
    "\n",
    "Neutral and objective.\n",
    "\n",
    "# Audience #\n",
    "\n",
    "A technical user focused on binary classification.\n",
    "\n",
    "# Response_format #\n",
    "\n",
    "Provide your response in the following format:\n",
    "Answer: \"True\" or \"False\"\n",
    "\n",
    "Include a step-by-step reasoning process explaining the classification in a logical manner before providing the final answer.\n",
    "\n",
    "# Example #\n",
    "\n",
    "Example 1:\n",
    "Premise: A cat is sleeping on the couch.\n",
    "Hypothesis: An animal is sleeping on the couch.\n",
    "Reasoning(Step-by-step):\n",
    "1. Identify the main subject in the premise: A cat.\n",
    "2. Determine if the hypothesis matches the premise: A cat is an animal, and the hypothesis states an animal is sleeping.\n",
    "3. The hypothesis accurately reflects the premise.\n",
    "Answer: True\n",
    "\n",
    "Example 2:\n",
    "Premise: The child is playing outside.\n",
    "Hypothesis: The child is sitting inside.\n",
    "Reasoning(Step-by-step):\n",
    "1. Identify the main subject and action in the premise: The child is playing outside.\n",
    "2. Determine if the hypothesis contradicts the premise: The premise indicates outdoor activity, while the hypothesis states indoor activity.\n",
    "3. The hypothesis contradicts the premise.\n",
    "Answer: False\n",
    "\n",
    "##########\n",
    "\n",
    "Please classify the following:\n",
    "\n",
    "Premise: {premise}\n",
    "Hypothesis: {hypothesis}\n",
    "Reasoning(Step-by-step):\n",
    "1.\n",
    "2.\n",
    "3.\n",
    "Answer:\n",
    "\n",
    "\n",
    "\"\"\""
   ]
  },
  {
   "cell_type": "markdown",
   "metadata": {
    "id": "eu66YAPSZjCB"
   },
   "source": [
    "### 5.2 [My Code] Terminology Definition"
   ]
  },
  {
   "cell_type": "code",
   "execution_count": null,
   "metadata": {
    "id": "bootxWGYPhdK"
   },
   "outputs": [],
   "source": [
    "# entailment, neutral, contradiction의 정의입니다.\n",
    "# few-shot classification을 위하여 예시를 작성하였습니다.\n",
    "# Chain of Thought을 적용하였습니다.\n",
    "definition = {\n",
    "  \"entailment\": {\n",
    "    \"task_name\": \"entailment\",\n",
    "    \"task\": \"Entailment occurs when the information in the hypothesis is a logical consequence of the premise. In simpler terms, if the premise is true, the hypothesis must also be true.\",\n",
    "    \"examples\": {\n",
    "      \"positive\": \"\"\"\n",
    "        Premise: A cat is sleeping on the couch.\n",
    "        Hypothesis: An animal is sleeping on the couch.\n",
    "        Reasoning(Step-by-step):\n",
    "        1. Identify the main subject in the premise: A cat.\n",
    "        2. Determine if the hypothesis generalizes correctly: A cat is an animal, and the hypothesis states an animal is sleeping on the couch.\n",
    "        3. The hypothesis is a logical consequence of the premise.\n",
    "        Answer: True\n",
    "      \"\"\",\n",
    "      \"negative\": \"\"\"\n",
    "        Premise: The child is playing outside.\n",
    "        Hypothesis: The child is sitting inside.\n",
    "        Reasoning(Step-by-step):\n",
    "        1. Identify the main subject and action in the premise: The child is playing outside.\n",
    "        2. Determine if the hypothesis matches or contradicts the premise: The hypothesis states the child is sitting inside, which contradicts the premise.\n",
    "        3. The hypothesis is not entailed by the premise.\n",
    "        Answer: False\n",
    "      \"\"\"\n",
    "    }\n",
    "  },\n",
    "  \"neutral\": {\n",
    "    \"task_name\": \"neutrality\",\n",
    "    \"task\": \"A neutral relationship exists when the premise provides some information, but the truth or falsity of the hypothesis cannot be conclusively determined from it. In other words, the hypothesis might be true or false, but the premise does not provide enough evidence to confirm or deny it.\",\n",
    "    \"examples\": {\n",
    "      \"positive\": \"\"\"\n",
    "        Premise: A man is walking in the park.\n",
    "        Hypothesis: The man is wearing a hat.\n",
    "        Reasoning(Step-by-step):\n",
    "        1. Identify the information provided in the premise: A man is walking in the park.\n",
    "        2. Analyze if the premise provides evidence for the hypothesis: The premise does not mention anything about a hat.\n",
    "        3. The hypothesis cannot be confirmed or denied based on the premise.\n",
    "        Answer: True\n",
    "      \"\"\",\n",
    "      \"negative\": \"\"\"\n",
    "        Premise: A cat is sleeping on the couch.\n",
    "        Hypothesis: An animal is sleeping on the couch.\n",
    "        Reasoning(Step-by-step):\n",
    "        1. Identify the main subject in the premise: A cat.\n",
    "        2. Check if the hypothesis generalizes correctly: A cat is an animal, and the hypothesis correctly states an animal is sleeping on the couch.\n",
    "        3. The hypothesis is entailed by the premise, so it is not neutral.\n",
    "        Answer: False\n",
    "      \"\"\"\n",
    "    }\n",
    "  },\n",
    "  \"contradiction\": {\n",
    "    \"task_name\": \"contradiction\",\n",
    "    \"task\": \"A contradiction exists when the hypothesis cannot possibly be true if the premise is true. The information in the hypothesis is logically inconsistent with the information in the premise.\",\n",
    "    \"examples\": {\n",
    "      \"positive\": \"\"\"\n",
    "        Premise: The child is playing outside.\n",
    "        Hypothesis: The child is sitting inside.\n",
    "        Reasoning(Step-by-step):\n",
    "        1. Identify the action and location in the premise: The child is playing outside.\n",
    "        2. Compare with the hypothesis: The hypothesis states the child is sitting inside, which is logically inconsistent with the premise.\n",
    "        3. The hypothesis contradicts the premise.\n",
    "        Answer: True\n",
    "      \"\"\",\n",
    "      \"negative\": \"\"\"\n",
    "        Premise: A man is playing a guitar on the stage.\n",
    "        Hypothesis: Someone is performing music.\n",
    "        Reasoning(Step-by-step):\n",
    "        1. Identify the main action in the premise: A man is playing a guitar on the stage.\n",
    "        2. Analyze if the hypothesis matches the premise: Playing a guitar is performing music, so the hypothesis is consistent with the premise.\n",
    "        3. The hypothesis does not contradict the premise.\n",
    "        Answer: False\n",
    "      \"\"\"\n",
    "    }\n",
    "  }\n",
    "}\n"
   ]
  },
  {
   "cell_type": "markdown",
   "metadata": {
    "id": "gXZbzDOpZmEY"
   },
   "source": [
    "### 5.3 [My Code]Prompt For GPT"
   ]
  },
  {
   "cell_type": "code",
   "execution_count": null,
   "metadata": {
    "id": "9Lzn_K79BCLu"
   },
   "outputs": [],
   "source": [
    "# gpt는 2차 결선 투표를 진행해야 할 때 casting votor 역할을 수행합니다.\n",
    "# 아래는 gpt api를 통해 호출할 prompt입니다.\n",
    "gpt_prompt = {\n",
    "    \"entailment-contradiction\":\n",
    "        \"\"\"\n",
    "        # Context #\n",
    "\n",
    "            We are performing a natural language inference (NLI) task where the goal is to classify the relationship between a premise and a hypothesis into one of three categories: \"entailment\", \"neutral\", or \"contradiction\".\n",
    "\n",
    "            - Premise: \"{premise}\"\n",
    "            - Hypothesis: \"{hypothesis}\"\n",
    "\n",
    "            The task involves analyzing the logical relationship between the premise and the hypothesis to determine the correct classification.\n",
    "\n",
    "        # Objective #\n",
    "\n",
    "            Identify whether the relationship between the premise and hypothesis is \"entailment\" or \"contradiction\" when the votes from the models are tied for these two categories, with \"neutral\" having fewer votes.\n",
    "\n",
    "        # Style #\n",
    "\n",
    "            Concise, step-by-step, and logically structured.\n",
    "\n",
    "        # Tone #\n",
    "\n",
    "            Neutral and objective.\n",
    "\n",
    "        # Audience #\n",
    "\n",
    "            Technical users and researchers in natural language processing (NLP) and machine learning.\n",
    "\n",
    "        # Response Format #\n",
    "\n",
    "            Provide your response in the following format:\n",
    "            - Reasoning (Step-by-step): Explain the logical analysis in three distinct steps to evaluate \"entailment\" and \"contradiction.\"\n",
    "            - Answer: Respond with either \"entailment\" or \"contradiction.\"\n",
    "\n",
    "        # Example #\n",
    "\n",
    "            Example 1:\n",
    "            Premise: A cat is sleeping on the couch.\n",
    "            Hypothesis: An animal is sleeping on the couch.\n",
    "\n",
    "            Reasoning (Step-by-step):\n",
    "            1. Identify the subject and action in the premise: A cat is sleeping on the couch.\n",
    "            2. Determine if the hypothesis is logically entailed by the premise: A cat is an animal, and the hypothesis aligns with the information in the premise.\n",
    "            3. Conclude that the hypothesis logically follows from the premise.\n",
    "\n",
    "            Answer: entailment\n",
    "\n",
    "            Example 2:\n",
    "            Premise: The child is playing outside.\n",
    "            Hypothesis: The child is sitting inside.\n",
    "\n",
    "            Reasoning (Step-by-step):\n",
    "            1. Identify the subject and action in the premise: The child is playing outside.\n",
    "            2. Determine if the hypothesis contradicts the premise: The premise indicates outdoor activity, while the hypothesis suggests the opposite—indoor inactivity.\n",
    "            3. Conclude that the hypothesis directly conflicts with the premise.\n",
    "\n",
    "            Answer: contradiction\n",
    "\n",
    "        ##########\n",
    "\n",
    "        Please classify the following:\n",
    "\n",
    "        Premise: {premise}\n",
    "        Hypothesis: {hypothesis}\n",
    "\n",
    "        Reasoning (Step-by-step):\n",
    "        1.\n",
    "        2.\n",
    "        3.\n",
    "\n",
    "        Answer:\n",
    "        \"\"\",\n",
    "    \"entailment-neutral\":\"\"\"\n",
    "        # Context #\n",
    "\n",
    "            We are performing a natural language inference (NLI) task where the goal is to classify the relationship between a premise and a hypothesis into one of three categories: \"entailment\", \"neutral\", or \"contradiction\".\n",
    "\n",
    "            - Premise: \"{premise}\"\n",
    "            - Hypothesis: \"{hypothesis}\"\n",
    "\n",
    "            The task involves analyzing the logical relationship between the premise and the hypothesis to decide the correct classification.\n",
    "\n",
    "        # Objective #\n",
    "\n",
    "            Identify whether the relationship between the premise and hypothesis is \"entailment\" or \"neutral\" when the votes from the models are tied for these two categories, with \"contradiction\" having fewer votes.\n",
    "\n",
    "        # Style #\n",
    "\n",
    "            Concise, step-by-step, and logically structured.\n",
    "\n",
    "        # Tone #\n",
    "\n",
    "            Neutral and objective.\n",
    "\n",
    "        # Audience #\n",
    "\n",
    "            Technical users and researchers in natural language processing (NLP) and machine learning.\n",
    "\n",
    "        # Response Format #\n",
    "\n",
    "            Provide your response in the following format:\n",
    "            - Reasoning (Step-by-step): Explain the logical analysis in three distinct steps to evaluate \"entailment\" and \"neutral.\"\n",
    "            - Answer: Respond with either \"entailment\" or \"neutral.\"\n",
    "\n",
    "        # Example #\n",
    "\n",
    "            Example 1:\n",
    "            Premise: A man is walking in the park.\n",
    "            Hypothesis: The man is wearing a hat.\n",
    "\n",
    "            Reasoning (Step-by-step):\n",
    "            1. Identify the subject and action in the premise: A man is walking in the park.\n",
    "            2. Determine if the hypothesis logically follows from the premise: The premise does not mention anything about a hat, so the hypothesis introduces new information.\n",
    "            3. Conclude that the relationship is neutral because the premise does not provide enough evidence to confirm or deny the hypothesis.\n",
    "\n",
    "            Answer: neutral\n",
    "\n",
    "            Example 2:\n",
    "            Premise: A cat is sitting on the couch.\n",
    "            Hypothesis: An animal is sitting on the couch.\n",
    "\n",
    "            Reasoning (Step-by-step):\n",
    "            1. Identify the subject and action in the premise: A cat is sitting on the couch.\n",
    "            2. Determine if the hypothesis logically follows from the premise: A cat is an animal, so the hypothesis aligns with the information in the premise.\n",
    "            3. Conclude that the hypothesis logically follows from the premise.\n",
    "\n",
    "            Answer: entailment\n",
    "\n",
    "        ##########\n",
    "\n",
    "        Please classify the following:\n",
    "\n",
    "        Premise: {premise}\n",
    "        Hypothesis: {hypothesis}\n",
    "\n",
    "        Reasoning (Step-by-step):\n",
    "        1.\n",
    "        2.\n",
    "        3.\n",
    "\n",
    "        Answer:\n",
    "    \"\"\",\n",
    "    \"neutral-contradiction\":\"\"\"\n",
    "        # Context #\n",
    "\n",
    "            We are performing a natural language inference (NLI) task where the goal is to classify the relationship between a premise and a hypothesis into one of three categories: \"entailment\", \"neutral\", or \"contradiction\".\n",
    "\n",
    "            - Premise: \"{premise}\"\n",
    "            - Hypothesis: \"{hypothesis}\"\n",
    "\n",
    "            The task involves analyzing the logical relationship between the premise and the hypothesis to determine the most appropriate classification.\n",
    "\n",
    "        # Objective #\n",
    "\n",
    "            Identify whether the relationship between the premise and hypothesis is \"neutral\" or \"contradiction\" when the votes from the models are tied for these two categories, with \"entailment\" having fewer votes.\n",
    "\n",
    "        # Style #\n",
    "\n",
    "            Concise, step-by-step, and logically structured.\n",
    "\n",
    "        # Tone #\n",
    "\n",
    "            Neutral and objective.\n",
    "\n",
    "        # Audience #\n",
    "\n",
    "            Technical users and researchers in natural language processing (NLP) and machine learning.\n",
    "\n",
    "        # Response Format #\n",
    "\n",
    "            Provide your response in the following format:\n",
    "            - Reasoning (Step-by-step): Explain the logical analysis in three distinct steps to evaluate \"neutral\" and \"contradiction.\"\n",
    "            - Answer: Respond with either \"neutral\" or \"contradiction.\"\n",
    "\n",
    "        # Example #\n",
    "\n",
    "            Example 1:\n",
    "            Premise: A man is walking in the park.\n",
    "            Hypothesis: The man is carrying a bag.\n",
    "\n",
    "            Reasoning (Step-by-step):\n",
    "            1. Identify the subject and action in the premise: A man is walking in the park.\n",
    "            2. Determine if the hypothesis introduces unrelated information: The premise does not provide any evidence about a bag, so the hypothesis introduces new information.\n",
    "            3. Conclude that the relationship is neutral because the premise does not confirm or deny the hypothesis.\n",
    "\n",
    "            Answer: neutral\n",
    "\n",
    "            Example 2:\n",
    "            Premise: The child is playing outside.\n",
    "            Hypothesis: The child is sitting inside.\n",
    "\n",
    "            Reasoning (Step-by-step):\n",
    "            1. Identify the subject and action in the premise: The child is playing outside.\n",
    "            2. Determine if the hypothesis contradicts the premise: The hypothesis directly conflicts with the premise, as the premise states the child is outside, while the hypothesis states the child is inside.\n",
    "            3. Conclude that the relationship is contradiction because the hypothesis cannot be true if the premise is true.\n",
    "\n",
    "            Answer: contradiction\n",
    "\n",
    "        ##########\n",
    "\n",
    "        Please classify the following:\n",
    "\n",
    "        Premise: {premise}\n",
    "        Hypothesis: {hypothesis}\n",
    "\n",
    "        Reasoning (Step-by-step):\n",
    "        1.\n",
    "        2.\n",
    "        3.\n",
    "\n",
    "        Answer:\n",
    "    \"\"\",\n",
    "    \"entailment-neutral-contradiction\":\"\"\"\n",
    "        # Context #\n",
    "\n",
    "            We are performing a natural language inference (NLI) task where the goal is to classify the relationship between a premise and a hypothesis into one of three categories: \"entailment\", \"neutral\", or \"contradiction\".\n",
    "\n",
    "            - Premise: \"{premise}\"\n",
    "            - Hypothesis: \"{hypothesis}\"\n",
    "\n",
    "            The task involves analyzing the logical relationship between the premise and the hypothesis to determine the most appropriate classification.\n",
    "\n",
    "        # Objective #\n",
    "\n",
    "            Identify whether the relationship between the premise and hypothesis is \"entailment\", \"neutral\", or \"contradiction\" when the votes from the models are tied across all three categories.\n",
    "\n",
    "        # Style #\n",
    "\n",
    "            Concise, step-by-step, and logically structured.\n",
    "\n",
    "        # Tone #\n",
    "\n",
    "            Neutral and objective.\n",
    "\n",
    "        # Audience #\n",
    "\n",
    "            Technical users and researchers in natural language processing (NLP) and machine learning.\n",
    "\n",
    "        # Response Format #\n",
    "\n",
    "            Provide your response in the following format:\n",
    "            - Reasoning (Step-by-step): Explain the logical analysis in four distinct steps to evaluate \"entailment\", \"neutral\", and \"contradiction.\"\n",
    "            - Answer: Respond with \"entailment\", \"neutral\", or \"contradiction.\"\n",
    "\n",
    "        # Examples #\n",
    "\n",
    "            ### Example 1\n",
    "            Premise: A bird is flying in the sky.\n",
    "            Hypothesis: An animal is moving through the air.\n",
    "\n",
    "            Reasoning (Step-by-step):\n",
    "            1. Identify the subject and action in the premise: A bird is flying in the sky.\n",
    "            2. Determine if the hypothesis logically follows from the premise: A bird is an animal, and the hypothesis states that an animal is moving through the air. This aligns with the information in the premise.\n",
    "            3. Evaluate if the hypothesis introduces plausible new information: The hypothesis does not introduce additional unrelated details.\n",
    "            4. Conclude that the hypothesis is logically entailed by the premise.\n",
    "\n",
    "            Answer: entailment\n",
    "\n",
    "            ### Example 2\n",
    "            Premise: A woman is reading a book on the porch.\n",
    "            Hypothesis: The woman is drinking tea.\n",
    "\n",
    "            Reasoning (Step-by-step):\n",
    "            1. Identify the subject and action in the premise: A woman is reading a book on the porch.\n",
    "            2. Determine if the hypothesis logically follows from the premise: The premise does not mention anything about tea or drinking.\n",
    "            3. Evaluate if the hypothesis introduces plausible new information: Drinking tea is possible but not explicitly supported by the premise.\n",
    "            4. Conclude that the relationship is neutral because the premise does not provide enough evidence to confirm or deny the hypothesis.\n",
    "\n",
    "            Answer: neutral\n",
    "\n",
    "            ### Example 3\n",
    "            Premise: The car is parked in the garage.\n",
    "            Hypothesis: The car is driving down the street.\n",
    "\n",
    "            Reasoning (Step-by-step):\n",
    "            1. Identify the subject and action in the premise: The car is parked in the garage.\n",
    "            2. Determine if the hypothesis logically follows from the premise: The hypothesis states the car is driving, which conflicts with the information in the premise.\n",
    "            3. Evaluate if the hypothesis introduces plausible new information: The hypothesis directly contradicts the premise.\n",
    "            4. Conclude that the hypothesis contradicts the premise.\n",
    "\n",
    "            Answer: contradiction\n",
    "\n",
    "        ##########\n",
    "\n",
    "        Please classify the following:\n",
    "\n",
    "        Premise: {premise}\n",
    "        Hypothesis: {hypothesis}\n",
    "\n",
    "        Reasoning (Step-by-step):\n",
    "        1.\n",
    "        2.\n",
    "        3.\n",
    "        4.\n",
    "\n",
    "        Answer:\n",
    "    \"\"\"\n",
    "}\n"
   ]
  },
  {
   "cell_type": "markdown",
   "metadata": {
    "id": "DLUJg_3GZqHq"
   },
   "source": [
    "## 6. [My Code] Model Preparation"
   ]
  },
  {
   "cell_type": "markdown",
   "metadata": {
    "id": "AeMQWEvXZv0V"
   },
   "source": [
    "### 6.1 [My Code] Model Config"
   ]
  },
  {
   "cell_type": "code",
   "execution_count": null,
   "metadata": {
    "id": "WqAkOWJUOndM"
   },
   "outputs": [],
   "source": [
    "text_model_dict = {\n",
    "    \"qwen\": {\n",
    "        \"name\" : \"Qwen/Qwen2.5-7B-Instruct\",\n",
    "        \"device\" : 'auto',\n",
    "        \"generation_params\": {\n",
    "            \"max_new_tokens\" : 256,\n",
    "            \"temperature\": 0.3,\n",
    "            \"top_p\": 0.9,\n",
    "            \"top_k\": 10,\n",
    "            \"no_repeat_ngram_size\": 2,\n",
    "            \"repetition_penalty\": 1.5,\n",
    "            \"early_stopping\":True,\n",
    "            \"return_full_text\": False,\n",
    "            \"num_beams\" : 2,\n",
    "            \"do_sample\" : True\n",
    "        }\n",
    "    },\n",
    "    \"mistral\": {\n",
    "        \"name\" : \"mistralai/Mistral-7B-Instruct-v0.3\",\n",
    "        \"device\" : 'auto',\n",
    "        \"generation_params\": {\n",
    "            \"max_new_tokens\" : 256,\n",
    "            \"temperature\": 0.3,\n",
    "            \"top_p\": 0.9,\n",
    "            \"top_k\": 10,\n",
    "            \"no_repeat_ngram_size\": 2,\n",
    "            \"repetition_penalty\": 1.5,\n",
    "            \"early_stopping\":True,\n",
    "            \"return_full_text\": False,\n",
    "            \"num_beams\" : 2,\n",
    "            \"do_sample\" : True\n",
    "        }\n",
    "    },\n",
    "    \"smallthinker\": {\n",
    "        \"name\" : \"PowerInfer/SmallThinker-3B-Preview\",\n",
    "        \"device\" : 'auto',\n",
    "        \"generation_params\": {\n",
    "            \"max_new_tokens\" :256,\n",
    "            \"temperature\": 0.3,\n",
    "            \"top_p\": 0.9,\n",
    "            \"top_k\": 10,\n",
    "            \"no_repeat_ngram_size\": 2,\n",
    "            \"repetition_penalty\": 1.5,\n",
    "            \"early_stopping\":True,\n",
    "            \"return_full_text\": False,\n",
    "            \"num_beams\" : 2,\n",
    "            \"do_sample\" : True\n",
    "        }\n",
    "    }\n",
    "}"
   ]
  },
  {
   "cell_type": "markdown",
   "metadata": {
    "id": "ClMixq_OZzbq"
   },
   "source": [
    "### 6.2 [My Code] Qwen"
   ]
  },
  {
   "cell_type": "code",
   "execution_count": null,
   "metadata": {
    "id": "Hr-P7QPrOljp"
   },
   "outputs": [],
   "source": [
    "from torch import nn\n",
    "import torch\n",
    "from transformers import pipeline\n",
    "\n",
    "class Qwen(nn.Module):\n",
    "    def __init__(self, config):\n",
    "        super(Qwen, self).__init__()\n",
    "        self.config = config\n",
    "        self.pipe = pipe = pipeline(\n",
    "            \"text-generation\",\n",
    "            model=self.config['name'],\n",
    "            torch_dtype=torch.bfloat16,\n",
    "            device_map=self.config['device']\n",
    "        )\n",
    "\n",
    "        self.generation_params = self.config['generation_params']\n",
    "\n",
    "    def forward(self, prompt):\n",
    "        messages = [\n",
    "            {\"role\": \"user\", \"content\": prompt},\n",
    "        ]\n",
    "        return self.pipe(prompt, **self.generation_params)"
   ]
  },
  {
   "cell_type": "markdown",
   "metadata": {
    "id": "kq_L1yM4Z2lz"
   },
   "source": [
    "### 6.3 [My Code] Mistral"
   ]
  },
  {
   "cell_type": "code",
   "execution_count": null,
   "metadata": {
    "id": "PJdHx10JOpcN"
   },
   "outputs": [],
   "source": [
    "class Mistral(nn.Module):\n",
    "    def __init__(self, config):\n",
    "        super(Mistral, self).__init__()\n",
    "        self.config = config\n",
    "        self.pipe = pipeline(\n",
    "            \"text-generation\",\n",
    "            model=self.config['name'],\n",
    "            torch_dtype=torch.bfloat16,\n",
    "            device_map=self.config['device'],\n",
    "            trust_remote_code=True\n",
    "        )\n",
    "        self.generation_params = self.config['generation_params']\n",
    "\n",
    "    def forward(self, prompt):\n",
    "        messages = [\n",
    "            # {\"role\": \"system\", \"content\": \"You are a pirate chatbot who always responds in pirate speak!\"},\n",
    "            {\"role\": \"user\", \"content\": prompt},\n",
    "        ]\n",
    "        return self.pipe(prompt, **self.generation_params)"
   ]
  },
  {
   "cell_type": "markdown",
   "metadata": {
    "id": "rWk7zDqZZ4wV"
   },
   "source": [
    "### 6.4 [My Code] SmallThinker"
   ]
  },
  {
   "cell_type": "code",
   "execution_count": null,
   "metadata": {
    "id": "l23ik9tCbUcv"
   },
   "outputs": [],
   "source": [
    "class SmallThinker(nn.Module):\n",
    "    def __init__(self, config):\n",
    "        super(SmallThinker, self).__init__()\n",
    "        self.config = config\n",
    "        self.pipe = pipeline(\n",
    "            \"text-generation\",\n",
    "            model=self.config['name'],\n",
    "            torch_dtype=torch.bfloat16,\n",
    "            device_map=self.config['device']\n",
    "        )\n",
    "        self.generation_params = self.config['generation_params']\n",
    "\n",
    "    def forward(self, prompt):\n",
    "        messages = [\n",
    "            {\"role\": \"user\", \"content\": \"Who are you?\"},\n",
    "        ]\n",
    "        return self.pipe(prompt, **self.generation_params)"
   ]
  },
  {
   "cell_type": "markdown",
   "metadata": {
    "id": "AOsDM-nNZ6w7"
   },
   "source": [
    "### 6.5 [My Code] Wrapping Class"
   ]
  },
  {
   "cell_type": "code",
   "execution_count": null,
   "metadata": {
    "colab": {
     "base_uri": "https://localhost:8080/",
     "height": 885,
     "referenced_widgets": [
      "1a0ffffeae184582bae86e368a13fd92",
      "5f6255cdca8e48aea05df7a00ad17977",
      "0cff7a2f968046a39e05647e7f6871eb",
      "72aaedd8ede4478b8c19394687f706d8",
      "7f3def70c2974aeebbcb6abd1638e262",
      "1ebb9a1af4ca4ea5883cda088b812366",
      "3796e58df8264cba88f137407dd351b9",
      "e338e4b74e834aec924aebd839fd0377",
      "50159d7a1fad4301a13a444816226241",
      "5220c022055d429a96a662d6daae09d9",
      "2a00ec6fe08444d2993e046b3bf16a74",
      "a81e5fe802234770916e4165a8d92570",
      "0d0dcf955cb248928facb376b54255fd",
      "66a38236955e4888a467e5a4b3e391ae",
      "031c22e0b3a74b43ad523183ba3ef599",
      "d34e7701632540c289b18b52c7c68eb9",
      "88990918733748f6bf1f1c2186fd8700",
      "20ddee4ba39a418598c35f2d9dc8a71d",
      "84680366a1034038baebaba63302a5bd",
      "9c1914d7ec964c12972b6ee594aee035",
      "bdf52d0753804b93b901ec885939e869",
      "256d2e22f9f84b9c978ee652a1fbbf03",
      "26511cca85644d80aa800b0e7d9aca8a",
      "1e656c9845674d01a32d8c04eb6869ac",
      "f18ca03cd35b40b7abc28dc92980e8b2",
      "711f98767a0c44fa994990faa68a1a60",
      "11f137540d714350afa19b55607ecfad",
      "d91ec17dbeea4bb99e044c7b8c999644",
      "0ce7f882af2347e1a43fd96a83268e69",
      "4cc97f92a1dd4ca1980379cf24b044e0",
      "564499e0f1424c80b3edd1999926585e",
      "cd055acef97c48c8a2658ec985cc4f92",
      "6f9acb562a73470790c50cbcfb1944a6",
      "1c21c69767c84fd791d097fe189c95a0",
      "6bf6740343674b0786ff4e31ec5f0acb",
      "75a3ec49c0284dab8965fdcd4ed9ca17",
      "981345937a3c4511b7e549a9df6e8193",
      "de8741a75f4247d097a2a8d41d6fcb61",
      "14cfd0520a5f4db089f1fb1af3607fb9",
      "aaf2a343ad5d472686ac2c52895bb6d6",
      "e16b6a418e9a418594721331339ec689",
      "2be87e8002ea4dce8a6da5aa8f06b4a9",
      "c53c011d170c4d67abe49cf67eaf16e2",
      "95d1d3d8f093491192d209d2b4e83aa4",
      "575d156fd84047e7acc3b467de8505d0",
      "53589514513443b4a510c45bf98d7105",
      "40c77373538348b28d71be9ae46ad3be",
      "dbab7f1069914efd8b4dc2d1c342cd86",
      "be1d2fa8dc764f0ba0c610b1b7adf7d4",
      "05d717b598c14b17af90e53184c204b6",
      "72fabc46d15541e9b0cc8a098824ff82",
      "132e8fda8b07458ea0f8f98d41078796",
      "09d5fb0b1bc9499492bdcea486c53a24",
      "56cca8c81a7547c1ada320975c81362f",
      "f9048decf0fc483894586addfa5fa9ab",
      "190bac80836847d2822d820c29097a99",
      "82ddece2b1fe4d8c9cc189b09518c6b2",
      "c87c63537f244d7a9decbb3b19033771",
      "a1eb7f52b4494593ac1cb1b8afc48081",
      "ed250678ca2347d48b3057e3b2318ef9",
      "863977d718e848e6b124063f97ea354a",
      "b6284f05807b44449c7390ef1dcac802",
      "618cdbeebd9b47c7b5e95d3a34a224aa",
      "2e72f8bbae46472397304acb1fcb6d0d",
      "01f8e5d9c3af420f9ea5eeefd22ab0d4",
      "7f14556dac7e4e319f9adf21614dde9e",
      "d7c59029032e4784871d23dd103ca832",
      "3d1d35c8c13c4f059a6ae4d77f455dce",
      "8e5a6de82901407498a4eab96698a1e1",
      "9c3d9d95145f423e8a40e2390a4f2170",
      "3deb1d976c0f42c085bcd6c37e696b35",
      "301c205452574269b0c2b51630d99513",
      "3115a1cc01fc4c70bc38bc31e3ba804e",
      "f67b2f62d84f49a2be901027f3dd2586",
      "483f638839ff4a12beb2fe5b40af8edd",
      "6777b655c8be4ee08c6f1efbb237c444",
      "7b577762b4cc45b5b5a8ea5d19bc3bba",
      "b294f7bb24d941b8b32e39e86cb1bfaa",
      "9791613a405f4090ac2312a097714edd",
      "6236ab6f1aea4dc6a245cf3d74e0b6ad",
      "fedb1c12abde44c89f7becd3f4021852",
      "bfa93ee5d2354f0db0c032bce33840d1",
      "0ff840b413704089b7a6a04256a605a6",
      "a6f2a7bd9fba45e8831fdd98c48395f7",
      "1e0bd8e0da20442bad9e049f0a3b4d2b",
      "11118d5c7d324a53854f18141d1a3662",
      "ae1e56afc99345b6b4d4f5e40991038e",
      "556dd3fbc5d64ccb86c52fb6fcaaff47",
      "2c4ebaeef9384aa39a742973f3298c36",
      "7cd775bc6c4e48d9ac537dfa24a7854b",
      "bacd71c30bee4e509af4f3cb3be8caa4",
      "dfef44e3edae49e9af6ca0e18c68354f",
      "5f915e68aee14fcdb1c46bd89520700b",
      "0b5193d1002a4a498835245121b9dcc2",
      "78b837d5f2f743ec96de671e90fe95a4",
      "87b89a930d034c21a43437d9520cd1bd",
      "9d54fa3bb5af4a9f94fffe8e4e8bb56b",
      "122d96abc7bc4ee597d2e09f0ca48f80",
      "9d64bf0152a648718958fd0df636fe28",
      "6b089ccbcbd44ca79f9a4b2d7662593c",
      "6582bdf2575447339555b9471b521833",
      "3bee6c6320e34c47b4379639f64cce71",
      "c9dff5eeaf514d8785e61988b3617e5e",
      "c4521207fcf04fafb3b80e999f7b2ab4",
      "1921ee6d967147408701a13844f2ab95",
      "687872e17d9e4da28ea1100ad715293c",
      "1b31a29f99a949ac8d7f7298e0f7aa19",
      "9023c4572f0a45eeaeda22509b0a18e8",
      "2a9fd534ce6e41648b18d6bc88ebacb7",
      "7bfeb41e0d76424193fe2614c7aceacb",
      "fefe8d2b4f414b54a1d110039b36714e",
      "6d0fc1c47374400d937978056b24af2b",
      "bdd48bdecb8d4c0ab338058602b8cb25",
      "4734985d13bd40d9bd0c7c1631a3eef7",
      "2116a8f34d69414a8fe3b406850bf1d0",
      "a75fdcd75c3c474494b0c72b0a2df3e2",
      "0ff75ae220fe49ef9a319bb6f8250e1f",
      "5b3b5fc710644ddd9c4efa6d317cfa9b",
      "0d9c7daca1c745c4a9cd8088eb1f0ab2",
      "3a35584f40734f68bf737417a7c96d30",
      "76fe48c2cbbb4a84b8d2251ef2c3ac5a",
      "009cb544f6a54b5781b27aa0e91539a9",
      "ab18ac2a85dd424cbaa166dff0737b88",
      "7b2c359f50254b00ab3b44848eb5432e",
      "59c1a737ebca4a54be1de953f3fd1f07",
      "8514372a89f9464aae2bd22abcaf4e0d",
      "2b111f7554fd4dc0bc1d7a72ccd4655e",
      "e74c00f655c3496abb6a20886a3fd743",
      "e139004495e64a66b43e812b72d62485",
      "d7eff42ccde94304b7463c0ba70632ca",
      "acd78103daec43ff92d20ccd95a04f9a",
      "242b9f985178449fa340fdfbe2a5dacf",
      "707de10f902a463cb4f77a17998bfb0d",
      "48b045649c6945d8a51b9be82c13f213",
      "063d7d2381e148e180fe07a08ce6b3e3",
      "25f326cfbcaf4f838e7f2855c18aac5a",
      "ecf6d175d99140ca95ede388288b88d4",
      "88572f91b6aa43f78309b151c41455ca",
      "9f7d5e90ddb14860ab86043e93dbaec2",
      "28dbe4f47dd4445b924f0bdc0e675b1b",
      "e99eb9d4ade94af280bda64235e59375",
      "3157417e4c7b418281096ea7e3a1f394",
      "3d68649b228040209caee175756fd767",
      "5a2dc352b58a42a2bd209d1841efc7f8",
      "989739e282da42be9a322eb4aa9de8fc",
      "fe8b084af8b64fe885cac9db10659893",
      "cba11199002240cebc705961700b0c91",
      "d7fd5150900849eb86486bd58d8c0e71",
      "ae07a36c739f40b8a5d1d69ec7c53fae",
      "9f84194f216e4fa99fa5e64a940412a0",
      "316e57d48bb44abeb3caced817d5f255",
      "674886247243410983c22ce819989ab4",
      "08118dd3d2064057afd62955938e8f8c",
      "589afc17ac8443f1aaf4d479201a4177",
      "54b102bb70774ba397155191c1a4d962",
      "6a828f7b00f847bfb7da4fb207fcb9e2",
      "86d1041973cc40ac902387c2e9e08bb8",
      "ec527b0e32ad4f8cabb3b4f4e24a6d4c",
      "f83d2d990bd3462f87fd6b0548dd7ff9",
      "098d7973b6104c6ba549935e6a9f4950",
      "e4d65a5920b74776942a9446dcdca258",
      "e767a1a19d2b40678e81549d04d279dd",
      "4ab1f206e6954d609cde9489be713a90",
      "5e96230b4a4b4e4b8c561a4913e9d13d",
      "f4ba3b0591654348acc1f37dbb3dba2e",
      "4a8007f1823f4e97a1a1ccab2f618bda",
      "341d104b205b4bbb88ebf2e39f3baac2",
      "b1f1ec7195ba4cf7ba2c3ceeff7dbc23",
      "68ef24343fa84edfaab66aa3235ffe44",
      "fb5bb141b5d54965a34de1b800bd0dc5",
      "95d136f960dd4570b4cb86c1172b7a58",
      "7bce2006a91c4c35b989a997d0485093",
      "c62614766e68474c84791f5b0c0844b9",
      "da6cc5b61c8a4795b102ea9207f428af",
      "38363a45d8564b9294274e91f8bfe7ed",
      "8fa24cb74a9044d9b291c9785455e9a0",
      "6280495d9bcd422486ddeef1816ad994",
      "f7eedcd8a93f448c817abe518c3aff81",
      "cc0ba2dde10045bb853b6d89263986a5",
      "b781e370a55e4913bb065a3235bc8ba3",
      "ee4ddf1527c64143b41ea9ce1f3648cd",
      "68c8af11815e4b06ab88cb7eea38e2b0",
      "f0bb5868d90d46d28e1c8f1e16e8f62d",
      "f392042e5e33449d9ad0951aca7e7ef0",
      "0fd659eed17d4a3f81634dbf130777a9",
      "f416883fb7a74319b6ce33f96689277f",
      "4d6bc343173648a4ba1dbfc1c7cf3595",
      "3d350306374c4e0896684bcc158e6bea",
      "ea89b686a94a4132824876f9fe16b64e",
      "ec5708b23ca44ea4a9b9197b34499907",
      "888e8db3202d44a08d96c3056950140b",
      "364cff1b23814d628dde15cfc0bc1576",
      "f2e1abdd1250415e87b2d2de6eb3c00d",
      "1a3f392731624645aa8d4105361104f5",
      "9b213921cc3e496ab5f8e865ed3b4e6a",
      "bcd49da54b42448da9e512cd42f5923c",
      "f647b244e8484da6be766e3ebc9041e7",
      "8e48b35f70064e71b77b6b1e25dc7791",
      "0d70edd4fd2f4adeb10a647fbcb73332",
      "397f10856f474f1893a770e79b02c2fb",
      "de67fd4cf48d4311af0fbb2236c08c45",
      "b5cf223a8c694620861c5d5298ba0364",
      "163b4a3827914db9bd3ada6c72e51d19",
      "77f3e8bfb252477ab9fa906a80c13971",
      "a849e65b8e114a9e875d8a1bf173c2f5",
      "c6c2a0a737d8403498665d4bc4235fa0",
      "f6c3c95ff16740f9a8bc1dc674d4733b",
      "cfd08a78d93d4f10b0dea02dc75a9ec6",
      "de064d319d784572bf6a706af7b1a427",
      "b0bdabe6861746a88ce3b0c0bc0ad37e",
      "989a752369154743b9fcfe833429a8c7",
      "f815a1ae56ae472482e377551c50e519",
      "823b899c375e49f1b8a0ca658909d0b3",
      "3bcfeaa0fc3c4e1c81f2ff23942bed44",
      "35a6bbc86f714dd9a68552173e24b80c",
      "df4731a48c3d444a956f6a1e5a53a586",
      "5fdd3727df164336a205269bcf3eff03",
      "c16f1bbb02854835acd4687fdfff7fca",
      "acc6111d8f8d41df862e43decf9bb033",
      "875b44db898e4c66adcb649245afa0fa",
      "664cdef2f2ec4d1081483a314e1dc7c7",
      "90c5adacd9a241418437dbbccfcad3ca",
      "8bb43c31c6af4bb9a915f19797ba4f68",
      "1bd4143e82ef45d399ab0ed3999635bd",
      "94f0edb65da146d28967ef9c1f91b0b4",
      "63efdbe3bcf14808b477d92364b9f046",
      "51b62c34be8449b19a8ba24fab958696",
      "09d696a7aa0f425084d0b77e8cefe427",
      "a97582c14f1f43969500e011cd7f6e89",
      "1816546b0b094f94ac97f2da3c504683",
      "a986686783f94a829f1d7891bd1bebb2",
      "204d85bd90d14525bb56e68f8e5e848d",
      "ffac94cccaeb49628562353e650abba1",
      "5b4c7548772b4000bd17e21538cc50f6",
      "b4c06c3cfe3b4047a12a952a3bfbe164",
      "140dc1cc9cb5447d801398b461e2b324",
      "36abb8b0736a4732ac921990b256f11c",
      "2049de6e91b84efdafb55c7f8ff890a8",
      "2166001e94ea49b587cb90b7e5495b17",
      "ecacb5bf3a524ee680904f66829b87d0",
      "39e36537cf2842bbbc41141ccedf3c1d",
      "4d07577e30c94df0a64c752234069dac",
      "8917f2d7ba78421d9c85301784b1b8e3",
      "72bc7076ba8148aba8838c65ccf4704a",
      "8d56efe4153f43b99b8592d2f97a5859",
      "6f524cb13fb84a3ca1aa6436419e7874",
      "17dcd106e07c4291876abc1602ed99d8",
      "d2b377f62cfe47f8aeee17f5726eb252",
      "c58f8e2cf2e74963a9347e8fe57f42e4",
      "709f35f8237146a2bca6aad2bc75631b",
      "c7e1dbdc775541c6bd30559a3f3914c9",
      "7b7d2dbb577747e79dbd0b2479779d1d",
      "835921e323be482d818541a79d85993c",
      "aef1a804d3c243e8878a6a6a338aa20b",
      "c62a0eab1fab4578971ca9da204b0f5b",
      "f810c5a0bb4c40c2a22140b6df099855",
      "9492e34c001549739a4c17cbee7bb38d",
      "a94a5764d6c346b585c6f4d27c6e3d5a",
      "b1ce16f8532c47d48e4021a0398c13d9",
      "cf87c4553c154ec89b616460229dfa8c",
      "312f0554fcdc49edb3bd36b5dc878645",
      "135acaf5e8554567bc79d00628dd2f68",
      "4d79cf705a81407abdb5861f4957accd",
      "a239bdb51daa4f61bb840f623c9e5628",
      "c419e7fcc0fb4d3bb3a24dd82d12fc15",
      "83d2b73d5e714233acbfcce7e70cf7d6",
      "a541d97bc8024463aaf99fee284546b9",
      "c9aed0e9ddd4489eb9faa644183a502f",
      "651aa8da0c72494587e9d9d214da6f5c",
      "3bdf4e1ca79c427a8fa50ec59e2d6fc2",
      "05927a13bcdd42dbafb280eefe913b2b",
      "ccf60021c9114e06b38e90ee8429232e",
      "a9c00b8e568c420292aa13795e6417c5",
      "4ca8fd3f25ca4bcf8fc1bc3b79208ac3",
      "eca79231e8d64ba883295add3a86c89c",
      "cda9f26efce9433a825939774075267d",
      "62b712a7b05f4871a3aab3005dd72c17",
      "c5a95397b06441778cb740e4a0b61898",
      "439832a5d3594efc84718c132d339450",
      "b49c0fd3ab9c44668886d98e29637f19",
      "fe4def4854ef4e409e467db1950e31b3",
      "5a54146749a743a495b60c5cb21ac1aa",
      "c9a2cc95b8684535ae7b22593be949a4",
      "95b0c832561b4459bb9dc7ac4891b9b3",
      "c2afd6b5968c43c799c0ad080bb621b7",
      "63ab787c195e4af4b498c7b46986b718"
     ]
    },
    "id": "7fG3WkZ8OrSx",
    "outputId": "bb455867-f1ac-4c5d-fa39-fffd31cfb921"
   },
   "outputs": [
    {
     "data": {
      "application/vnd.jupyter.widget-view+json": {
       "model_id": "1a0ffffeae184582bae86e368a13fd92",
       "version_major": 2,
       "version_minor": 0
      },
      "text/plain": [
       "config.json:   0%|          | 0.00/663 [00:00<?, ?B/s]"
      ]
     },
     "metadata": {},
     "output_type": "display_data"
    },
    {
     "data": {
      "application/vnd.jupyter.widget-view+json": {
       "model_id": "a81e5fe802234770916e4165a8d92570",
       "version_major": 2,
       "version_minor": 0
      },
      "text/plain": [
       "model.safetensors.index.json:   0%|          | 0.00/27.8k [00:00<?, ?B/s]"
      ]
     },
     "metadata": {},
     "output_type": "display_data"
    },
    {
     "data": {
      "application/vnd.jupyter.widget-view+json": {
       "model_id": "26511cca85644d80aa800b0e7d9aca8a",
       "version_major": 2,
       "version_minor": 0
      },
      "text/plain": [
       "Downloading shards:   0%|          | 0/4 [00:00<?, ?it/s]"
      ]
     },
     "metadata": {},
     "output_type": "display_data"
    },
    {
     "data": {
      "application/vnd.jupyter.widget-view+json": {
       "model_id": "1c21c69767c84fd791d097fe189c95a0",
       "version_major": 2,
       "version_minor": 0
      },
      "text/plain": [
       "model-00001-of-00004.safetensors:   0%|          | 0.00/3.95G [00:00<?, ?B/s]"
      ]
     },
     "metadata": {},
     "output_type": "display_data"
    },
    {
     "data": {
      "application/vnd.jupyter.widget-view+json": {
       "model_id": "575d156fd84047e7acc3b467de8505d0",
       "version_major": 2,
       "version_minor": 0
      },
      "text/plain": [
       "model-00002-of-00004.safetensors:   0%|          | 0.00/3.86G [00:00<?, ?B/s]"
      ]
     },
     "metadata": {},
     "output_type": "display_data"
    },
    {
     "data": {
      "application/vnd.jupyter.widget-view+json": {
       "model_id": "190bac80836847d2822d820c29097a99",
       "version_major": 2,
       "version_minor": 0
      },
      "text/plain": [
       "model-00003-of-00004.safetensors:   0%|          | 0.00/3.86G [00:00<?, ?B/s]"
      ]
     },
     "metadata": {},
     "output_type": "display_data"
    },
    {
     "data": {
      "application/vnd.jupyter.widget-view+json": {
       "model_id": "d7c59029032e4784871d23dd103ca832",
       "version_major": 2,
       "version_minor": 0
      },
      "text/plain": [
       "model-00004-of-00004.safetensors:   0%|          | 0.00/3.56G [00:00<?, ?B/s]"
      ]
     },
     "metadata": {},
     "output_type": "display_data"
    },
    {
     "data": {
      "application/vnd.jupyter.widget-view+json": {
       "model_id": "b294f7bb24d941b8b32e39e86cb1bfaa",
       "version_major": 2,
       "version_minor": 0
      },
      "text/plain": [
       "Loading checkpoint shards:   0%|          | 0/4 [00:00<?, ?it/s]"
      ]
     },
     "metadata": {},
     "output_type": "display_data"
    },
    {
     "data": {
      "application/vnd.jupyter.widget-view+json": {
       "model_id": "2c4ebaeef9384aa39a742973f3298c36",
       "version_major": 2,
       "version_minor": 0
      },
      "text/plain": [
       "generation_config.json:   0%|          | 0.00/243 [00:00<?, ?B/s]"
      ]
     },
     "metadata": {},
     "output_type": "display_data"
    },
    {
     "data": {
      "application/vnd.jupyter.widget-view+json": {
       "model_id": "6b089ccbcbd44ca79f9a4b2d7662593c",
       "version_major": 2,
       "version_minor": 0
      },
      "text/plain": [
       "tokenizer_config.json:   0%|          | 0.00/7.30k [00:00<?, ?B/s]"
      ]
     },
     "metadata": {},
     "output_type": "display_data"
    },
    {
     "data": {
      "application/vnd.jupyter.widget-view+json": {
       "model_id": "fefe8d2b4f414b54a1d110039b36714e",
       "version_major": 2,
       "version_minor": 0
      },
      "text/plain": [
       "vocab.json:   0%|          | 0.00/2.78M [00:00<?, ?B/s]"
      ]
     },
     "metadata": {},
     "output_type": "display_data"
    },
    {
     "data": {
      "application/vnd.jupyter.widget-view+json": {
       "model_id": "009cb544f6a54b5781b27aa0e91539a9",
       "version_major": 2,
       "version_minor": 0
      },
      "text/plain": [
       "merges.txt:   0%|          | 0.00/1.67M [00:00<?, ?B/s]"
      ]
     },
     "metadata": {},
     "output_type": "display_data"
    },
    {
     "data": {
      "application/vnd.jupyter.widget-view+json": {
       "model_id": "707de10f902a463cb4f77a17998bfb0d",
       "version_major": 2,
       "version_minor": 0
      },
      "text/plain": [
       "tokenizer.json:   0%|          | 0.00/7.03M [00:00<?, ?B/s]"
      ]
     },
     "metadata": {},
     "output_type": "display_data"
    },
    {
     "name": "stderr",
     "output_type": "stream",
     "text": [
      "Device set to use cuda:0\n"
     ]
    },
    {
     "data": {
      "application/vnd.jupyter.widget-view+json": {
       "model_id": "5a2dc352b58a42a2bd209d1841efc7f8",
       "version_major": 2,
       "version_minor": 0
      },
      "text/plain": [
       "config.json:   0%|          | 0.00/724 [00:00<?, ?B/s]"
      ]
     },
     "metadata": {},
     "output_type": "display_data"
    },
    {
     "data": {
      "application/vnd.jupyter.widget-view+json": {
       "model_id": "54b102bb70774ba397155191c1a4d962",
       "version_major": 2,
       "version_minor": 0
      },
      "text/plain": [
       "model.safetensors.index.json:   0%|          | 0.00/35.6k [00:00<?, ?B/s]"
      ]
     },
     "metadata": {},
     "output_type": "display_data"
    },
    {
     "data": {
      "application/vnd.jupyter.widget-view+json": {
       "model_id": "4a8007f1823f4e97a1a1ccab2f618bda",
       "version_major": 2,
       "version_minor": 0
      },
      "text/plain": [
       "Downloading shards:   0%|          | 0/2 [00:00<?, ?it/s]"
      ]
     },
     "metadata": {},
     "output_type": "display_data"
    },
    {
     "data": {
      "application/vnd.jupyter.widget-view+json": {
       "model_id": "6280495d9bcd422486ddeef1816ad994",
       "version_major": 2,
       "version_minor": 0
      },
      "text/plain": [
       "model-00001-of-00002.safetensors:   0%|          | 0.00/4.96G [00:00<?, ?B/s]"
      ]
     },
     "metadata": {},
     "output_type": "display_data"
    },
    {
     "data": {
      "application/vnd.jupyter.widget-view+json": {
       "model_id": "3d350306374c4e0896684bcc158e6bea",
       "version_major": 2,
       "version_minor": 0
      },
      "text/plain": [
       "model-00002-of-00002.safetensors:   0%|          | 0.00/1.84G [00:00<?, ?B/s]"
      ]
     },
     "metadata": {},
     "output_type": "display_data"
    },
    {
     "data": {
      "application/vnd.jupyter.widget-view+json": {
       "model_id": "0d70edd4fd2f4adeb10a647fbcb73332",
       "version_major": 2,
       "version_minor": 0
      },
      "text/plain": [
       "Loading checkpoint shards:   0%|          | 0/2 [00:00<?, ?it/s]"
      ]
     },
     "metadata": {},
     "output_type": "display_data"
    },
    {
     "data": {
      "application/vnd.jupyter.widget-view+json": {
       "model_id": "b0bdabe6861746a88ce3b0c0bc0ad37e",
       "version_major": 2,
       "version_minor": 0
      },
      "text/plain": [
       "generation_config.json:   0%|          | 0.00/242 [00:00<?, ?B/s]"
      ]
     },
     "metadata": {},
     "output_type": "display_data"
    },
    {
     "data": {
      "application/vnd.jupyter.widget-view+json": {
       "model_id": "664cdef2f2ec4d1081483a314e1dc7c7",
       "version_major": 2,
       "version_minor": 0
      },
      "text/plain": [
       "tokenizer_config.json:   0%|          | 0.00/5.72k [00:00<?, ?B/s]"
      ]
     },
     "metadata": {},
     "output_type": "display_data"
    },
    {
     "data": {
      "application/vnd.jupyter.widget-view+json": {
       "model_id": "204d85bd90d14525bb56e68f8e5e848d",
       "version_major": 2,
       "version_minor": 0
      },
      "text/plain": [
       "vocab.json:   0%|          | 0.00/2.78M [00:00<?, ?B/s]"
      ]
     },
     "metadata": {},
     "output_type": "display_data"
    },
    {
     "data": {
      "application/vnd.jupyter.widget-view+json": {
       "model_id": "8917f2d7ba78421d9c85301784b1b8e3",
       "version_major": 2,
       "version_minor": 0
      },
      "text/plain": [
       "merges.txt:   0%|          | 0.00/1.67M [00:00<?, ?B/s]"
      ]
     },
     "metadata": {},
     "output_type": "display_data"
    },
    {
     "data": {
      "application/vnd.jupyter.widget-view+json": {
       "model_id": "aef1a804d3c243e8878a6a6a338aa20b",
       "version_major": 2,
       "version_minor": 0
      },
      "text/plain": [
       "tokenizer.json:   0%|          | 0.00/7.03M [00:00<?, ?B/s]"
      ]
     },
     "metadata": {},
     "output_type": "display_data"
    },
    {
     "data": {
      "application/vnd.jupyter.widget-view+json": {
       "model_id": "c419e7fcc0fb4d3bb3a24dd82d12fc15",
       "version_major": 2,
       "version_minor": 0
      },
      "text/plain": [
       "added_tokens.json:   0%|          | 0.00/654 [00:00<?, ?B/s]"
      ]
     },
     "metadata": {},
     "output_type": "display_data"
    },
    {
     "data": {
      "application/vnd.jupyter.widget-view+json": {
       "model_id": "cda9f26efce9433a825939774075267d",
       "version_major": 2,
       "version_minor": 0
      },
      "text/plain": [
       "special_tokens_map.json:   0%|          | 0.00/650 [00:00<?, ?B/s]"
      ]
     },
     "metadata": {},
     "output_type": "display_data"
    },
    {
     "name": "stderr",
     "output_type": "stream",
     "text": [
      "Device set to use cuda:0\n"
     ]
    }
   ],
   "source": [
    "import copy\n",
    "import time\n",
    "\n",
    "class LlmClassifier(nn.Module):\n",
    "    def __init__(self, config):\n",
    "        super(LlmClassifier, self).__init__()\n",
    "        self.config = config\n",
    "        self.qwen = Qwen(self.config['qwen'])\n",
    "        # self.mistral = Mistral(self.config['mistral'])\n",
    "        self.smallthinker = SmallThinker(self.config['smallthinker'])\n",
    "\n",
    "        self.result_dict = {\n",
    "            \"entailment\":0,\n",
    "            \"neutral\":0,\n",
    "            \"contradiction\":0\n",
    "            }\n",
    "\n",
    "    def _get_prompt(premise, hypothesis, prompt_template, definition, label):\n",
    "        task_name = definition[label]['task_name']\n",
    "        task = definition[label]['task']\n",
    "        example_positive = definition[label]['examples']['positive']\n",
    "        example_negative = definition[label]['examples']['negative']\n",
    "        prompt = prompt_template.format(\n",
    "            task = task,\n",
    "            task_name = task_name,\n",
    "            example_positive = example_positive,\n",
    "            example_negative = example_negative,\n",
    "            premise = premise,\n",
    "            hypothesis = hypothesis\n",
    "        )\n",
    "        return prompt\n",
    "\n",
    "    @staticmethod\n",
    "    def _label_calculator(output, label, result_dict):\n",
    "        output = f\"{output}\"\n",
    "        output = output.split(\"Answer\")[-1]\n",
    "        if label == 'entailment' and ('True' in output or 'true' in output):\n",
    "            result_dict['entailment'] += 1\n",
    "        elif label == 'neutral' and ('True' in output or 'true' in output):\n",
    "            result_dict['neutral'] += 1\n",
    "        elif label == 'contradiction' and ('True' in output or 'true' in output):\n",
    "            result_dict['contradiction'] += 1\n",
    "\n",
    "        return result_dict\n",
    "\n",
    "    def forward(self, premise, hypothesis, iter = 1):\n",
    "        output_dict = {\"entailment\":[], 'neutral':[], 'contradiction':[]}\n",
    "        label = \"entailment\"\n",
    "        print(f\"1/3 {label}...\")\n",
    "        prompt = LlmClassifier._get_prompt(premise, hypothesis, prompt_template, definition, label)\n",
    "        for _ in range(iter):\n",
    "            print(\"Qwen\")\n",
    "            start_time = time.time()\n",
    "            output_1 = self.qwen(prompt)\n",
    "            end_time = time.time()\n",
    "            print(f\"Qwen 실행 시간: {end_time - start_time:.3f}초\")\n",
    "\n",
    "            # output_2 = self.mistral(prompt)\n",
    "\n",
    "            print(\"SmallThinker\")\n",
    "            start_time = time.time()\n",
    "            output_3 = self.smallthinker(prompt)\n",
    "            end_time = time.time()\n",
    "            print(f\"SmallThinker 실행 시간: {end_time - start_time:.3f}초\")\n",
    "\n",
    "            self.result_dict = LlmClassifier._label_calculator(output_1,label,self.result_dict)\n",
    "            # self.result_dict = LlmClassifier._label_calculator(output_2,label,self.result_dict)\n",
    "            self.result_dict = LlmClassifier._label_calculator(output_3,label,self.result_dict)\n",
    "\n",
    "            output_dict[label].append(output_1)\n",
    "            # output_dict[label].append(output_2)\n",
    "            output_dict[label].append(output_3)\n",
    "\n",
    "\n",
    "        label = \"neutral\"\n",
    "        prompt = LlmClassifier._get_prompt(premise, hypothesis, prompt_template, definition, label)\n",
    "        print(f\"2/3 {label}...\")\n",
    "        for _ in range(iter):\n",
    "            print(\"Qwen\")\n",
    "            start_time = time.time()\n",
    "            output_1 = self.qwen(prompt)\n",
    "            end_time = time.time()\n",
    "            print(f\"Qwen 실행 시간: {end_time - start_time:.3f}초\")\n",
    "\n",
    "            # output_2 = self.mistral(prompt)\n",
    "\n",
    "            print(\"SmallThinker\")\n",
    "            start_time = time.time()\n",
    "            output_3 = self.smallthinker(prompt)\n",
    "            end_time = time.time()\n",
    "            print(f\"SmallThinker 실행 시간: {end_time - start_time:.3f}초\")\n",
    "\n",
    "            self.result_dict = LlmClassifier._label_calculator(output_1,label,self.result_dict)\n",
    "            # self.result_dict = LlmClassifier._label_calculator(output_2,label,self.result_dict)\n",
    "            self.result_dict = LlmClassifier._label_calculator(output_3,label,self.result_dict)\n",
    "\n",
    "            output_dict[label].append(output_1)\n",
    "            # output_dict[label].append(output_2)\n",
    "            output_dict[label].append(output_3)\n",
    "\n",
    "        label = \"contradiction\"\n",
    "        prompt = LlmClassifier._get_prompt(premise, hypothesis, prompt_template, definition, label)\n",
    "        print(f\"3/3 {label}...\")\n",
    "        for _ in range(iter):\n",
    "            print(\"Qwen\")\n",
    "            start_time = time.time()\n",
    "            output_1 = self.qwen(prompt)\n",
    "            end_time = time.time()\n",
    "            print(f\"Qwen 실행 시간: {end_time - start_time:.3f}초\")\n",
    "\n",
    "            # output_2 = self.mistral(prompt)\n",
    "\n",
    "            print(\"SmallThinker\")\n",
    "            start_time = time.time()\n",
    "            output_3 = self.smallthinker(prompt)\n",
    "            end_time = time.time()\n",
    "            print(f\"SmallThinker 실행 시간: {end_time - start_time:.3f}초\")\n",
    "\n",
    "            self.result_dict = LlmClassifier._label_calculator(output_1,label,self.result_dict)\n",
    "            # self.result_dict = LlmClassifier._label_calculator(output_2,label,self.result_dict)\n",
    "            self.result_dict = LlmClassifier._label_calculator(output_3,label,self.result_dict)\n",
    "\n",
    "            output_dict[label].append(output_1)\n",
    "            # output_dict[label].append(output_2)\n",
    "            output_dict[label].append(output_3)\n",
    "\n",
    "        result = copy.deepcopy(self.result_dict)\n",
    "        self.result_dict = {\n",
    "            \"entailment\":0,\n",
    "            \"neutral\":0,\n",
    "            \"contradiction\":0\n",
    "            }\n",
    "        return {'result_dict': result, 'premise': premise, 'hypothesis': hypothesis, 'output_dict':output_dict}\n",
    "\n",
    "llm_classifier = LlmClassifier(text_model_dict)"
   ]
  },
  {
   "cell_type": "markdown",
   "metadata": {
    "id": "TkM0HZ16Z_9Y"
   },
   "source": [
    "### 6.6 [My Code] Gpt API Class"
   ]
  },
  {
   "cell_type": "code",
   "execution_count": null,
   "metadata": {
    "id": "A-QGVaA5Jnhl"
   },
   "outputs": [],
   "source": [
    "from openai import OpenAI\n",
    "\n",
    "class OpenaiClassifier():\n",
    "    def __init__(self, result_dict, gpt_prompt):\n",
    "        self.client = OpenAI()\n",
    "        self.votes = result_dict['result_dict']\n",
    "        self.premise = result_dict['premise']\n",
    "        self.hypothesis = result_dict['hypothesis']\n",
    "        self.prompt = gpt_prompt\n",
    "\n",
    "    @staticmethod\n",
    "    def _label_calculator(output, result_dict):\n",
    "        output = output.split(\"Answer\")[-1]\n",
    "        if ('entailment' in output):\n",
    "            result_dict['entailment'] += 1\n",
    "        elif  ('neutral' in output):\n",
    "            result_dict['neutral'] += 1\n",
    "        elif  ('contradiction' in output):\n",
    "            result_dict['contradiction'] += 1\n",
    "\n",
    "        return result_dict\n",
    "\n",
    "    @staticmethod\n",
    "    def _prompt_select(top_labels, prompt):\n",
    "        if len(top_labels) == 2 and 'entail' not in f\"{top_labels}\":\n",
    "            return prompt['neutral-contradiction']\n",
    "        elif len(top_labels) == 2 and 'contradiction' in f\"{top_labels}\":\n",
    "            return prompt['entailment-contradiction']\n",
    "        elif len(top_labels) == 2 and 'neutral' in f\"{top_labels}\":\n",
    "            return prompt['entailment-neutral']\n",
    "        elif len(top_labels) == 3:\n",
    "            return prompt['entailment-neutral-contradiction']\n",
    "\n",
    "    @staticmethod\n",
    "    def _check_casting_vote(result_dict):\n",
    "        max_votes = max(result_dict.values())\n",
    "        top_labels = [key for key, value in result_dict.items() if value == max_votes]\n",
    "        return top_labels\n",
    "\n",
    "    def _resolve_with_openai(self, premise, hypothesis, votes, prompt):\n",
    "        prompt = prompt.format(\n",
    "            premise = premise,\n",
    "            hypothesis = hypothesis,\n",
    "            entailment_votes = votes['entailment'],\n",
    "            contradiction_votes = votes['contradiction'],\n",
    "            neutral_votes = votes['neutral']\n",
    "        )\n",
    "        completion = self.client.chat.completions.create(\n",
    "            model=\"gpt-4o\",\n",
    "            store=True,\n",
    "            messages=[\n",
    "                {\"role\": \"user\", \"content\": prompt}\n",
    "            ],\n",
    "            max_tokens = 512\n",
    "        )\n",
    "        return completion.choices[0].message.content\n",
    "\n",
    "    def forward(self, premise, hypothesis):\n",
    "        top_labels = OpenaiClassifier._check_casting_vote(self.votes)\n",
    "        if len(top_labels) == 1:\n",
    "            return self.votes, None\n",
    "        else:\n",
    "            prompt = OpenaiClassifier._prompt_select(top_labels, self.prompt)\n",
    "            openai_output = self._resolve_with_openai(premise, hypothesis, self.votes, prompt)\n",
    "            self.votes = OpenaiClassifier._label_calculator(openai_output, self.votes)\n",
    "            return self.votes, openai_output"
   ]
  },
  {
   "cell_type": "markdown",
   "metadata": {
    "id": "7wD4bRCHaDNX"
   },
   "source": [
    "## 7 [My Code] Inference"
   ]
  },
  {
   "cell_type": "code",
   "execution_count": null,
   "metadata": {
    "id": "wLCwnD4zakpN"
   },
   "outputs": [],
   "source": [
    "# 테스트 데이터셋은 100개만 사용합니다.\n",
    "nums = 200\n",
    "# nums = 20\n",
    "test_dataset = dataset['test'].select(range(nums))"
   ]
  },
  {
   "cell_type": "code",
   "execution_count": null,
   "metadata": {
    "collapsed": true,
    "id": "tfs5Kx1Ba_TC"
   },
   "outputs": [],
   "source": [
    "from tqdm import tqdm\n",
    "import random\n",
    "from collections import defaultdict\n",
    "# 언어모델 기반 분류기 추론 시작\n",
    "def decide_label(result_dict):\n",
    "\n",
    "    value_to_keys = defaultdict(list)\n",
    "    for key, value in result_dict.items():\n",
    "        value_to_keys[value].append(key)\n",
    "\n",
    "    max_value = max(value_to_keys.keys())\n",
    "\n",
    "    keys_with_max_value = value_to_keys[max_value]\n",
    "\n",
    "    if len(keys_with_max_value) == 1:\n",
    "        result_key = keys_with_max_value[0]\n",
    "    else:\n",
    "        result_key = random.choice(keys_with_max_value)\n",
    "\n",
    "    return result_key\n",
    "\n",
    "def inference(premise, hypothesis):\n",
    "    result_dict = llm_classifier(premise, hypothesis)\n",
    "    openai_classifier = OpenaiClassifier(result_dict, gpt_prompt)\n",
    "    final_result_dict, openai_output = openai_classifier.forward(premise, hypothesis)\n",
    "    return final_result_dict, result_dict['output_dict'], openai_output\n",
    "\n",
    "label_lst = []\n",
    "pred_soft_lst = []\n",
    "pred_lst = []\n",
    "output_dict = {}\n",
    "counter = 0\n",
    "for data in tqdm(test_dataset, desc=\"Language Model Classification\"):\n",
    "    print(f\"### Start {counter+1} Sample\")\n",
    "    premise = data['premise']\n",
    "    hypothesis = data['hypothesis']\n",
    "    label = data['label']\n",
    "    label_lst.append(label)\n",
    "\n",
    "    result_dict, llm_output, gpt_output = inference(premise, hypothesis)\n",
    "    pred_soft_lst.append(result_dict)\n",
    "    output_dict[counter] = {'llm_output':llm_output, 'gpt_output':gpt_output}\n",
    "\n",
    "    counter += 1\n",
    "\n",
    "    pred_key = decide_label(result_dict)\n",
    "    pred = label2idx[pred_key]\n",
    "    pred_lst.append(pred)\n",
    "    print(\"### End\")"
   ]
  },
  {
   "cell_type": "code",
   "execution_count": null,
   "metadata": {
    "colab": {
     "base_uri": "https://localhost:8080/"
    },
    "id": "QscmnqfEkjEs",
    "outputId": "275aa566-1516-4d5b-fd60-9e55cdd953d6"
   },
   "outputs": [
    {
     "name": "stdout",
     "output_type": "stream",
     "text": [
      "LLM Metrics: \n",
      " accuracy:  0.595 \n",
      " f1: 0.5943312392339649 \n",
      " precision:  0.5961089789149491 \n",
      " recall: 0.595\n"
     ]
    }
   ],
   "source": [
    "from sklearn.metrics import accuracy_score, f1_score, precision_score, recall_score\n",
    "# 언어모델 기반 metric\n",
    "def cal_metrics(predictions, labels):\n",
    "\n",
    "    accuracy = accuracy_score(predictions, labels)\n",
    "    f1 = f1_score(predictions, labels, average=\"weighted\")\n",
    "    precision = precision_score(predictions, labels, average=\"weighted\")\n",
    "    recall = recall_score(predictions, labels, average=\"weighted\")\n",
    "    return {\n",
    "        'accuracy': accuracy,\n",
    "        'f1': f1,\n",
    "        'precision': precision,\n",
    "        'recall': recall\n",
    "        }\n",
    "\n",
    "llm_metrics = cal_metrics(pred_lst, label_lst)\n",
    "print(f\"LLM Metrics:\", \"\\n\",\n",
    "      \"accuracy: \", llm_metrics['accuracy'], \"\\n\",\n",
    "      \"f1:\", llm_metrics['f1'], \"\\n\",\n",
    "      \"precision: \", llm_metrics['precision'], \"\\n\",\n",
    "      \"recall:\", llm_metrics['recall']\n",
    "      )"
   ]
  },
  {
   "cell_type": "code",
   "execution_count": null,
   "metadata": {
    "colab": {
     "base_uri": "https://localhost:8080/",
     "height": 124
    },
    "id": "x4KXQ9SPgoCY",
    "outputId": "d85e72c2-94ef-4247-e08e-0a38a5835936"
   },
   "outputs": [
    {
     "data": {
      "text/html": [],
      "text/plain": [
       "<IPython.core.display.HTML object>"
      ]
     },
     "metadata": {},
     "output_type": "display_data"
    },
    {
     "name": "stdout",
     "output_type": "stream",
     "text": [
      "Test Metrics: \n",
      " loss:  0.9652957320213318 \n",
      " accuracy:  0.53 \n",
      " f1: 0.5297576992753623 \n",
      " precision:  0.5296825396825396 \n",
      " recall: 0.53\n"
     ]
    }
   ],
   "source": [
    "# bert 기반 metric\n",
    "test_metrics_ = trainer.predict(test_dataset=test_dataset)\n",
    "metrics = test_metrics_.metrics\n",
    "print(f\"Test Metrics:\", \"\\n\",\n",
    "      \"loss: \", metrics['test_loss'], \"\\n\",\n",
    "      \"accuracy: \", metrics['test_accuracy'], \"\\n\",\n",
    "      \"f1:\", metrics['test_f1'], \"\\n\",\n",
    "      \"precision: \", metrics['test_precision'], \"\\n\",\n",
    "      \"recall:\", metrics['test_recall']\n",
    "      )"
   ]
  },
  {
   "cell_type": "markdown",
   "metadata": {
    "id": "k_4SMm6ElH1A"
   },
   "source": [
    "## 8 [My Code] Conclusion\n",
    "\n",
    "LLM 기반 분류기 vs. DistilBERT 기반 분류기 비교\n",
    "- 1) 추론 속도:\n",
    "\n",
    "    - LLM 기반 분류기는 200개 샘플에 대해 10,800초가 소요됨.\n",
    "\n",
    "    - DistilBERT 기반 분류기는 40,000개 샘플을 110초 만에 처리 가능.\n",
    "\n",
    "    - 동일 샘플 개수 기준으로 계산 시 LLM 기반 분류기는 DistilBERT 대비 약 20,000배 느림.\n",
    "\n",
    "    - 추론 시간은 LLM 기반 분류기의 치명적인 단점으로 지적됨.\n",
    "\n",
    "- 2) 학습 필요 여부:\n",
    "\n",
    "    - LLM 기반 분류기는 학습이 필요 없음.\n",
    "    \n",
    "    - 장점 1: 학습에 소요되는 시간을 절약 가능.\n",
    "    \n",
    "    - 장점 2: 라벨이 없어도 적절한 성능을 가진 모델 구현 가능.\n",
    "    \n",
    "    - LLM 기반 분류기는 프롬프트 엔지니어링과 모델 배치만으로 준수한 성능을 발휘함.\n",
    "\n",
    "- 3) 성능 비교:\n",
    "\n",
    "    - DistilBERT 기반 분류기의 정확도와 F1: 53%.\n",
    "    \n",
    "    - LLM 기반 분류기의 정확도와 F1: 59%.\n",
    "    \n",
    "    - LLM 기반 분류기는 성능에서 약 10%의 개선을 보임.\n",
    "\n",
    "- 4) 시사점:\n",
    "\n",
    "    - 시간과 성능, 그리고 라벨 데이터의 존재 여부에 따라 어떤 방식으로 추론할 것인지 하나의 선택을 더 할 수 있게 되었음.\n",
    "\n",
    "    - 단, 치명적으로 느린 해당 방식을 어떻게 최적화 할 수 있을지는 고민해봐야 함\n",
    "\n",
    "    - 데이터 라벨링을 해야 하는 상황이라면, 유용하게 사용할 수 있는 방법이라고 생각됨"
   ]
  },
  {
   "cell_type": "code",
   "execution_count": null,
   "metadata": {
    "colab": {
     "base_uri": "https://localhost:8080/",
     "height": 125
    },
    "id": "SxA6S7UKlEAK",
    "outputId": "5666d9d3-bd28-47b2-fa69-5fe455406be9"
   },
   "outputs": [
    {
     "data": {
      "application/vnd.google.colaboratory.intrinsic+json": {
       "summary": "{\n  \"name\": \"result_df_\",\n  \"rows\": 2,\n  \"fields\": [\n    {\n      \"column\": \"accuracy\",\n      \"properties\": {\n        \"dtype\": \"number\",\n        \"std\": 0.04596194077712555,\n        \"min\": 0.53,\n        \"max\": 0.595,\n        \"num_unique_values\": 2,\n        \"samples\": [\n          0.53,\n          0.595\n        ],\n        \"semantic_type\": \"\",\n        \"description\": \"\"\n      }\n    },\n    {\n      \"column\": \"f1\",\n      \"properties\": {\n        \"dtype\": \"number\",\n        \"std\": 0.04566038798994839,\n        \"min\": 0.5297576992753623,\n        \"max\": 0.5943312392339649,\n        \"num_unique_values\": 2,\n        \"samples\": [\n          0.5297576992753623,\n          0.5943312392339649\n        ],\n        \"semantic_type\": \"\",\n        \"description\": \"\"\n      }\n    },\n    {\n      \"column\": \"precision\",\n      \"properties\": {\n        \"dtype\": \"number\",\n        \"std\": 0.04697058563131283,\n        \"min\": 0.5296825396825396,\n        \"max\": 0.5961089789149491,\n        \"num_unique_values\": 2,\n        \"samples\": [\n          0.5296825396825396,\n          0.5961089789149491\n        ],\n        \"semantic_type\": \"\",\n        \"description\": \"\"\n      }\n    },\n    {\n      \"column\": \"recall\",\n      \"properties\": {\n        \"dtype\": \"number\",\n        \"std\": 0.04596194077712555,\n        \"min\": 0.53,\n        \"max\": 0.595,\n        \"num_unique_values\": 2,\n        \"samples\": [\n          0.53,\n          0.595\n        ],\n        \"semantic_type\": \"\",\n        \"description\": \"\"\n      }\n    }\n  ]\n}",
       "type": "dataframe",
       "variable_name": "result_df_"
      },
      "text/html": [
       "\n",
       "  <div id=\"df-ca899d8e-f838-4843-b8e3-1aad817148a2\" class=\"colab-df-container\">\n",
       "    <div>\n",
       "<style scoped>\n",
       "    .dataframe tbody tr th:only-of-type {\n",
       "        vertical-align: middle;\n",
       "    }\n",
       "\n",
       "    .dataframe tbody tr th {\n",
       "        vertical-align: top;\n",
       "    }\n",
       "\n",
       "    .dataframe thead th {\n",
       "        text-align: right;\n",
       "    }\n",
       "</style>\n",
       "<table border=\"1\" class=\"dataframe\">\n",
       "  <thead>\n",
       "    <tr style=\"text-align: right;\">\n",
       "      <th></th>\n",
       "      <th>accuracy</th>\n",
       "      <th>f1</th>\n",
       "      <th>precision</th>\n",
       "      <th>recall</th>\n",
       "    </tr>\n",
       "  </thead>\n",
       "  <tbody>\n",
       "    <tr>\n",
       "      <th>llm_metrics</th>\n",
       "      <td>0.595</td>\n",
       "      <td>0.594331</td>\n",
       "      <td>0.596109</td>\n",
       "      <td>0.595</td>\n",
       "    </tr>\n",
       "    <tr>\n",
       "      <th>distil bert_metrics</th>\n",
       "      <td>0.530</td>\n",
       "      <td>0.529758</td>\n",
       "      <td>0.529683</td>\n",
       "      <td>0.530</td>\n",
       "    </tr>\n",
       "  </tbody>\n",
       "</table>\n",
       "</div>\n",
       "    <div class=\"colab-df-buttons\">\n",
       "\n",
       "  <div class=\"colab-df-container\">\n",
       "    <button class=\"colab-df-convert\" onclick=\"convertToInteractive('df-ca899d8e-f838-4843-b8e3-1aad817148a2')\"\n",
       "            title=\"Convert this dataframe to an interactive table.\"\n",
       "            style=\"display:none;\">\n",
       "\n",
       "  <svg xmlns=\"http://www.w3.org/2000/svg\" height=\"24px\" viewBox=\"0 -960 960 960\">\n",
       "    <path d=\"M120-120v-720h720v720H120Zm60-500h600v-160H180v160Zm220 220h160v-160H400v160Zm0 220h160v-160H400v160ZM180-400h160v-160H180v160Zm440 0h160v-160H620v160ZM180-180h160v-160H180v160Zm440 0h160v-160H620v160Z\"/>\n",
       "  </svg>\n",
       "    </button>\n",
       "\n",
       "  <style>\n",
       "    .colab-df-container {\n",
       "      display:flex;\n",
       "      gap: 12px;\n",
       "    }\n",
       "\n",
       "    .colab-df-convert {\n",
       "      background-color: #E8F0FE;\n",
       "      border: none;\n",
       "      border-radius: 50%;\n",
       "      cursor: pointer;\n",
       "      display: none;\n",
       "      fill: #1967D2;\n",
       "      height: 32px;\n",
       "      padding: 0 0 0 0;\n",
       "      width: 32px;\n",
       "    }\n",
       "\n",
       "    .colab-df-convert:hover {\n",
       "      background-color: #E2EBFA;\n",
       "      box-shadow: 0px 1px 2px rgba(60, 64, 67, 0.3), 0px 1px 3px 1px rgba(60, 64, 67, 0.15);\n",
       "      fill: #174EA6;\n",
       "    }\n",
       "\n",
       "    .colab-df-buttons div {\n",
       "      margin-bottom: 4px;\n",
       "    }\n",
       "\n",
       "    [theme=dark] .colab-df-convert {\n",
       "      background-color: #3B4455;\n",
       "      fill: #D2E3FC;\n",
       "    }\n",
       "\n",
       "    [theme=dark] .colab-df-convert:hover {\n",
       "      background-color: #434B5C;\n",
       "      box-shadow: 0px 1px 3px 1px rgba(0, 0, 0, 0.15);\n",
       "      filter: drop-shadow(0px 1px 2px rgba(0, 0, 0, 0.3));\n",
       "      fill: #FFFFFF;\n",
       "    }\n",
       "  </style>\n",
       "\n",
       "    <script>\n",
       "      const buttonEl =\n",
       "        document.querySelector('#df-ca899d8e-f838-4843-b8e3-1aad817148a2 button.colab-df-convert');\n",
       "      buttonEl.style.display =\n",
       "        google.colab.kernel.accessAllowed ? 'block' : 'none';\n",
       "\n",
       "      async function convertToInteractive(key) {\n",
       "        const element = document.querySelector('#df-ca899d8e-f838-4843-b8e3-1aad817148a2');\n",
       "        const dataTable =\n",
       "          await google.colab.kernel.invokeFunction('convertToInteractive',\n",
       "                                                    [key], {});\n",
       "        if (!dataTable) return;\n",
       "\n",
       "        const docLinkHtml = 'Like what you see? Visit the ' +\n",
       "          '<a target=\"_blank\" href=https://colab.research.google.com/notebooks/data_table.ipynb>data table notebook</a>'\n",
       "          + ' to learn more about interactive tables.';\n",
       "        element.innerHTML = '';\n",
       "        dataTable['output_type'] = 'display_data';\n",
       "        await google.colab.output.renderOutput(dataTable, element);\n",
       "        const docLink = document.createElement('div');\n",
       "        docLink.innerHTML = docLinkHtml;\n",
       "        element.appendChild(docLink);\n",
       "      }\n",
       "    </script>\n",
       "  </div>\n",
       "\n",
       "\n",
       "<div id=\"df-c05d2d77-5840-4b35-9a8a-5da118a502c8\">\n",
       "  <button class=\"colab-df-quickchart\" onclick=\"quickchart('df-c05d2d77-5840-4b35-9a8a-5da118a502c8')\"\n",
       "            title=\"Suggest charts\"\n",
       "            style=\"display:none;\">\n",
       "\n",
       "<svg xmlns=\"http://www.w3.org/2000/svg\" height=\"24px\"viewBox=\"0 0 24 24\"\n",
       "     width=\"24px\">\n",
       "    <g>\n",
       "        <path d=\"M19 3H5c-1.1 0-2 .9-2 2v14c0 1.1.9 2 2 2h14c1.1 0 2-.9 2-2V5c0-1.1-.9-2-2-2zM9 17H7v-7h2v7zm4 0h-2V7h2v10zm4 0h-2v-4h2v4z\"/>\n",
       "    </g>\n",
       "</svg>\n",
       "  </button>\n",
       "\n",
       "<style>\n",
       "  .colab-df-quickchart {\n",
       "      --bg-color: #E8F0FE;\n",
       "      --fill-color: #1967D2;\n",
       "      --hover-bg-color: #E2EBFA;\n",
       "      --hover-fill-color: #174EA6;\n",
       "      --disabled-fill-color: #AAA;\n",
       "      --disabled-bg-color: #DDD;\n",
       "  }\n",
       "\n",
       "  [theme=dark] .colab-df-quickchart {\n",
       "      --bg-color: #3B4455;\n",
       "      --fill-color: #D2E3FC;\n",
       "      --hover-bg-color: #434B5C;\n",
       "      --hover-fill-color: #FFFFFF;\n",
       "      --disabled-bg-color: #3B4455;\n",
       "      --disabled-fill-color: #666;\n",
       "  }\n",
       "\n",
       "  .colab-df-quickchart {\n",
       "    background-color: var(--bg-color);\n",
       "    border: none;\n",
       "    border-radius: 50%;\n",
       "    cursor: pointer;\n",
       "    display: none;\n",
       "    fill: var(--fill-color);\n",
       "    height: 32px;\n",
       "    padding: 0;\n",
       "    width: 32px;\n",
       "  }\n",
       "\n",
       "  .colab-df-quickchart:hover {\n",
       "    background-color: var(--hover-bg-color);\n",
       "    box-shadow: 0 1px 2px rgba(60, 64, 67, 0.3), 0 1px 3px 1px rgba(60, 64, 67, 0.15);\n",
       "    fill: var(--button-hover-fill-color);\n",
       "  }\n",
       "\n",
       "  .colab-df-quickchart-complete:disabled,\n",
       "  .colab-df-quickchart-complete:disabled:hover {\n",
       "    background-color: var(--disabled-bg-color);\n",
       "    fill: var(--disabled-fill-color);\n",
       "    box-shadow: none;\n",
       "  }\n",
       "\n",
       "  .colab-df-spinner {\n",
       "    border: 2px solid var(--fill-color);\n",
       "    border-color: transparent;\n",
       "    border-bottom-color: var(--fill-color);\n",
       "    animation:\n",
       "      spin 1s steps(1) infinite;\n",
       "  }\n",
       "\n",
       "  @keyframes spin {\n",
       "    0% {\n",
       "      border-color: transparent;\n",
       "      border-bottom-color: var(--fill-color);\n",
       "      border-left-color: var(--fill-color);\n",
       "    }\n",
       "    20% {\n",
       "      border-color: transparent;\n",
       "      border-left-color: var(--fill-color);\n",
       "      border-top-color: var(--fill-color);\n",
       "    }\n",
       "    30% {\n",
       "      border-color: transparent;\n",
       "      border-left-color: var(--fill-color);\n",
       "      border-top-color: var(--fill-color);\n",
       "      border-right-color: var(--fill-color);\n",
       "    }\n",
       "    40% {\n",
       "      border-color: transparent;\n",
       "      border-right-color: var(--fill-color);\n",
       "      border-top-color: var(--fill-color);\n",
       "    }\n",
       "    60% {\n",
       "      border-color: transparent;\n",
       "      border-right-color: var(--fill-color);\n",
       "    }\n",
       "    80% {\n",
       "      border-color: transparent;\n",
       "      border-right-color: var(--fill-color);\n",
       "      border-bottom-color: var(--fill-color);\n",
       "    }\n",
       "    90% {\n",
       "      border-color: transparent;\n",
       "      border-bottom-color: var(--fill-color);\n",
       "    }\n",
       "  }\n",
       "</style>\n",
       "\n",
       "  <script>\n",
       "    async function quickchart(key) {\n",
       "      const quickchartButtonEl =\n",
       "        document.querySelector('#' + key + ' button');\n",
       "      quickchartButtonEl.disabled = true;  // To prevent multiple clicks.\n",
       "      quickchartButtonEl.classList.add('colab-df-spinner');\n",
       "      try {\n",
       "        const charts = await google.colab.kernel.invokeFunction(\n",
       "            'suggestCharts', [key], {});\n",
       "      } catch (error) {\n",
       "        console.error('Error during call to suggestCharts:', error);\n",
       "      }\n",
       "      quickchartButtonEl.classList.remove('colab-df-spinner');\n",
       "      quickchartButtonEl.classList.add('colab-df-quickchart-complete');\n",
       "    }\n",
       "    (() => {\n",
       "      let quickchartButtonEl =\n",
       "        document.querySelector('#df-c05d2d77-5840-4b35-9a8a-5da118a502c8 button');\n",
       "      quickchartButtonEl.style.display =\n",
       "        google.colab.kernel.accessAllowed ? 'block' : 'none';\n",
       "    })();\n",
       "  </script>\n",
       "</div>\n",
       "\n",
       "  <div id=\"id_323990a3-08e2-4f16-b120-fcc9cfba76c9\">\n",
       "    <style>\n",
       "      .colab-df-generate {\n",
       "        background-color: #E8F0FE;\n",
       "        border: none;\n",
       "        border-radius: 50%;\n",
       "        cursor: pointer;\n",
       "        display: none;\n",
       "        fill: #1967D2;\n",
       "        height: 32px;\n",
       "        padding: 0 0 0 0;\n",
       "        width: 32px;\n",
       "      }\n",
       "\n",
       "      .colab-df-generate:hover {\n",
       "        background-color: #E2EBFA;\n",
       "        box-shadow: 0px 1px 2px rgba(60, 64, 67, 0.3), 0px 1px 3px 1px rgba(60, 64, 67, 0.15);\n",
       "        fill: #174EA6;\n",
       "      }\n",
       "\n",
       "      [theme=dark] .colab-df-generate {\n",
       "        background-color: #3B4455;\n",
       "        fill: #D2E3FC;\n",
       "      }\n",
       "\n",
       "      [theme=dark] .colab-df-generate:hover {\n",
       "        background-color: #434B5C;\n",
       "        box-shadow: 0px 1px 3px 1px rgba(0, 0, 0, 0.15);\n",
       "        filter: drop-shadow(0px 1px 2px rgba(0, 0, 0, 0.3));\n",
       "        fill: #FFFFFF;\n",
       "      }\n",
       "    </style>\n",
       "    <button class=\"colab-df-generate\" onclick=\"generateWithVariable('result_df_')\"\n",
       "            title=\"Generate code using this dataframe.\"\n",
       "            style=\"display:none;\">\n",
       "\n",
       "  <svg xmlns=\"http://www.w3.org/2000/svg\" height=\"24px\"viewBox=\"0 0 24 24\"\n",
       "       width=\"24px\">\n",
       "    <path d=\"M7,19H8.4L18.45,9,17,7.55,7,17.6ZM5,21V16.75L18.45,3.32a2,2,0,0,1,2.83,0l1.4,1.43a1.91,1.91,0,0,1,.58,1.4,1.91,1.91,0,0,1-.58,1.4L9.25,21ZM18.45,9,17,7.55Zm-12,3A5.31,5.31,0,0,0,4.9,8.1,5.31,5.31,0,0,0,1,6.5,5.31,5.31,0,0,0,4.9,4.9,5.31,5.31,0,0,0,6.5,1,5.31,5.31,0,0,0,8.1,4.9,5.31,5.31,0,0,0,12,6.5,5.46,5.46,0,0,0,6.5,12Z\"/>\n",
       "  </svg>\n",
       "    </button>\n",
       "    <script>\n",
       "      (() => {\n",
       "      const buttonEl =\n",
       "        document.querySelector('#id_323990a3-08e2-4f16-b120-fcc9cfba76c9 button.colab-df-generate');\n",
       "      buttonEl.style.display =\n",
       "        google.colab.kernel.accessAllowed ? 'block' : 'none';\n",
       "\n",
       "      buttonEl.onclick = () => {\n",
       "        google.colab.notebook.generateWithVariable('result_df_');\n",
       "      }\n",
       "      })();\n",
       "    </script>\n",
       "  </div>\n",
       "\n",
       "    </div>\n",
       "  </div>\n"
      ],
      "text/plain": [
       "                     accuracy        f1  precision  recall\n",
       "llm_metrics             0.595  0.594331   0.596109   0.595\n",
       "distil bert_metrics     0.530  0.529758   0.529683   0.530"
      ]
     },
     "metadata": {},
     "output_type": "display_data"
    }
   ],
   "source": [
    "# 언어모델 기반 metric과 bert 기반 metric 비교\n",
    "result_df = pd.DataFrame([llm_metrics])\n",
    "initial_result_df = pd.DataFrame([metrics])\n",
    "initial_result_df = initial_result_df.rename(columns={'test_accuracy':'accuracy','test_f1':'f1','test_precision':'precision', 'test_recall':'recall'})\n",
    "initial_result_df = initial_result_df[['accuracy', 'f1', 'precision','recall']]\n",
    "\n",
    "result_df_ = pd.concat([result_df, initial_result_df], axis=0)\n",
    "result_df_.index = ['llm_metrics','distil bert_metrics']\n",
    "display(result_df_)"
   ]
  }
 ],
 "metadata": {
  "accelerator": "GPU",
  "colab": {
   "gpuType": "T4",
   "machine_shape": "hm",
   "provenance": []
  },
  "kernelspec": {
   "display_name": ".env",
   "language": "python",
   "name": "python3"
  },
  "language_info": {
   "codemirror_mode": {
    "name": "ipython",
    "version": 3
   },
   "file_extension": ".py",
   "mimetype": "text/x-python",
   "name": "python",
   "nbconvert_exporter": "python",
   "pygments_lexer": "ipython3",
   "version": "3.9.21"
  }
 },
 "nbformat": 4,
 "nbformat_minor": 0
}
