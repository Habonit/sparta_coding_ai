{
 "cells": [
  {
   "cell_type": "markdown",
   "metadata": {},
   "source": [
    "# Week5 Basic\n",
    "\n",
    "- 해야할 과제\n",
    "\n",
    "    1) https://spartacodingclub.kr/blog/all-in-challenge_winner 에서 수상작 요약하기\n",
    "\n",
    "    2) chroma를 통해 query와 유사한 문서를 검색하여 llm에게 요약을 요청하기\n",
    "\n",
    "- 더 해 볼 과제\n",
    "    - 참조: https://huggingface.co/learn/cookbook/ko/advanced_ko_rag#%EC%9E%85%EB%A0%A5input\n",
    "\n",
    "    1) query와 문서 정보 임베딩 시각화\n",
    "\n",
    "    2) 로컬 모델로 임베딩과 문장 생성을 해보기.\n",
    "\n",
    "\n"
   ]
  },
  {
   "cell_type": "markdown",
   "metadata": {},
   "source": [
    "## 1 [My Code] Data Preparation"
   ]
  },
  {
   "cell_type": "markdown",
   "metadata": {},
   "source": [
    "### 1.1 [My Code] API Key Load"
   ]
  },
  {
   "cell_type": "code",
   "execution_count": 1,
   "metadata": {},
   "outputs": [],
   "source": [
    "import os\n",
    "import openai\n",
    "from dotenv import load_dotenv\n",
    "\n",
    "load_dotenv(dotenv_path=\"config.env\")\n",
    "openai.api_key = os.getenv(\"OPENAI_API_KEY\")"
   ]
  },
  {
   "cell_type": "markdown",
   "metadata": {},
   "source": [
    "### 1.2 [My Code] Model Load\n",
    "\n",
    "- streaming = True\n",
    "\n",
    "- callbacks = StreamingStdOutCallbackHandler\n",
    "\n",
    "위의 두 가지 옵션을 주면, 문장이 최종 생성되는 과정을 시각화 해줍니다."
   ]
  },
  {
   "cell_type": "code",
   "execution_count": 116,
   "metadata": {},
   "outputs": [],
   "source": [
    "from langchain.callbacks import StreamingStdOutCallbackHandler\n",
    "from langchain_openai import ChatOpenAI\n",
    "\n",
    "llm = ChatOpenAI(\n",
    "    model='gpt-4o-mini',\n",
    "    temperature=0.7,\n",
    "    max_tokens=1024,\n",
    "    streaming=True,\n",
    "    callbacks=[StreamingStdOutCallbackHandler()]\n",
    "    )"
   ]
  },
  {
   "cell_type": "markdown",
   "metadata": {},
   "source": [
    "### 1.3 [My Code] Data Load and preprocessing\n",
    "\n",
    "- webbaseloader -> UnstructuredURLLoader 변경\n",
    "\n",
    "- recursive splitter가 반복되는 데이터를 생산하는 것을 list -> set -> list 방식으로 중복 제거.\n",
    "\n",
    "- 전체 문서 10가지 생성\n",
    "\n",
    "\n",
    "    - 문서 수가 많지는 않지만 rag를 직접 구현해보는 것에 의의를 둔기로 합니다.\n",
    "\n",
    "    - 전체 수상작은 6개 입니다. 추후에 몇 개나 요약되는지 확인해보도록 합니다."
   ]
  },
  {
   "cell_type": "code",
   "execution_count": 119,
   "metadata": {},
   "outputs": [
    {
     "name": "stdout",
     "output_type": "stream",
     "text": [
      "1번째\n",
      "863\n",
      "앱 내의 학점 계산기를 사용하면 성적이 그래프로 시각화되어 변화를 쉽게 파악할 수 있고, 앞으로의 성적 목표를 세우는 데에도 큰 도움이 됩니다. 예상 학점 기능을 통해 과목별 예상 등수와 학점을 미리 계산해 보며 학습 계획도 조정할 수 있어요. <학교생활 매니저>앱을 사용하면 체계적으로 대학 생활을 관리하고, 남은 학업과 일정을 효율적으로 관리할 수 있습니다.\n",
      "\n",
      "사용한 기술 스택\n",
      "\n",
      "FE(프론트엔드): Flutter\n",
      "\n",
      "BE(백엔드): Firebase\n",
      "\n",
      "🏅 입선\n",
      "\n",
      "[BLOTIE] 교내 외국인X내국인 매칭 및 교류 플랫폼\n",
      "\n",
      "서비스 제작자: 블로티(이은주, 한명수, 황준영)\n",
      "\n",
      "💡F는 T대학에 교환학생으로 온 외국인입니다. K팝 문화가 좋아 한국에 왔지만, 말도 잘 통하지 않고 문화 차이도 있어서 한국 캠퍼스 생활이 쉽지만은 않은데요. 한국어로 수업을 듣고 한국 친구도 사귀고 싶지만 한국 대학의 학사 일정과 과제 등 여러 시스템이 달라서 적응하기 어려웠습니다. 한국어가 서툴다보니 수업에서 제공되는 다양한 정보를 이해하기 어려웠고, 중요한 공지사항을 놓치기도 했습니다. 한국인 친구를 먼저 사귀는 것이 급선무라고 생각했죠.\n",
      "\n",
      "<BLOTIE>는 외국인 학생이 가진 이런 문제를 해결하고, 보다 친밀하고 자유로운 글로벌 캠퍼스 문화를 조성하기 위해 만들어진 플랫폼입니다. ‘1:1 매칭 기능’으로 교내 외국인 학생과 한국인 학생을 쉽게 연결할 수 있어요. 서로의 문화와 언어를 자연스럽게 배우고 교류할 수 있습니다. 관심사, 언어 능력, 성격 등을 기반으로 이뤄지기 때문에 일회성 매칭에 대한 걱정도 줄어들어요. 매칭된 학생들은 플랫폼 내에서 ‘실시간 채팅과 피드 기능’으로 자유롭게 소통할 수 있고, 다양한 주제로 만남을 이어갈 수 있습니다.\n",
      "###\n",
      "\n",
      "2번째\n",
      "814\n",
      "사용한 기술 스택\n",
      "\n",
      "FE(프론트엔드): Flutter, Socket.IO, Expo CLI, Axios, TanStack Query\n",
      "\n",
      "BE(백엔드): Spring Boot, Spring Security, JWT, MySQL, Spring WebSocket, AWS\n",
      "\n",
      "🏅 입선\n",
      "\n",
      "[Crewing] 연합동아리 정보 플랫폼\n",
      "\n",
      "서비스 제작자: 동학대학운동(김민아, 임경진, 신은혜, 고수)\n",
      "\n",
      "💡신입생인 S는 대학 생활을 알차게 보내고 싶어서 연합 동아리에 가입하려고 했지만 어떤 동아리가 자신에게 맞을지 고민이 많았습니다. 인터넷에 검색해보니 연합 동아리 후기는 대부분 여기저기 흩어져 있고, 신뢰할 만한 정보를 찾기 어려웠습니다.\n",
      "\n",
      "<Crewing>은 대학생들이 다양한 연합 동아리에 쉽게 가입하고, 적절한 동아리를 찾을 수 있도록 지원해주는 아카이빙 플랫폼입니다. 회원가입 시 생년, 성별, 관심 분야를 입력하자 딱 맞는 동아리를 추천해주죠. 플랫폼 내에서 동아리의 리크루팅 과정인 서류 전형, 인터뷰 일정, 최종 결과 발표 등을 한 번에 해결할 수 있어요. 실제 동아리에 가입한 사람들의 솔직한 후기를 제공해주기 때문에 보다 정확한 정보를 얻을 수 있어요. Crewing은 신뢰할 수 있는 정보와 솔직한 후기를 제공해주기 때문에 효율적으로 내게 꼭 맞는 동아리를 선택할 수 있습니다.\n",
      "\n",
      "사용한 기술 스택\n",
      "\n",
      "FE(프론트엔드): Spring Boot, Redis, MySQL\n",
      "\n",
      "BE(백엔드): SwiftUI Framework, OAuth 2.0\n",
      "\n",
      "🏅 입선\n",
      "\n",
      "[학교생활 매니저] 학교생활 관리 서비스\n",
      "\n",
      "서비스 제작자: 아이칼F4(조민제, 이민기, 강건, 박근우)\n",
      "###\n",
      "\n",
      "3번째\n",
      "848\n",
      "사용한 기술 스택\n",
      "\n",
      "FE(프론트엔드): React Native, Expo, Axios\n",
      "\n",
      "BE(백엔드): Spring Boot, Spring Security, MySQL, SSE, FCM, JWT, Postman\n",
      "\n",
      "🎖️ 우수상\n",
      "\n",
      "[에코 클래스룸] 수업 실시간 소통 서비스\n",
      "\n",
      "서비스 제작자: This is 스파게티!!!(박지성, 김서원, 박범수)\n",
      "\n",
      "💡K교수는 항상 수업이 끝난 후 난이도가 적절했는지 궁금했습니다. “질문 있나요?”라는 말이 수업의 마무리였지만, 대부분의 학생은 답이 없었죠. 그저 고개를 끄덕이는 몇몇 학생들만 보일 뿐, 정말 이해한 것인지, 질문할 용기가 없는 것인지 알 수 없었습니다. 이때문에 학생들이 수업 내용을 제대로 이해하고 있는지 확인하기 어려웠습니다. 어느 날 강의가 끝나고 몇몇 학생들이 몰려와 어렵다고, 다시 설명해 달라고 요청했습니다. 그제야 K교수는 알게 되었어요. 학생들이 이해하지 못하고 있었지만, 질문을 하지 않았던 것이었습니다.\n",
      "\n",
      "다른 학생들의 시선이 부담스러워서, 나만 모르는 거라고 생각해서 질문하지 않는 학생들을 위해 만들어진 서비스가 바로 <에코 클래스룸>입니다. 교수와 학생 간의 소통을 혁신적으로 바꾸기 위해 만들어졌어요. 학생들이 굳이 손을 들고 질문하지 않아도, 에코 클래스룸을 통해 자신의 의견을 표현할 수 있습니다. 익명으로 수업 중 자신의 의견이나 질문을 쉽게 제출할 수 있어 교수님은 실시간으로 학생들의 이해도를 파악할 수 있습니다. 수업 중 또는 후에 교수자가 수업에 대한 피드백을 받을 수 있는 평가 기능과 학생의 이해도를 테스트 할 수 있는 퀴즈 생성 기능이 있어 필요한 경우 수업 속도를 조절하고 추가 설명을 할 수 있어요.\n",
      "\n",
      "사용한 기술 스택\n",
      "###\n",
      "\n",
      "4번째\n",
      "884\n",
      "💡<All-in> 코딩 공모전에서 만든 다양한 서비스를 만나보고 싶다면?\n",
      "\n",
      "다양한 서비스와 기발한 아이디어가 모인 곳에 초대합니다. 참가자들의 문제 해결방법이 궁금하시다면 지금 바로 ‘All-in 공모전’에서 만나보세요!\n",
      "\n",
      "👉🏻 공모전 결과물 보러가기\n",
      "\n",
      "누구나 큰일 낼 수 있어\n",
      "\n",
      "스파르타코딩클럽\n",
      "\n",
      "글 | 신수지 팀스파르타 에디터\n",
      "\n",
      "해당 콘텐츠는 저작권법에 의해 보호받는 저작물로 스파르타코딩클럽에 저작권이 있습니다. - 해당 콘텐츠는 사전 동의 없이 2차 가공 및 영리적인 이용을 금하고 있습니다.\n",
      "\n",
      "내용이 유익하셨다면? 공유하기\n",
      "\n",
      "다른 분들이 많이 읽은 글\n",
      "\n",
      "아티클\n",
      "\n",
      "2024 내일배움카드로 개발자 되는 방법 : 프론트엔드 백엔드 국비지원 개발자 과정 알아보기\n",
      "\n",
      "조회354·8분 분량\n",
      "\n",
      "아티클\n",
      "\n",
      "비전공자 웹개발 프론트엔드 : 비전공자가 개발자에 도전할 때 꼭 알아야 하는 것\n",
      "\n",
      "조회161·8분 분량\n",
      "\n",
      "고객센터\n",
      "\n",
      "홈페이지 우측 하단 [문의하기]를 통해\n",
      "\n",
      "1:1 채팅상담을 이용하실 수 있습니다.\n",
      "\n",
      "(전화상담을 원하시는 경우,\n",
      "\n",
      "채팅상담을 통해 신청부탁드립니다.)\n",
      "\n",
      "채팅 상담 운영시간 :\n",
      "\n",
      "월요일 14:00-17:30\n",
      "\n",
      "화~금요일 10:30-17:30\n",
      "\n",
      "(점심시간 12:30-14:00 / 주말,공휴일 휴무)\n",
      "\n",
      "서비스\n",
      "\n",
      "전체 강의\n",
      "\n",
      "국비지원 부트캠프\n",
      "\n",
      "국비지원 강의\n",
      "\n",
      "커뮤니티\n",
      "\n",
      "블로그\n",
      "\n",
      "이벤트\n",
      "\n",
      "수강생 작품\n",
      "\n",
      "패밀리 사이트\n",
      "\n",
      "항해99\n",
      "\n",
      "SW사관학교 정글\n",
      "\n",
      "easyGPT\n",
      "\n",
      "데일리스크럼툴 호이\n",
      "\n",
      "CRM자동화 에픽\n",
      "\n",
      "기업 서비스\n",
      "\n",
      "기업 교육\n",
      "\n",
      "외주 개발\n",
      "\n",
      "신입 개발자 채용\n",
      "\n",
      "회사\n",
      "\n",
      "강의 튜터 지원\n",
      "\n",
      "부트캠프 튜터 지원\n",
      "\n",
      "협력사 지원\n",
      "\n",
      "인재 채용\n",
      "\n",
      "채용중\n",
      "\n",
      "팀블로그\n",
      "\n",
      "개인정보처리방침\n",
      "\n",
      "서비스 이용약관\n",
      "\n",
      "환불 규정\n",
      "\n",
      "2022-23 올해의 브랜드 대상 코딩교육 부문 2년 연속 1위\n",
      "###\n",
      "\n",
      "5번째\n",
      "641\n",
      "로그인\n",
      "\n",
      "로그아웃\n",
      "\n",
      "스파르타 소식\n",
      "\n",
      "'AII-in 코딩 공모전’ 수상작을 소개합니다\n",
      "\n",
      "조회수 454·6분 분량\n",
      "\n",
      "2024. 9. 3.\n",
      "\n",
      "코딩은 더 이상 개발자만의 영역이 아닙니다. 누구나 아이디어만 있다면 창의적인 서비스를 만들어 세상을 바꿀 수 있습니다. 스파르타코딩클럽에서는 이러한 가능성을 믿고, 누구나 코딩을 통해 자신의 아이디어를 실현하고 실제 문제를 해결하는 경험을 쌓을 수 있도록 다양한 프로그램을 마련하고 있습니다.\n",
      "\n",
      "<All-in> 코딩 공모전은 대학생들이 캠퍼스에서 겪은 불편함과 문제를 자신만의 아이디어로 해결해보는 대회였는데요. 이번 공모전에서 다양한 혁신적인 아이디어와 열정으로 가득한 수많은 프로젝트가 탄생했습니다. 그중 뛰어난 성과를 낸 수상작 6개를 소개합니다.\n",
      "\n",
      "🏆 대상\n",
      "\n",
      "[Lexi Note] 언어공부 필기 웹 서비스\n",
      "\n",
      "서비스 제작자: 다나와(김다애, 박나경)\n",
      "\n",
      "💡W는 어문학을 전공하는 대학생입니다. 매일 새로운 단어와 문장 구조를 공부하고 있지만, 효율적으로 학습하는 것이 쉽지 않았습니다. 단어의 의미를 찾기 위해 사전을 뒤적이고, 긴 문장을 이해하려고 번역기를 사용하다 보면, 필기 노트는 어느새 뒷전으로 밀려났거든요. 사전, 번역기, 원서, 필기노트를 왔다 갔다 하다 보면 시간이 다 지나가 버리곤 했죠.\n",
      "###\n",
      "\n",
      "6번째\n",
      "360\n",
      "(점심시간 12:30-14:00 / 주말,공휴일 휴무)\n",
      "\n",
      "서비스\n",
      "\n",
      "전체 강의\n",
      "\n",
      "국비지원 부트캠프\n",
      "\n",
      "국비지원 강의\n",
      "\n",
      "커뮤니티\n",
      "\n",
      "블로그\n",
      "\n",
      "이벤트\n",
      "\n",
      "수강생 작품\n",
      "\n",
      "패밀리 사이트\n",
      "\n",
      "항해99\n",
      "\n",
      "SW사관학교 정글\n",
      "\n",
      "easyGPT\n",
      "\n",
      "데일리스크럼툴 호이\n",
      "\n",
      "CRM자동화 에픽\n",
      "\n",
      "기업 서비스\n",
      "\n",
      "기업 교육\n",
      "\n",
      "외주 개발\n",
      "\n",
      "신입 개발자 채용\n",
      "\n",
      "회사\n",
      "\n",
      "강의 튜터 지원\n",
      "\n",
      "부트캠프 튜터 지원\n",
      "\n",
      "협력사 지원\n",
      "\n",
      "인재 채용\n",
      "\n",
      "채용중\n",
      "\n",
      "팀블로그\n",
      "\n",
      "개인정보처리방침\n",
      "\n",
      "서비스 이용약관\n",
      "\n",
      "환불 규정\n",
      "\n",
      "2022-23 올해의 브랜드 대상 코딩교육 부문 2년 연속 1위\n",
      "\n",
      "팀스파르타(주) 사업자 정보\n",
      "\n",
      "Copyright ©2022 TEAMSPARTA. All rights reserved.\n",
      "###\n",
      "\n",
      "7번째\n",
      "895\n",
      "<BLOTIE>는 외국인 학생이 가진 이런 문제를 해결하고, 보다 친밀하고 자유로운 글로벌 캠퍼스 문화를 조성하기 위해 만들어진 플랫폼입니다. ‘1:1 매칭 기능’으로 교내 외국인 학생과 한국인 학생을 쉽게 연결할 수 있어요. 서로의 문화와 언어를 자연스럽게 배우고 교류할 수 있습니다. 관심사, 언어 능력, 성격 등을 기반으로 이뤄지기 때문에 일회성 매칭에 대한 걱정도 줄어들어요. 매칭된 학생들은 플랫폼 내에서 ‘실시간 채팅과 피드 기능’으로 자유롭게 소통할 수 있고, 다양한 주제로 만남을 이어갈 수 있습니다.\n",
      "\n",
      "외국인은 한국어 실력을 향상할 수 있고 한국인은 외국어를 실생활에서 연습할 기회를 얻을 수 있어요. BLOTIE를 통해 캠퍼스 내에 보다 다양한 문화가 공존하고, 학생들 간의 유대감이 강화되고, 서로 다른 배경을 가진 학생들이 함께 성장할 수 있는 환경이 조성됩니다. 글로벌 사회에서 중요한 소통 능력을 기를 수 있는 문화의 장으로 쓰일 수 있겠죠!\n",
      "\n",
      "사용한 기술 스택\n",
      "\n",
      "FE(프론트엔드): Spring Boot, MySQL, Spring WebSocket\n",
      "\n",
      "BE(백엔드): React Native, TanStack Query, Axios\n",
      "\n",
      "코딩 공모전 수상작은 대학생들의 팀프로젝트를 통해 만들어진 웹/앱 서비스입니다. 캠퍼스에서의 문제를 해결하자는 참가자들의 아이디어에서 시작되었죠. 누구나 세상에 선보이고 싶은 나만의 아이디어와 기초 코딩 기술만 활용한다면, 얼마든지 서비스를 만들 수 있습니다. 스파르타코딩클럽의 내일배움캠프에서는 비전공, 초보자도 웹/앱 개발자로 거듭날 수 있는 다양한 트랙이 준비돼 있습니다. 나만의 아이디어를 세상에 선보이고 싶은 누구나에게 열려 있으니 주저말고 도전해 보세요.\n",
      "\n",
      "💡<All-in> 코딩 공모전에서 만든 다양한 서비스를 만나보고 싶다면?\n",
      "###\n",
      "\n",
      "8번째\n",
      "858\n",
      "🏆 대상\n",
      "\n",
      "[Lexi Note] 언어공부 필기 웹 서비스\n",
      "\n",
      "서비스 제작자: 다나와(김다애, 박나경)\n",
      "\n",
      "💡W는 어문학을 전공하는 대학생입니다. 매일 새로운 단어와 문장 구조를 공부하고 있지만, 효율적으로 학습하는 것이 쉽지 않았습니다. 단어의 의미를 찾기 위해 사전을 뒤적이고, 긴 문장을 이해하려고 번역기를 사용하다 보면, 필기 노트는 어느새 뒷전으로 밀려났거든요. 사전, 번역기, 원서, 필기노트를 왔다 갔다 하다 보면 시간이 다 지나가 버리곤 했죠.\n",
      "\n",
      "W와 같이 어문 전공생은 문법, 어휘, 문장 구조 등 다양한 자료를 학습해야 합니다. 여러 자료를 번갈아 학습하다보니 ‘사전-번역기-원서-필기노트’ 왕복으로 학습 효율이 나지 않아 고민인 경우도 많으실 거예요. <Lexi Note>는 단어를 드래그하면 네이버 사전으로 바로 연동 돼 단어의 의미를 찾으며 동시에 필기 할 수 있어요. 이외에도 번역 버튼을 누르면 파파고 번역기가 연동돼 긴 문장도 쉽게 이해할 수 있어요. 언어 학습에 필요한 할일 목록과 스케줄 템플릿을 제공하여 효율적으로 공부할 수 있습니다. 필기, 사전, 번역을 한번에 쉽고 편하게 이용할 수 있죠. 더 이상 시간 낭비 없이 효율적으로 어문학을 공부하며 학습 속도도 눈에 띄게 빨라질 수 있어요. 언어 공부의 복잡함을 단순하게 만들어주는 Lexi Note가 요긴한 학습 도우미가 되었기 때문입니다.\n",
      "\n",
      "사용한 기술 스택\n",
      "\n",
      "FE(프론트엔드): React, Tesseract.js, React-Quill, HTML, CSS, JavaScript\n",
      "\n",
      "BE(백엔드): Java, Spring Boot, MariaDB\n",
      "\n",
      "🎖️ 우수상\n",
      "\n",
      "[우리집 히어로즈] 벌레 퇴치 영웅 매칭 서비스\n",
      "\n",
      "서비스 제작자: 인트(배정연, 한지수)\n",
      "###\n",
      "\n",
      "9번째\n",
      "891\n",
      "사용한 기술 스택\n",
      "\n",
      "FE(프론트엔드): Spring Boot, Redis, MySQL\n",
      "\n",
      "BE(백엔드): SwiftUI Framework, OAuth 2.0\n",
      "\n",
      "🏅 입선\n",
      "\n",
      "[학교생활 매니저] 학교생활 관리 서비스\n",
      "\n",
      "서비스 제작자: 아이칼F4(조민제, 이민기, 강건, 박근우)\n",
      "\n",
      "💡A는 올해 복학한 3학년 학생입니다. 강의실과 도서관을 오가며 바쁜 일정을 소화하느라 정신이 없지만, 수업마다 나오는 과제와 각종 활동, 시험 준비까지 겹치면서 혼란에 빠지기 일쑤였습니다. 복학생이다 보니 학교에서 전달되는 공지사항도 제대로 전달받지 못해 항상 중요한 정보를 놓칠까 봐 걱정이었죠.\n",
      "\n",
      "<학교생활 매니저> 서비스는 학교 생활을 효율적으로 관리할 수 있도록 돕기 위해 개발된 관리 앱입니다. 일정과 과제 관리, 성적 예측, 학점 계산 등 캠퍼스 생활과 관련된 다양한 기능을 한 곳에서 관리할 수 있어요. ‘캘린더 기능’을 통해 학교 학사 일정과 개인 일정을 한눈에 확인할 수 있고, 날짜마다 해야 할 일을 To-Do List에 추가해 두면 중요한 과제나 시험 일정이 다가올 때마다 알림을 받아 놓치는 일이 없습니다. ‘공지사항 기능’을 통해 실시간으로 업데이트되는 학교 공지를 한 곳에서 확인할 수 있습니다. ‘시간표 기능’은 수업시간, 강의실, 교수님 정보 등을 한눈에 볼 수 있어 출결 관리도 확실하게 할 수 있어요.\n",
      "\n",
      "앱 내의 학점 계산기를 사용하면 성적이 그래프로 시각화되어 변화를 쉽게 파악할 수 있고, 앞으로의 성적 목표를 세우는 데에도 큰 도움이 됩니다. 예상 학점 기능을 통해 과목별 예상 등수와 학점을 미리 계산해 보며 학습 계획도 조정할 수 있어요. <학교생활 매니저>앱을 사용하면 체계적으로 대학 생활을 관리하고, 남은 학업과 일정을 효율적으로 관리할 수 있습니다.\n",
      "\n",
      "사용한 기술 스택\n",
      "###\n",
      "\n",
      "10번째\n",
      "862\n",
      "사용한 기술 스택\n",
      "\n",
      "FE(프론트엔드): React, Tesseract.js, React-Quill, HTML, CSS, JavaScript\n",
      "\n",
      "BE(백엔드): Java, Spring Boot, MariaDB\n",
      "\n",
      "🎖️ 우수상\n",
      "\n",
      "[우리집 히어로즈] 벌레 퇴치 영웅 매칭 서비스\n",
      "\n",
      "서비스 제작자: 인트(배정연, 한지수)\n",
      "\n",
      "💡C는 이번 학기 처음으로 자취를 시작했습니다. 원래부터 작은 벌레에 민감했던 C. 자취방에서 자주 나타나는 벌레들 때문에 밤잠을 설치길 반복했습니다. 밤마다 벌레를 잡으려고 애쓰던 C는 커뮤니티를 통해 다른 학생들도 같은 문제를 겪고 있다는 것을 알게 되었습니다. 하지만 커뮤니티에서 벌레 퇴치 히어로를 찾기 위해서는 내 개인 정보를 노출해야 한다는 점이 찝찝했죠.\n",
      "\n",
      "이 문제를 해결할 수 있는 방법이 바로 <우리집 히어로즈> 서비스입니다. 대학생 자취생들이 자취방에서 겪는 벌레 문제를 해결하기 위해 개발된 앱이죠. 벌레 퇴치가 필요한 사용자가 앱에 요청을 올리면 벌레 퇴치 히어로 학우와 매칭됩니다. 사용자 신원은 같은 학교 학생으로, 신원이 보장된 안전한 환경에서 이뤄지고 벌레를 퇴치해주는 히어로는 추가 수입을 얻을 수 있는 기회를 가집니다. 실시간 알림 기능을 통해 매칭이 이뤄지면 즉시 알림을 받을 수 있어 빠르게 문제를 해결할 수 있습니다. 벌레를 퇴치한 후 사용자는 서로를 평가할 수 있어요. 더 나은 서비스를 제공하거나 받을 수 있습니다.\n",
      "\n",
      "사용한 기술 스택\n",
      "\n",
      "FE(프론트엔드): React Native, Expo, Axios\n",
      "\n",
      "BE(백엔드): Spring Boot, Spring Security, MySQL, SSE, FCM, JWT, Postman\n",
      "\n",
      "🎖️ 우수상\n",
      "\n",
      "[에코 클래스룸] 수업 실시간 소통 서비스\n",
      "###\n",
      "\n"
     ]
    }
   ],
   "source": [
    "from langchain_community.document_loaders import UnstructuredURLLoader\n",
    "from langchain_text_splitters import RecursiveCharacterTextSplitter\n",
    "from langchain.schema import Document\n",
    "\n",
    "# url을 unstructuredURLLoader를 사용해 불러옵니다.\n",
    "# 해당 툴을 사용하면, 별다른 설정없이 url의 정보를 가져옵니다.\n",
    "url = \"https://spartacodingclub.kr/blog/all-in-challenge_winner\"\n",
    "loader = UnstructuredURLLoader(urls=[url])\n",
    "docs = loader.load()\n",
    "\n",
    "# 텍스트 분할기 설정\n",
    "text_splitter = RecursiveCharacterTextSplitter(\n",
    "    chunk_size=900,  # 각 청크의 최대 길이\n",
    "    chunk_overlap=300  # 청크 간 겹침 부분 최소화\n",
    ")\n",
    "\n",
    "# 문서 분할\n",
    "# recursive는 동일한 문서를 출력하는 경우가 있어, 아래처럼 list -> set -> list로 중복을 제거합니다.\n",
    "split_docs = text_splitter.split_documents(docs)\n",
    "splits = list(set([doc.page_content for doc in split_docs]))\n",
    "splits = [\n",
    "    Document(\n",
    "        metadata={'idx': i},\n",
    "        page_content=text_data\n",
    "    )\n",
    "        for i, text_data in enumerate(splits)\n",
    "]\n",
    "\n",
    "for i, doc in enumerate(splits):\n",
    "    print(f\"{i+1}번째\")\n",
    "    print(len(doc.page_content))\n",
    "    print(doc.page_content)\n",
    "    print(\"###\\n\")"
   ]
  },
  {
   "cell_type": "markdown",
   "metadata": {},
   "source": [
    "## 2 [My Code] Text Retrieval"
   ]
  },
  {
   "cell_type": "markdown",
   "metadata": {},
   "source": [
    "### 2.1 [My Code] Chroma Database \n",
    "\n",
    "- 코사인 유사도 방식으로 전체 문서에서 40%만 추출합니다."
   ]
  },
  {
   "cell_type": "code",
   "execution_count": 128,
   "metadata": {},
   "outputs": [
    {
     "data": {
      "text/plain": [
       "[Document(id='9168e6ca-eef1-46ff-888d-f5ef04af9f45', metadata={'idx': 4}, page_content=\"로그인\\n\\n로그아웃\\n\\n스파르타 소식\\n\\n'AII-in 코딩 공모전’ 수상작을 소개합니다\\n\\n조회수 454·6분 분량\\n\\n2024. 9. 3.\\n\\n코딩은 더 이상 개발자만의 영역이 아닙니다. 누구나 아이디어만 있다면 창의적인 서비스를 만들어 세상을 바꿀 수 있습니다. 스파르타코딩클럽에서는 이러한 가능성을 믿고, 누구나 코딩을 통해 자신의 아이디어를 실현하고 실제 문제를 해결하는 경험을 쌓을 수 있도록 다양한 프로그램을 마련하고 있습니다.\\n\\n<All-in> 코딩 공모전은 대학생들이 캠퍼스에서 겪은 불편함과 문제를 자신만의 아이디어로 해결해보는 대회였는데요. 이번 공모전에서 다양한 혁신적인 아이디어와 열정으로 가득한 수많은 프로젝트가 탄생했습니다. 그중 뛰어난 성과를 낸 수상작 6개를 소개합니다.\\n\\n🏆 대상\\n\\n[Lexi Note] 언어공부 필기 웹 서비스\\n\\n서비스 제작자: 다나와(김다애, 박나경)\\n\\n💡W는 어문학을 전공하는 대학생입니다. 매일 새로운 단어와 문장 구조를 공부하고 있지만, 효율적으로 학습하는 것이 쉽지 않았습니다. 단어의 의미를 찾기 위해 사전을 뒤적이고, 긴 문장을 이해하려고 번역기를 사용하다 보면, 필기 노트는 어느새 뒷전으로 밀려났거든요. 사전, 번역기, 원서, 필기노트를 왔다 갔다 하다 보면 시간이 다 지나가 버리곤 했죠.\"),\n",
       " Document(id='7c1002a3-003a-4631-ad0b-bcf244894523', metadata={'idx': 3}, page_content='💡<All-in> 코딩 공모전에서 만든 다양한 서비스를 만나보고 싶다면?\\n\\n다양한 서비스와 기발한 아이디어가 모인 곳에 초대합니다. 참가자들의 문제 해결방법이 궁금하시다면 지금 바로 ‘All-in 공모전’에서 만나보세요!\\n\\n👉🏻 공모전 결과물 보러가기\\n\\n누구나 큰일 낼 수 있어\\n\\n스파르타코딩클럽\\n\\n글 | 신수지 팀스파르타 에디터\\n\\n해당 콘텐츠는 저작권법에 의해 보호받는 저작물로 스파르타코딩클럽에 저작권이 있습니다. - 해당 콘텐츠는 사전 동의 없이 2차 가공 및 영리적인 이용을 금하고 있습니다.\\n\\n내용이 유익하셨다면? 공유하기\\n\\n다른 분들이 많이 읽은 글\\n\\n아티클\\n\\n2024 내일배움카드로 개발자 되는 방법 : 프론트엔드 백엔드 국비지원 개발자 과정 알아보기\\n\\n조회354·8분 분량\\n\\n아티클\\n\\n비전공자 웹개발 프론트엔드 : 비전공자가 개발자에 도전할 때 꼭 알아야 하는 것\\n\\n조회161·8분 분량\\n\\n고객센터\\n\\n홈페이지 우측 하단 [문의하기]를 통해\\n\\n1:1 채팅상담을 이용하실 수 있습니다.\\n\\n(전화상담을 원하시는 경우,\\n\\n채팅상담을 통해 신청부탁드립니다.)\\n\\n채팅 상담 운영시간 :\\n\\n월요일 14:00-17:30\\n\\n화~금요일 10:30-17:30\\n\\n(점심시간 12:30-14:00 / 주말,공휴일 휴무)\\n\\n서비스\\n\\n전체 강의\\n\\n국비지원 부트캠프\\n\\n국비지원 강의\\n\\n커뮤니티\\n\\n블로그\\n\\n이벤트\\n\\n수강생 작품\\n\\n패밀리 사이트\\n\\n항해99\\n\\nSW사관학교 정글\\n\\neasyGPT\\n\\n데일리스크럼툴 호이\\n\\nCRM자동화 에픽\\n\\n기업 서비스\\n\\n기업 교육\\n\\n외주 개발\\n\\n신입 개발자 채용\\n\\n회사\\n\\n강의 튜터 지원\\n\\n부트캠프 튜터 지원\\n\\n협력사 지원\\n\\n인재 채용\\n\\n채용중\\n\\n팀블로그\\n\\n개인정보처리방침\\n\\n서비스 이용약관\\n\\n환불 규정\\n\\n2022-23 올해의 브랜드 대상 코딩교육 부문 2년 연속 1위'),\n",
       " Document(id='e192f523-c32f-448a-932d-1ba9bbaeb017', metadata={'idx': 6}, page_content='<BLOTIE>는 외국인 학생이 가진 이런 문제를 해결하고, 보다 친밀하고 자유로운 글로벌 캠퍼스 문화를 조성하기 위해 만들어진 플랫폼입니다. ‘1:1 매칭 기능’으로 교내 외국인 학생과 한국인 학생을 쉽게 연결할 수 있어요. 서로의 문화와 언어를 자연스럽게 배우고 교류할 수 있습니다. 관심사, 언어 능력, 성격 등을 기반으로 이뤄지기 때문에 일회성 매칭에 대한 걱정도 줄어들어요. 매칭된 학생들은 플랫폼 내에서 ‘실시간 채팅과 피드 기능’으로 자유롭게 소통할 수 있고, 다양한 주제로 만남을 이어갈 수 있습니다.\\n\\n외국인은 한국어 실력을 향상할 수 있고 한국인은 외국어를 실생활에서 연습할 기회를 얻을 수 있어요. BLOTIE를 통해 캠퍼스 내에 보다 다양한 문화가 공존하고, 학생들 간의 유대감이 강화되고, 서로 다른 배경을 가진 학생들이 함께 성장할 수 있는 환경이 조성됩니다. 글로벌 사회에서 중요한 소통 능력을 기를 수 있는 문화의 장으로 쓰일 수 있겠죠!\\n\\n사용한 기술 스택\\n\\nFE(프론트엔드): Spring Boot, MySQL, Spring WebSocket\\n\\nBE(백엔드): React Native, TanStack Query, Axios\\n\\n코딩 공모전 수상작은 대학생들의 팀프로젝트를 통해 만들어진 웹/앱 서비스입니다. 캠퍼스에서의 문제를 해결하자는 참가자들의 아이디어에서 시작되었죠. 누구나 세상에 선보이고 싶은 나만의 아이디어와 기초 코딩 기술만 활용한다면, 얼마든지 서비스를 만들 수 있습니다. 스파르타코딩클럽의 내일배움캠프에서는 비전공, 초보자도 웹/앱 개발자로 거듭날 수 있는 다양한 트랙이 준비돼 있습니다. 나만의 아이디어를 세상에 선보이고 싶은 누구나에게 열려 있으니 주저말고 도전해 보세요.\\n\\n💡<All-in> 코딩 공모전에서 만든 다양한 서비스를 만나보고 싶다면?'),\n",
       " Document(id='d3337f8c-352e-468d-abe6-820c9c54d49e', metadata={'idx': 7}, page_content='🏆 대상\\n\\n[Lexi Note] 언어공부 필기 웹 서비스\\n\\n서비스 제작자: 다나와(김다애, 박나경)\\n\\n💡W는 어문학을 전공하는 대학생입니다. 매일 새로운 단어와 문장 구조를 공부하고 있지만, 효율적으로 학습하는 것이 쉽지 않았습니다. 단어의 의미를 찾기 위해 사전을 뒤적이고, 긴 문장을 이해하려고 번역기를 사용하다 보면, 필기 노트는 어느새 뒷전으로 밀려났거든요. 사전, 번역기, 원서, 필기노트를 왔다 갔다 하다 보면 시간이 다 지나가 버리곤 했죠.\\n\\nW와 같이 어문 전공생은 문법, 어휘, 문장 구조 등 다양한 자료를 학습해야 합니다. 여러 자료를 번갈아 학습하다보니 ‘사전-번역기-원서-필기노트’ 왕복으로 학습 효율이 나지 않아 고민인 경우도 많으실 거예요. <Lexi Note>는 단어를 드래그하면 네이버 사전으로 바로 연동 돼 단어의 의미를 찾으며 동시에 필기 할 수 있어요. 이외에도 번역 버튼을 누르면 파파고 번역기가 연동돼 긴 문장도 쉽게 이해할 수 있어요. 언어 학습에 필요한 할일 목록과 스케줄 템플릿을 제공하여 효율적으로 공부할 수 있습니다. 필기, 사전, 번역을 한번에 쉽고 편하게 이용할 수 있죠. 더 이상 시간 낭비 없이 효율적으로 어문학을 공부하며 학습 속도도 눈에 띄게 빨라질 수 있어요. 언어 공부의 복잡함을 단순하게 만들어주는 Lexi Note가 요긴한 학습 도우미가 되었기 때문입니다.\\n\\n사용한 기술 스택\\n\\nFE(프론트엔드): React, Tesseract.js, React-Quill, HTML, CSS, JavaScript\\n\\nBE(백엔드): Java, Spring Boot, MariaDB\\n\\n🎖️ 우수상\\n\\n[우리집 히어로즈] 벌레 퇴치 영웅 매칭 서비스\\n\\n서비스 제작자: 인트(배정연, 한지수)')]"
      ]
     },
     "execution_count": 128,
     "metadata": {},
     "output_type": "execute_result"
    }
   ],
   "source": [
    "from langchain_chroma import Chroma\n",
    "from langchain_openai import OpenAIEmbeddings\n",
    "\n",
    "# OpenAI Embeddings 초기화\n",
    "# https://platform.openai.com/docs/guides/embeddings\n",
    "embeddings = OpenAIEmbeddings(\n",
    "    api_key=openai.api_key,\n",
    "    model=\"text-embedding-3-small\"\n",
    ")\n",
    "\n",
    "# Chroma 벡터 저장소 생성 및 로컬 저장 경로 지정\n",
    "vectorstore = Chroma.from_documents(\n",
    "    documents=splits,\n",
    "    embedding=embeddings,\n",
    "    collection_name=\"my_db\"\n",
    ")\n",
    "\n",
    "# 전체 문서의 40%를 출력합니다.\n",
    "chroma_retriever = vectorstore.as_retriever(\n",
    "    search_type='similarity',\n",
    "    search_kwargs={'k': int(len(splits) * 0.4)}\n",
    ")\n",
    "\n",
    "user_msg = \"ALL-in 코딩 공모전 수상작들을 요약해줘.\"\n",
    "retrieved_docs = chroma_retriever.invoke(user_msg)\n",
    "retrieved_docs"
   ]
  },
  {
   "cell_type": "markdown",
   "metadata": {},
   "source": [
    "### 2.2 [My Code] 임베딩 정보\n",
    "\n",
    "- openai 모델 중 text-embedding-3-small로 임베딩을 하였습니다.\n",
    "\n",
    "- 차원 수는 1536입니다."
   ]
  },
  {
   "cell_type": "code",
   "execution_count": 129,
   "metadata": {},
   "outputs": [
    {
     "name": "stdout",
     "output_type": "stream",
     "text": [
      "사용하는 임베딩 모델: text-embedding-3-small\n",
      "(문서 수, 차원) =  (10, 1536)\n",
      "임베딩 표현 :  [-0.01972526  0.01340087 -0.02550267 ... -0.00026832  0.00123639\n",
      "  0.00204546]\n",
      "쿼리 임베딩 결과: 1536 차원\n"
     ]
    }
   ],
   "source": [
    "# https://stackoverflow.com/questions/76482987/chroma-database-embeddings-none-when-using-get\n",
    "# embedding 정보를 보기 위해선 아래처럼 include 에 인자로 embeddings를 넣어줘야 합니다.\n",
    "# 벡터 개수 확인\n",
    "vector_count = vectorstore._collection.count()\n",
    "\n",
    "# query의 임베딩 결과를 표시합니다\n",
    "query_vector = embeddings.embed_query(user_msg)\n",
    "\n",
    "print(\"사용하는 임베딩 모델:\", embeddings.model)\n",
    "print(\"(문서 수, 차원) = \", vectorstore.get(include=['embeddings'])['embeddings'].shape)\n",
    "print(\"임베딩 표현 : \", vectorstore.get(include=['embeddings'])['embeddings'][0])\n",
    "print(f\"쿼리 임베딩 결과: {len(query_vector)} 차원\")"
   ]
  },
  {
   "cell_type": "markdown",
   "metadata": {},
   "source": [
    "### 2.3 [My Code] 벡터 임베딩 시각화\n",
    "\n",
    "- 아래는 문서와 query를 임베딩한 것을 umap을 통해 시각화해보는 과정입니다.\n",
    "\n",
    "- umap은 비선형적 차원 축소 방법입니다.\n",
    "\n",
    "- umap을 기반으로 query 근방의 doc과 retrieve 된 docs가 얼마나 일치하는지 확인해볼 것입니다.\n",
    "\n",
    "- [Feedback] 코사인 유사도 기반으로 추출된 문서는 4,3,6,7번인데, 아래 시각화 정보에 따르면 5번도 포함되어야 하는 것 같습니다. umap이 차원축소하는 과정에서 코사인 유사도를 대표하지 못한 결과인 것 같은데 이에 대한 자세한 설명을 들을 수 있으면 좋겠습니다. "
   ]
  },
  {
   "cell_type": "code",
   "execution_count": 114,
   "metadata": {},
   "outputs": [
    {
     "name": "stderr",
     "output_type": "stream",
     "text": [
      "/home/paradeigma/workspace/python/sparta_coding/.env/lib/python3.9/site-packages/sklearn/utils/deprecation.py:151: FutureWarning: 'force_all_finite' was renamed to 'ensure_all_finite' in 1.6 and will be removed in 1.8.\n",
      "  warnings.warn(\n",
      "/home/paradeigma/workspace/python/sparta_coding/.env/lib/python3.9/site-packages/umap/umap_.py:1952: UserWarning: n_jobs value 1 overridden to 1 by setting random_state. Use no seed for parallelism.\n",
      "  warn(\n",
      "/home/paradeigma/workspace/python/sparta_coding/.env/lib/python3.9/site-packages/umap/umap_.py:2462: UserWarning: n_neighbors is larger than the dataset size; truncating to X.shape[0] - 1\n",
      "  warn(\n"
     ]
    },
    {
     "data": {
      "image/png": "[encoded data removed]",
      "text/plain": [
       "<Figure size 640x480 with 1 Axes>"
      ]
     },
     "metadata": {},
     "output_type": "display_data"
    }
   ],
   "source": [
    "# 벡터 스토어와 query의 임베딩 결과를 시각화할 예정입니다. \n",
    "# query에서 근접한 점들과 retrieval을 통해 추출된 문서가 어느정도 일치하는지 확인해보겠습니다. \n",
    "import umap\n",
    "import numpy as np\n",
    "import matplotlib.pyplot as plt\n",
    "\n",
    "# 모든 문서의 벡터 가져오기\n",
    "doc_embeddings = vectorstore._collection.get(include=['embeddings'])[\"embeddings\"]\n",
    "embeddings_2d = np.concatenate([doc_embeddings, np.array(query_vector).reshape(1,-1)], axis=0)\n",
    "\n",
    "# UMAP으로 2D 변환\n",
    "# PCA는 선형적 방법으로 차원을 축소한다면, umap은 비선형적 방법으로 차원을 축소합니다. \n",
    "reducer = umap.UMAP(n_components=2, random_state=42)\n",
    "documents_projected = reducer.fit_transform(embeddings_2d)\n",
    "\n",
    "# 문서별로 점과 텍스트 추가\n",
    "for i, doc in enumerate(splits):\n",
    "    x, y = documents_projected[i]\n",
    "    plt.scatter(x, y, alpha=0.7)\n",
    "    plt.text(x+0.05, y+0.05, f\"{i+1}\", fontsize=10, ha='right') \n",
    "\n",
    "# 사용자 쿼리 표시\n",
    "query_x, query_y = documents_projected[-1]\n",
    "plt.scatter(query_x, query_y, color=\"red\", label=\"User Query\", marker=\"*\", s=200)\n",
    "plt.text(query_x+0.05, query_y+0.05, \"Query\", fontsize=10, color=\"red\", ha='right')  \n",
    "\n",
    "# 그래프 설정\n",
    "plt.title(\"2D Projection of Embeddings using UMAP\")\n",
    "plt.xlabel(\"UMAP Dimension 1\")\n",
    "plt.ylabel(\"UMAP Dimension 2\")\n",
    "plt.legend(loc=\"best\")\n",
    "plt.show()\n"
   ]
  },
  {
   "cell_type": "markdown",
   "metadata": {},
   "source": [
    "## 3 [My Code] Conclusion\n",
    "\n",
    "- 6가지 입선작 중에서 2가지만 나온 것으로 확인이 됩니다.\n",
    "\n",
    "- 전체 문서량 자체가 작은데, 거기에서 일부를 추출하는 과정에서 정보가 많이 탈락한 것으로 결론을 내릴 수 있습니다. \n",
    "\n",
    "- 최근 만능 rag론이 대두되고 있는데, 문서를 어떻게 전처리 할 것인지, 그리고 어떻게 잘 검색할 것인지를 다듬지 않고선 무딘 칼과 같다고 할 수 있습니다. "
   ]
  },
  {
   "cell_type": "code",
   "execution_count": 130,
   "metadata": {},
   "outputs": [
    {
     "name": "stderr",
     "output_type": "stream",
     "text": [
      "/home/paradeigma/workspace/python/sparta_coding/.env/lib/python3.9/site-packages/langsmith/client.py:256: LangSmithMissingAPIKeyWarning: API key must be provided when using hosted LangSmith API\n",
      "  warnings.warn(\n"
     ]
    },
    {
     "name": "stdout",
     "output_type": "stream",
     "text": [
      "'ALL-in 코딩 공모전'에서는 대학생들이 캠퍼스에서 겪는 문제를 해결하기 위한 다양한 프로젝트가 출품되었습니다. 수상작 중 하나인 'Lexi Note'는 언어 학습을 효율적으로 도와주는 웹 서비스로, 단어 검색과 필기를 동시에 수행할 수 있습니다. 또한 '우리집 히어로즈'는 벌레 퇴치 서비스를 매칭하는 플랫폼으로, 여러 혁신적인 아이디어들이 주목받았습니다."
     ]
    }
   ],
   "source": [
    "from langchain import hub\n",
    "\n",
    "def format_docs(docs):\n",
    "    return \"\\n\\n\".join(doc.page_content for doc in docs)\n",
    "\n",
    "prompt = hub.pull(\"rlm/rag-prompt\")\n",
    "user_prompt = prompt.invoke({\"context\": format_docs(retrieved_docs), \"question\": user_msg})\n",
    "response = llm.invoke(user_prompt)"
   ]
  },
  {
   "cell_type": "code",
   "execution_count": 132,
   "metadata": {},
   "outputs": [
    {
     "data": {
      "application/vnd.jupyter.widget-view+json": {
       "model_id": "7a6862009233490aaa27295a1794a355",
       "version_major": 2,
       "version_minor": 0
      },
      "text/plain": [
       "modules.json:   0%|          | 0.00/229 [00:00<?, ?B/s]"
      ]
     },
     "metadata": {},
     "output_type": "display_data"
    },
    {
     "data": {
      "application/vnd.jupyter.widget-view+json": {
       "model_id": "09085ebeca6845f781364859d58d959d",
       "version_major": 2,
       "version_minor": 0
      },
      "text/plain": [
       "config_sentence_transformers.json:   0%|          | 0.00/124 [00:00<?, ?B/s]"
      ]
     },
     "metadata": {},
     "output_type": "display_data"
    },
    {
     "data": {
      "application/vnd.jupyter.widget-view+json": {
       "model_id": "1afddba572ca45a1835c9dc026a1897f",
       "version_major": 2,
       "version_minor": 0
      },
      "text/plain": [
       "README.md:   0%|          | 0.00/4.02k [00:00<?, ?B/s]"
      ]
     },
     "metadata": {},
     "output_type": "display_data"
    },
    {
     "data": {
      "application/vnd.jupyter.widget-view+json": {
       "model_id": "4f6f33764c7344c3afe075453638376b",
       "version_major": 2,
       "version_minor": 0
      },
      "text/plain": [
       "sentence_bert_config.json:   0%|          | 0.00/53.0 [00:00<?, ?B/s]"
      ]
     },
     "metadata": {},
     "output_type": "display_data"
    },
    {
     "data": {
      "application/vnd.jupyter.widget-view+json": {
       "model_id": "c65ce0c9040b4acc9e38bca49393bc1d",
       "version_major": 2,
       "version_minor": 0
      },
      "text/plain": [
       "config.json:   0%|          | 0.00/707 [00:00<?, ?B/s]"
      ]
     },
     "metadata": {},
     "output_type": "display_data"
    },
    {
     "data": {
      "application/vnd.jupyter.widget-view+json": {
       "model_id": "a9e04a9b8c0e4056ad637cb5caede0d4",
       "version_major": 2,
       "version_minor": 0
      },
      "text/plain": [
       "pytorch_model.bin:   0%|          | 0.00/467M [00:00<?, ?B/s]"
      ]
     },
     "metadata": {},
     "output_type": "display_data"
    },
    {
     "data": {
      "application/vnd.jupyter.widget-view+json": {
       "model_id": "b1fd566f5c284ce49ce3db0664e61fe3",
       "version_major": 2,
       "version_minor": 0
      },
      "text/plain": [
       "tokenizer_config.json:   0%|          | 0.00/394 [00:00<?, ?B/s]"
      ]
     },
     "metadata": {},
     "output_type": "display_data"
    },
    {
     "data": {
      "application/vnd.jupyter.widget-view+json": {
       "model_id": "4ba0cde7515a49fe90f8ab83fb201b24",
       "version_major": 2,
       "version_minor": 0
      },
      "text/plain": [
       "vocab.txt:   0%|          | 0.00/336k [00:00<?, ?B/s]"
      ]
     },
     "metadata": {},
     "output_type": "display_data"
    },
    {
     "data": {
      "application/vnd.jupyter.widget-view+json": {
       "model_id": "be975e3305144905ac0e6606450e85ea",
       "version_major": 2,
       "version_minor": 0
      },
      "text/plain": [
       "tokenizer.json:   0%|          | 0.00/967k [00:00<?, ?B/s]"
      ]
     },
     "metadata": {},
     "output_type": "display_data"
    },
    {
     "data": {
      "application/vnd.jupyter.widget-view+json": {
       "model_id": "f4ddbec1a3af4bb58ea8c815f46d8e7d",
       "version_major": 2,
       "version_minor": 0
      },
      "text/plain": [
       "model.safetensors:   0%|          | 0.00/467M [00:00<?, ?B/s]"
      ]
     },
     "metadata": {},
     "output_type": "display_data"
    },
    {
     "data": {
      "application/vnd.jupyter.widget-view+json": {
       "model_id": "82ffd4c6207c46d79b0f1db1d2832d9e",
       "version_major": 2,
       "version_minor": 0
      },
      "text/plain": [
       "special_tokens_map.json:   0%|          | 0.00/112 [00:00<?, ?B/s]"
      ]
     },
     "metadata": {},
     "output_type": "display_data"
    },
    {
     "data": {
      "application/vnd.jupyter.widget-view+json": {
       "model_id": "020ae8b0422d4ca88a5539c235b97460",
       "version_major": 2,
       "version_minor": 0
      },
      "text/plain": [
       "1_Pooling/config.json:   0%|          | 0.00/190 [00:00<?, ?B/s]"
      ]
     },
     "metadata": {},
     "output_type": "display_data"
    }
   ],
   "source": [
    "from langchain.embeddings.huggingface import HuggingFaceEmbeddings\n",
    "# from langchain.vectorstores import FAISS\n",
    "# from langchain_community.vectorstores.utils import DistanceStrategy\n",
    "\n",
    "embedding_model_name = \"snunlp/KR-SBERT-V40K-klueNLI-augSTS\"\n",
    "embedding_model = HuggingFaceEmbeddings(\n",
    "    model_name=embedding_model_name,\n",
    "    encode_kwargs={\"normalize_embeddings\": True},\n",
    ")"
   ]
  },
  {
   "cell_type": "code",
   "execution_count": 133,
   "metadata": {},
   "outputs": [],
   "source": [
    "# url을 unstructuredURLLoader를 사용해 불러옵니다.\n",
    "# 해당 툴을 사용하면, 별다른 설정없이 url의 정보를 가져옵니다.\n",
    "url = \"https://spartacodingclub.kr/blog/all-in-challenge_winner\"\n",
    "loader = UnstructuredURLLoader(urls=[url])\n",
    "docs = loader.load()\n",
    "\n",
    "# 텍스트 분할기 설정\n",
    "text_splitter = RecursiveCharacterTextSplitter(\n",
    "    chunk_size=900,  # 각 청크의 최대 길이\n",
    "    chunk_overlap=300  # 청크 간 겹침 부분 최소화\n",
    ")\n",
    "\n",
    "# 문서 분할\n",
    "# recursive는 동일한 문서를 출력하는 경우가 있어, 아래처럼 list -> set -> list로 중복을 제거합니다.\n",
    "split_docs = text_splitter.split_documents(docs)\n",
    "splits = list(set([doc.page_content for doc in split_docs]))\n",
    "splits = [\n",
    "    Document(\n",
    "        metadata={'idx': i},\n",
    "        page_content=text_data\n",
    "    )\n",
    "        for i, text_data in enumerate(splits)\n",
    "]\n"
   ]
  },
  {
   "cell_type": "code",
   "execution_count": 137,
   "metadata": {},
   "outputs": [
    {
     "data": {
      "text/plain": [
       "[Document(id='7e0ab2ff-f7ef-4b8f-9bd7-77a2ae08057c', metadata={'idx': 4}, page_content=\"로그인\\n\\n로그아웃\\n\\n스파르타 소식\\n\\n'AII-in 코딩 공모전’ 수상작을 소개합니다\\n\\n조회수 454·6분 분량\\n\\n2024. 9. 3.\\n\\n코딩은 더 이상 개발자만의 영역이 아닙니다. 누구나 아이디어만 있다면 창의적인 서비스를 만들어 세상을 바꿀 수 있습니다. 스파르타코딩클럽에서는 이러한 가능성을 믿고, 누구나 코딩을 통해 자신의 아이디어를 실현하고 실제 문제를 해결하는 경험을 쌓을 수 있도록 다양한 프로그램을 마련하고 있습니다.\\n\\n<All-in> 코딩 공모전은 대학생들이 캠퍼스에서 겪은 불편함과 문제를 자신만의 아이디어로 해결해보는 대회였는데요. 이번 공모전에서 다양한 혁신적인 아이디어와 열정으로 가득한 수많은 프로젝트가 탄생했습니다. 그중 뛰어난 성과를 낸 수상작 6개를 소개합니다.\\n\\n🏆 대상\\n\\n[Lexi Note] 언어공부 필기 웹 서비스\\n\\n서비스 제작자: 다나와(김다애, 박나경)\\n\\n💡W는 어문학을 전공하는 대학생입니다. 매일 새로운 단어와 문장 구조를 공부하고 있지만, 효율적으로 학습하는 것이 쉽지 않았습니다. 단어의 의미를 찾기 위해 사전을 뒤적이고, 긴 문장을 이해하려고 번역기를 사용하다 보면, 필기 노트는 어느새 뒷전으로 밀려났거든요. 사전, 번역기, 원서, 필기노트를 왔다 갔다 하다 보면 시간이 다 지나가 버리곤 했죠.\"),\n",
       " Document(id='6e469c38-54f8-499e-8aba-ff0a3afb9594', metadata={'idx': 3}, page_content='💡<All-in> 코딩 공모전에서 만든 다양한 서비스를 만나보고 싶다면?\\n\\n다양한 서비스와 기발한 아이디어가 모인 곳에 초대합니다. 참가자들의 문제 해결방법이 궁금하시다면 지금 바로 ‘All-in 공모전’에서 만나보세요!\\n\\n👉🏻 공모전 결과물 보러가기\\n\\n누구나 큰일 낼 수 있어\\n\\n스파르타코딩클럽\\n\\n글 | 신수지 팀스파르타 에디터\\n\\n해당 콘텐츠는 저작권법에 의해 보호받는 저작물로 스파르타코딩클럽에 저작권이 있습니다. - 해당 콘텐츠는 사전 동의 없이 2차 가공 및 영리적인 이용을 금하고 있습니다.\\n\\n내용이 유익하셨다면? 공유하기\\n\\n다른 분들이 많이 읽은 글\\n\\n아티클\\n\\n2024 내일배움카드로 개발자 되는 방법 : 프론트엔드 백엔드 국비지원 개발자 과정 알아보기\\n\\n조회354·8분 분량\\n\\n아티클\\n\\n비전공자 웹개발 프론트엔드 : 비전공자가 개발자에 도전할 때 꼭 알아야 하는 것\\n\\n조회161·8분 분량\\n\\n고객센터\\n\\n홈페이지 우측 하단 [문의하기]를 통해\\n\\n1:1 채팅상담을 이용하실 수 있습니다.\\n\\n(전화상담을 원하시는 경우,\\n\\n채팅상담을 통해 신청부탁드립니다.)\\n\\n채팅 상담 운영시간 :\\n\\n월요일 14:00-17:30\\n\\n화~금요일 10:30-17:30\\n\\n(점심시간 12:30-14:00 / 주말,공휴일 휴무)\\n\\n서비스\\n\\n전체 강의\\n\\n국비지원 부트캠프\\n\\n국비지원 강의\\n\\n커뮤니티\\n\\n블로그\\n\\n이벤트\\n\\n수강생 작품\\n\\n패밀리 사이트\\n\\n항해99\\n\\nSW사관학교 정글\\n\\neasyGPT\\n\\n데일리스크럼툴 호이\\n\\nCRM자동화 에픽\\n\\n기업 서비스\\n\\n기업 교육\\n\\n외주 개발\\n\\n신입 개발자 채용\\n\\n회사\\n\\n강의 튜터 지원\\n\\n부트캠프 튜터 지원\\n\\n협력사 지원\\n\\n인재 채용\\n\\n채용중\\n\\n팀블로그\\n\\n개인정보처리방침\\n\\n서비스 이용약관\\n\\n환불 규정\\n\\n2022-23 올해의 브랜드 대상 코딩교육 부문 2년 연속 1위'),\n",
       " Document(id='71a82d6d-7165-4962-9257-bb6efb43751d', metadata={'idx': 0}, page_content='앱 내의 학점 계산기를 사용하면 성적이 그래프로 시각화되어 변화를 쉽게 파악할 수 있고, 앞으로의 성적 목표를 세우는 데에도 큰 도움이 됩니다. 예상 학점 기능을 통해 과목별 예상 등수와 학점을 미리 계산해 보며 학습 계획도 조정할 수 있어요. <학교생활 매니저>앱을 사용하면 체계적으로 대학 생활을 관리하고, 남은 학업과 일정을 효율적으로 관리할 수 있습니다.\\n\\n사용한 기술 스택\\n\\nFE(프론트엔드): Flutter\\n\\nBE(백엔드): Firebase\\n\\n🏅 입선\\n\\n[BLOTIE] 교내 외국인X내국인 매칭 및 교류 플랫폼\\n\\n서비스 제작자: 블로티(이은주, 한명수, 황준영)\\n\\n💡F는 T대학에 교환학생으로 온 외국인입니다. K팝 문화가 좋아 한국에 왔지만, 말도 잘 통하지 않고 문화 차이도 있어서 한국 캠퍼스 생활이 쉽지만은 않은데요. 한국어로 수업을 듣고 한국 친구도 사귀고 싶지만 한국 대학의 학사 일정과 과제 등 여러 시스템이 달라서 적응하기 어려웠습니다. 한국어가 서툴다보니 수업에서 제공되는 다양한 정보를 이해하기 어려웠고, 중요한 공지사항을 놓치기도 했습니다. 한국인 친구를 먼저 사귀는 것이 급선무라고 생각했죠.\\n\\n<BLOTIE>는 외국인 학생이 가진 이런 문제를 해결하고, 보다 친밀하고 자유로운 글로벌 캠퍼스 문화를 조성하기 위해 만들어진 플랫폼입니다. ‘1:1 매칭 기능’으로 교내 외국인 학생과 한국인 학생을 쉽게 연결할 수 있어요. 서로의 문화와 언어를 자연스럽게 배우고 교류할 수 있습니다. 관심사, 언어 능력, 성격 등을 기반으로 이뤄지기 때문에 일회성 매칭에 대한 걱정도 줄어들어요. 매칭된 학생들은 플랫폼 내에서 ‘실시간 채팅과 피드 기능’으로 자유롭게 소통할 수 있고, 다양한 주제로 만남을 이어갈 수 있습니다.'),\n",
       " Document(id='089f5373-f995-45f9-8566-7cdf65fbd75f', metadata={'idx': 8}, page_content='사용한 기술 스택\\n\\nFE(프론트엔드): Spring Boot, Redis, MySQL\\n\\nBE(백엔드): SwiftUI Framework, OAuth 2.0\\n\\n🏅 입선\\n\\n[학교생활 매니저] 학교생활 관리 서비스\\n\\n서비스 제작자: 아이칼F4(조민제, 이민기, 강건, 박근우)\\n\\n💡A는 올해 복학한 3학년 학생입니다. 강의실과 도서관을 오가며 바쁜 일정을 소화하느라 정신이 없지만, 수업마다 나오는 과제와 각종 활동, 시험 준비까지 겹치면서 혼란에 빠지기 일쑤였습니다. 복학생이다 보니 학교에서 전달되는 공지사항도 제대로 전달받지 못해 항상 중요한 정보를 놓칠까 봐 걱정이었죠.\\n\\n<학교생활 매니저> 서비스는 학교 생활을 효율적으로 관리할 수 있도록 돕기 위해 개발된 관리 앱입니다. 일정과 과제 관리, 성적 예측, 학점 계산 등 캠퍼스 생활과 관련된 다양한 기능을 한 곳에서 관리할 수 있어요. ‘캘린더 기능’을 통해 학교 학사 일정과 개인 일정을 한눈에 확인할 수 있고, 날짜마다 해야 할 일을 To-Do List에 추가해 두면 중요한 과제나 시험 일정이 다가올 때마다 알림을 받아 놓치는 일이 없습니다. ‘공지사항 기능’을 통해 실시간으로 업데이트되는 학교 공지를 한 곳에서 확인할 수 있습니다. ‘시간표 기능’은 수업시간, 강의실, 교수님 정보 등을 한눈에 볼 수 있어 출결 관리도 확실하게 할 수 있어요.\\n\\n앱 내의 학점 계산기를 사용하면 성적이 그래프로 시각화되어 변화를 쉽게 파악할 수 있고, 앞으로의 성적 목표를 세우는 데에도 큰 도움이 됩니다. 예상 학점 기능을 통해 과목별 예상 등수와 학점을 미리 계산해 보며 학습 계획도 조정할 수 있어요. <학교생활 매니저>앱을 사용하면 체계적으로 대학 생활을 관리하고, 남은 학업과 일정을 효율적으로 관리할 수 있습니다.\\n\\n사용한 기술 스택')]"
      ]
     },
     "execution_count": 137,
     "metadata": {},
     "output_type": "execute_result"
    }
   ],
   "source": [
    "# Chroma 벡터 저장소 생성 및 로컬 저장 경로 지정\n",
    "vectorstore = Chroma.from_documents(\n",
    "    documents=splits,\n",
    "    embedding=embedding_model,\n",
    "    collection_name=\"my_db_local_embeddings\"\n",
    ")\n",
    "\n",
    "# 전체 문서의 40%를 출력합니다.\n",
    "chroma_retriever = vectorstore.as_retriever(\n",
    "    search_type='similarity',\n",
    "    search_kwargs={'k': int(len(splits) * 0.4)}\n",
    ")\n",
    "\n",
    "user_msg = \"ALL-in 코딩 공모전 수상작들을 요약해줘.\"\n",
    "retrieved_docs = chroma_retriever.invoke(user_msg)\n",
    "retrieved_docs"
   ]
  },
  {
   "cell_type": "code",
   "execution_count": null,
   "metadata": {},
   "outputs": [],
   "source": [
    "from langchain.llms import HuggingFacePipeline"
   ]
  },
  {
   "cell_type": "code",
   "execution_count": null,
   "metadata": {},
   "outputs": [],
   "source": [
    "from langchain import hub\n",
    "\n",
    "def format_docs(docs):\n",
    "    return \"\\n\\n\".join(doc.page_content for doc in docs)\n",
    "\n",
    "prompt = hub.pull(\"rlm/rag-prompt\")\n",
    "user_prompt = prompt.invoke({\"context\": format_docs(retrieved_docs), \"question\": user_msg})\n",
    "response = llm.invoke(user_prompt)"
   ]
  }
 ],
 "metadata": {
  "kernelspec": {
   "display_name": ".env",
   "language": "python",
   "name": "python3"
  },
  "language_info": {
   "codemirror_mode": {
    "name": "ipython",
    "version": 3
   },
   "file_extension": ".py",
   "mimetype": "text/x-python",
   "name": "python",
   "nbconvert_exporter": "python",
   "pygments_lexer": "ipython3",
   "version": "3.9.21"
  }
 },
 "nbformat": 4,
 "nbformat_minor": 2
}
